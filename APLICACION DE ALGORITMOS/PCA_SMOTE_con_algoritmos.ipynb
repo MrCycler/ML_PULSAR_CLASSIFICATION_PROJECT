{
  "nbformat": 4,
  "nbformat_minor": 0,
  "metadata": {
    "colab": {
      "name": "PCA_SMOTE_con_algoritmos.ipynb",
      "version": "0.3.2",
      "provenance": [],
      "collapsed_sections": [],
      "toc_visible": true
    },
    "kernelspec": {
      "name": "python3",
      "display_name": "Python 3"
    }
  },
  "cells": [
    {
      "cell_type": "code",
      "metadata": {
        "id": "t2DfN55dO58U",
        "colab_type": "code",
        "colab": {}
      },
      "source": [
        "#Importación de librerías\n",
        "try:\n",
        "  \n",
        "  #Para usar colab\n",
        "  from google.colab import drive\n",
        "  drive.mount('/content/drive')\n",
        "  \n",
        "  import numpy as np\n",
        "  import pandas as pd\n",
        "  \n",
        "except:\n",
        "  \n",
        "  import numpy as np\n",
        "  import pandas as pd\n",
        "\n",
        "import matplotlib.pyplot as plt\n",
        "plt.style.use('classic')\n",
        "%matplotlib inline\n",
        "\n",
        "import seaborn as sns\n",
        "sns.set()"
      ],
      "execution_count": 0,
      "outputs": []
    },
    {
      "cell_type": "code",
      "metadata": {
        "id": "eA0rHuMtPCX5",
        "colab_type": "code",
        "colab": {}
      },
      "source": [
        "#Lectura de datos\n",
        "try:\n",
        "  #Caso en que se este usando jupyter notebooks\n",
        "  data_pulsar = pd.read_csv('HTRU_2_con_header.csv')\n",
        "except:\n",
        "  #Caso en que se use colab, cambiar directorio de acuerdo al drive\n",
        "  dir_str ='drive/My Drive/CURSOS - MAESTRIA/APRENDIZAJE AUTOMÁTICO/MACHINE LEARNING - PROYECTO/ML_PULSAR_CLASSIFICATION_PROJECT/PREPROCESAMIENTO DE DATA/HTRU_2_sin_header.csv'\n",
        "  #Se definen  los headers\n",
        "  head = ['mean_IP', 'std_IP','kurt_IP','skew_IP','mean_DM', 'std_DM','kurt_DM','skew_DM','is_pulsar']\n",
        "  #Lectura de la data\n",
        "  data_pulsar = pd.read_csv(dir_str,header=None, names=head)"
      ],
      "execution_count": 0,
      "outputs": []
    },
    {
      "cell_type": "markdown",
      "metadata": {
        "id": "rpD_LaRRPXhk",
        "colab_type": "text"
      },
      "source": [
        "# PCA y SMOTE"
      ]
    },
    {
      "cell_type": "code",
      "metadata": {
        "id": "msbbA6ZNP1yo",
        "colab_type": "code",
        "outputId": "ca819e5f-5388-4586-895e-bdbe94feefb2",
        "colab": {
          "base_uri": "https://localhost:8080/",
          "height": 197
        }
      },
      "source": [
        "data_pulsar.head() ##Visualización de los datos"
      ],
      "execution_count": 0,
      "outputs": [
        {
          "output_type": "execute_result",
          "data": {
            "text/html": [
              "<div>\n",
              "<style scoped>\n",
              "    .dataframe tbody tr th:only-of-type {\n",
              "        vertical-align: middle;\n",
              "    }\n",
              "\n",
              "    .dataframe tbody tr th {\n",
              "        vertical-align: top;\n",
              "    }\n",
              "\n",
              "    .dataframe thead th {\n",
              "        text-align: right;\n",
              "    }\n",
              "</style>\n",
              "<table border=\"1\" class=\"dataframe\">\n",
              "  <thead>\n",
              "    <tr style=\"text-align: right;\">\n",
              "      <th></th>\n",
              "      <th>mean_IP</th>\n",
              "      <th>std_IP</th>\n",
              "      <th>kurt_IP</th>\n",
              "      <th>skew_IP</th>\n",
              "      <th>mean_DM</th>\n",
              "      <th>std_DM</th>\n",
              "      <th>kurt_DM</th>\n",
              "      <th>skew_DM</th>\n",
              "      <th>is_pulsar</th>\n",
              "    </tr>\n",
              "  </thead>\n",
              "  <tbody>\n",
              "    <tr>\n",
              "      <th>0</th>\n",
              "      <td>140.562500</td>\n",
              "      <td>55.683782</td>\n",
              "      <td>-0.234571</td>\n",
              "      <td>-0.699648</td>\n",
              "      <td>3.199833</td>\n",
              "      <td>19.110426</td>\n",
              "      <td>7.975532</td>\n",
              "      <td>74.242225</td>\n",
              "      <td>0</td>\n",
              "    </tr>\n",
              "    <tr>\n",
              "      <th>1</th>\n",
              "      <td>102.507812</td>\n",
              "      <td>58.882430</td>\n",
              "      <td>0.465318</td>\n",
              "      <td>-0.515088</td>\n",
              "      <td>1.677258</td>\n",
              "      <td>14.860146</td>\n",
              "      <td>10.576487</td>\n",
              "      <td>127.393580</td>\n",
              "      <td>0</td>\n",
              "    </tr>\n",
              "    <tr>\n",
              "      <th>2</th>\n",
              "      <td>103.015625</td>\n",
              "      <td>39.341649</td>\n",
              "      <td>0.323328</td>\n",
              "      <td>1.051164</td>\n",
              "      <td>3.121237</td>\n",
              "      <td>21.744669</td>\n",
              "      <td>7.735822</td>\n",
              "      <td>63.171909</td>\n",
              "      <td>0</td>\n",
              "    </tr>\n",
              "    <tr>\n",
              "      <th>3</th>\n",
              "      <td>136.750000</td>\n",
              "      <td>57.178449</td>\n",
              "      <td>-0.068415</td>\n",
              "      <td>-0.636238</td>\n",
              "      <td>3.642977</td>\n",
              "      <td>20.959280</td>\n",
              "      <td>6.896499</td>\n",
              "      <td>53.593661</td>\n",
              "      <td>0</td>\n",
              "    </tr>\n",
              "    <tr>\n",
              "      <th>4</th>\n",
              "      <td>88.726562</td>\n",
              "      <td>40.672225</td>\n",
              "      <td>0.600866</td>\n",
              "      <td>1.123492</td>\n",
              "      <td>1.178930</td>\n",
              "      <td>11.468720</td>\n",
              "      <td>14.269573</td>\n",
              "      <td>252.567306</td>\n",
              "      <td>0</td>\n",
              "    </tr>\n",
              "  </tbody>\n",
              "</table>\n",
              "</div>"
            ],
            "text/plain": [
              "      mean_IP     std_IP   kurt_IP  ...    kurt_DM     skew_DM  is_pulsar\n",
              "0  140.562500  55.683782 -0.234571  ...   7.975532   74.242225          0\n",
              "1  102.507812  58.882430  0.465318  ...  10.576487  127.393580          0\n",
              "2  103.015625  39.341649  0.323328  ...   7.735822   63.171909          0\n",
              "3  136.750000  57.178449 -0.068415  ...   6.896499   53.593661          0\n",
              "4   88.726562  40.672225  0.600866  ...  14.269573  252.567306          0\n",
              "\n",
              "[5 rows x 9 columns]"
            ]
          },
          "metadata": {
            "tags": []
          },
          "execution_count": 4
        }
      ]
    },
    {
      "cell_type": "code",
      "metadata": {
        "id": "dRRkTGiW0bQU",
        "colab_type": "code",
        "colab": {}
      },
      "source": [
        "#Escalamiento \n",
        "from sklearn.preprocessing import MinMaxScaler\n",
        "scaler = MinMaxScaler()\n",
        "scaler.fit(data_pulsar)\n",
        "head = ['mean_IP', 'std_IP','kurt_IP','skew_IP','mean_DM', 'std_DM','kurt_DM','skew_DM','is_pulsar']\n",
        "data_pulsar_scaled = pd.DataFrame(scaler.transform(data_pulsar), columns = head)\n",
        "\n",
        "X = data_pulsar.drop(columns=[\"is_pulsar\"])\n",
        "y = data_pulsar[\"is_pulsar\"]"
      ],
      "execution_count": 0,
      "outputs": []
    },
    {
      "cell_type": "code",
      "metadata": {
        "id": "ifphbqo15yXZ",
        "colab_type": "code",
        "colab": {}
      },
      "source": [
        "#Split de los datos\n",
        "from sklearn.model_selection import train_test_split\n",
        "X_trainval, X_test, y_trainval, y_test = train_test_split(X, y, test_size=0.15, random_state=0) #random_state = 0, para mantener la particion\n",
        "X_train_sca, X_val, y_train_sca, y_val = train_test_split(X_trainval, y_trainval, test_size=0.2, random_state=0)"
      ],
      "execution_count": 0,
      "outputs": []
    },
    {
      "cell_type": "code",
      "metadata": {
        "id": "pDnR0Z-6XXNx",
        "colab_type": "code",
        "outputId": "a7c76208-f0f3-45d2-8ef8-cdaf2880e9fc",
        "colab": {
          "base_uri": "https://localhost:8080/",
          "height": 72
        }
      },
      "source": [
        "#https://imbalanced-learn.readthedocs.io/en/latest/generated/imblearn.over_sampling.SVMSMOTE.html#r88acb9955f91-2\n",
        "#SMOTE\n",
        "from collections import Counter\n",
        "from imblearn.over_sampling import SVMSMOTE\n",
        "smt = SVMSMOTE()\n",
        "X_train, y_train = smt.fit_resample(X_train_sca, y_train_sca)\n"
      ],
      "execution_count": 0,
      "outputs": [
        {
          "output_type": "stream",
          "text": [
            "/usr/local/lib/python3.6/dist-packages/sklearn/externals/six.py:31: DeprecationWarning: The module is deprecated in version 0.21 and will be removed in version 0.23 since we've dropped support for Python 2.7. Please rely on the official version of six (https://pypi.org/project/six/).\n",
            "  \"(https://pypi.org/project/six/).\", DeprecationWarning)\n"
          ],
          "name": "stderr"
        }
      ]
    },
    {
      "cell_type": "code",
      "metadata": {
        "id": "HFdUikHmXyGi",
        "colab_type": "code",
        "outputId": "54addc6c-24c5-4e63-9c99-bb2b3bb80562",
        "colab": {
          "base_uri": "https://localhost:8080/",
          "height": 70
        }
      },
      "source": [
        "y_train_sca.value_counts()"
      ],
      "execution_count": 0,
      "outputs": [
        {
          "output_type": "execute_result",
          "data": {
            "text/plain": [
              "0    11020\n",
              "1     1150\n",
              "Name: is_pulsar, dtype: int64"
            ]
          },
          "metadata": {
            "tags": []
          },
          "execution_count": 8
        }
      ]
    },
    {
      "cell_type": "code",
      "metadata": {
        "id": "FlVCrnA_XyW2",
        "colab_type": "code",
        "outputId": "e047d235-528f-47d2-d71c-ddb2d35da851",
        "colab": {
          "base_uri": "https://localhost:8080/",
          "height": 70
        }
      },
      "source": [
        "y_smote = pd.Series(y_train)\n",
        "y_smote.value_counts()"
      ],
      "execution_count": 0,
      "outputs": [
        {
          "output_type": "execute_result",
          "data": {
            "text/plain": [
              "1    11020\n",
              "0    11020\n",
              "dtype: int64"
            ]
          },
          "metadata": {
            "tags": []
          },
          "execution_count": 9
        }
      ]
    },
    {
      "cell_type": "code",
      "metadata": {
        "id": "TiQ5zZyd1UO3",
        "colab_type": "code",
        "outputId": "de91f41e-42e7-44c9-d424-41e087fedfee",
        "colab": {
          "base_uri": "https://localhost:8080/",
          "height": 443
        }
      },
      "source": [
        "from sklearn.decomposition import PCA\n",
        "pca = PCA().fit(X_train)\n",
        "pca_cargas = pca.components_\n",
        "pca_cargas"
      ],
      "execution_count": 0,
      "outputs": [
        {
          "output_type": "execute_result",
          "data": {
            "text/plain": [
              "array([[ 1.00098196e-01,  2.12697214e-03, -4.15657936e-03,\n",
              "        -1.36369841e-02, -2.14084103e-01, -1.83729615e-01,\n",
              "         4.53064228e-02,  9.52959252e-01],\n",
              "       [-1.34252348e-01,  4.27928402e-02,  5.23659446e-03,\n",
              "         1.39218557e-02,  8.80170376e-01,  3.53903497e-01,\n",
              "        -2.72274803e-02,  2.81486995e-01],\n",
              "       [ 9.56903623e-01,  1.76734849e-01, -3.41485360e-02,\n",
              "        -1.50662405e-01,  1.57450367e-01,  8.89228287e-03,\n",
              "        -1.55967442e-03, -6.60518265e-02],\n",
              "       [-6.52714380e-02,  3.83556604e-02, -1.05747717e-03,\n",
              "         1.54080346e-02,  3.84498710e-01, -9.14583864e-01,\n",
              "         4.94755177e-02, -8.53183834e-02],\n",
              "       [-2.09882608e-01,  9.15368628e-01, -2.79734659e-02,\n",
              "        -3.33229201e-01, -7.74236663e-02,  1.50725754e-02,\n",
              "        -1.79955691e-03,  7.10445351e-04],\n",
              "       [ 8.72728523e-02,  3.57036410e-01,  1.03534263e-01,\n",
              "         9.23633726e-01, -2.52441007e-02,  1.25272724e-02,\n",
              "        -1.71479298e-02,  1.26432149e-03],\n",
              "       [ 2.87256094e-03, -7.38529510e-03,  2.50599152e-02,\n",
              "        -1.83032232e-02, -1.43294729e-02, -6.37359841e-02,\n",
              "        -9.96853855e-01,  3.14480550e-02],\n",
              "       [-1.88743974e-02,  5.34965165e-03, -9.93306701e-01,\n",
              "         1.10488361e-01, -1.09861506e-03,  2.57582106e-03,\n",
              "        -2.72182692e-02,  7.62997437e-04]])"
            ]
          },
          "metadata": {
            "tags": []
          },
          "execution_count": 10
        }
      ]
    },
    {
      "cell_type": "code",
      "metadata": {
        "id": "fJ8qGbSh2GwW",
        "colab_type": "code",
        "outputId": "e7a214e3-0e26-476a-faff-6b910781a24d",
        "colab": {
          "base_uri": "https://localhost:8080/",
          "height": 353
        }
      },
      "source": [
        "# Se obtiene la grafica de la PVE para los 8 componentes principales\n",
        "plt.figure(figsize=(7,5))\n",
        "plt.plot(range(0,8),np.cumsum(pca.explained_variance_ratio_), '-s')\n",
        "plt.ylabel('Proporción Acumulada de Varianza Explicada')\n",
        "plt.xlabel('Componente Principal')\n",
        "plt.xlim(0,7.25)\n",
        "plt.ylim(0,1.05)\n",
        "plt.xticks(range(0,8,1))\n",
        "plt.show()"
      ],
      "execution_count": 0,
      "outputs": [
        {
          "output_type": "display_data",
          "data": {
            "image/png": "[encoded data removed]",
            "text/plain": [
              "<Figure size 504x360 with 1 Axes>"
            ]
          },
          "metadata": {
            "tags": []
          }
        }
      ]
    },
    {
      "cell_type": "code",
      "metadata": {
        "id": "Kt0oSSdi2b8g",
        "colab_type": "code",
        "outputId": "aa2599c8-f715-4200-a5b2-7410ca5cadf0",
        "colab": {
          "base_uri": "https://localhost:8080/",
          "height": 353
        }
      },
      "source": [
        "plt.figure(figsize=(7,5))\n",
        "plt.plot(range(0,8),pca.explained_variance_ratio_, '-s')\n",
        "#print(np.cumsum(pca.explained_variance_ratio_[0:3]))\n",
        "plt.ylabel('Explained variance ratio (SMOTE)')\n",
        "plt.xlabel('Principal components')\n",
        "plt.xlim(0.75,8.25)\n",
        "plt.ylim(0,1)\n",
        "plt.xticks(range(0,8,1))\n",
        "plt.show()"
      ],
      "execution_count": 0,
      "outputs": [
        {
          "output_type": "display_data",
          "data": {
            "image/png": "[encoded data removed]",
            "text/plain": [
              "<Figure size 504x360 with 1 Axes>"
            ]
          },
          "metadata": {
            "tags": []
          }
        }
      ]
    },
    {
      "cell_type": "code",
      "metadata": {
        "id": "L1SR2rBbPbCp",
        "colab_type": "code",
        "outputId": "fbefdd9d-0f5f-4b18-c8e9-9f74eceba9c4",
        "colab": {
          "base_uri": "https://localhost:8080/",
          "height": 123
        }
      },
      "source": [
        "#Del analisis solo nos quedamos con los pesos que nos dan las 3 componentes principales\n",
        "pesos_nuevo_espacio = pca_cargas[0:3]\n",
        "pesos_nuevo_espacio"
      ],
      "execution_count": 0,
      "outputs": [
        {
          "output_type": "execute_result",
          "data": {
            "text/plain": [
              "array([[ 0.1000982 ,  0.00212697, -0.00415658, -0.01363698, -0.2140841 ,\n",
              "        -0.18372961,  0.04530642,  0.95295925],\n",
              "       [-0.13425235,  0.04279284,  0.00523659,  0.01392186,  0.88017038,\n",
              "         0.3539035 , -0.02722748,  0.28148699],\n",
              "       [ 0.95690362,  0.17673485, -0.03414854, -0.15066241,  0.15745037,\n",
              "         0.00889228, -0.00155967, -0.06605183]])"
            ]
          },
          "metadata": {
            "tags": []
          },
          "execution_count": 13
        }
      ]
    },
    {
      "cell_type": "code",
      "metadata": {
        "id": "Hq-9ckfn7Jff",
        "colab_type": "code",
        "outputId": "a33ae3de-2703-4765-d652-9957bc83ab4e",
        "colab": {
          "base_uri": "https://localhost:8080/",
          "height": 197
        }
      },
      "source": [
        "Z_train_npa = pca.transform(X_train)[:,:3]\n",
        "Z_train =pd.DataFrame(Z_train_npa)\n",
        "Z_train.head()"
      ],
      "execution_count": 0,
      "outputs": [
        {
          "output_type": "execute_result",
          "data": {
            "text/html": [
              "<div>\n",
              "<style scoped>\n",
              "    .dataframe tbody tr th:only-of-type {\n",
              "        vertical-align: middle;\n",
              "    }\n",
              "\n",
              "    .dataframe tbody tr th {\n",
              "        vertical-align: top;\n",
              "    }\n",
              "\n",
              "    .dataframe thead th {\n",
              "        text-align: right;\n",
              "    }\n",
              "</style>\n",
              "<table border=\"1\" class=\"dataframe\">\n",
              "  <thead>\n",
              "    <tr style=\"text-align: right;\">\n",
              "      <th></th>\n",
              "      <th>0</th>\n",
              "      <th>1</th>\n",
              "      <th>2</th>\n",
              "    </tr>\n",
              "  </thead>\n",
              "  <tbody>\n",
              "    <tr>\n",
              "      <th>0</th>\n",
              "      <td>98.310370</td>\n",
              "      <td>-5.777651</td>\n",
              "      <td>17.430435</td>\n",
              "    </tr>\n",
              "    <tr>\n",
              "      <th>1</th>\n",
              "      <td>103.653350</td>\n",
              "      <td>-2.319447</td>\n",
              "      <td>1.096423</td>\n",
              "    </tr>\n",
              "    <tr>\n",
              "      <th>2</th>\n",
              "      <td>66.369420</td>\n",
              "      <td>-16.453542</td>\n",
              "      <td>25.824469</td>\n",
              "    </tr>\n",
              "    <tr>\n",
              "      <th>3</th>\n",
              "      <td>-23.145424</td>\n",
              "      <td>-33.092613</td>\n",
              "      <td>26.816522</td>\n",
              "    </tr>\n",
              "    <tr>\n",
              "      <th>4</th>\n",
              "      <td>34.783724</td>\n",
              "      <td>-20.604415</td>\n",
              "      <td>3.921225</td>\n",
              "    </tr>\n",
              "  </tbody>\n",
              "</table>\n",
              "</div>"
            ],
            "text/plain": [
              "            0          1          2\n",
              "0   98.310370  -5.777651  17.430435\n",
              "1  103.653350  -2.319447   1.096423\n",
              "2   66.369420 -16.453542  25.824469\n",
              "3  -23.145424 -33.092613  26.816522\n",
              "4   34.783724 -20.604415   3.921225"
            ]
          },
          "metadata": {
            "tags": []
          },
          "execution_count": 14
        }
      ]
    },
    {
      "cell_type": "markdown",
      "metadata": {
        "id": "b6IwXyZwQJtJ",
        "colab_type": "text"
      },
      "source": [
        "# CLASIFICACION DATA CON MENOS CARACTERISTICAS\n"
      ]
    },
    {
      "cell_type": "markdown",
      "metadata": {
        "id": "9nP5Dfy1-fsX",
        "colab_type": "text"
      },
      "source": [
        "## Algoritmo: Redes Neuronales por defecto"
      ]
    },
    {
      "cell_type": "code",
      "metadata": {
        "id": "4_V46hGXQTHO",
        "colab_type": "code",
        "outputId": "48bd882c-496c-4835-b66a-72d645cd5177",
        "colab": {
          "base_uri": "https://localhost:8080/",
          "height": 297
        }
      },
      "source": [
        "from sklearn.neural_network import MLPClassifier\n",
        "\n",
        "NN_model = MLPClassifier(activation= 'logistic',\n",
        "solver= 'lbfgs')\n",
        "\n",
        "NN_model.fit(Z_train, y_train) \n",
        "y_train_predict= NN_model.predict(Z_train)\n",
        "\n",
        "from sklearn.metrics import mean_squared_error\n",
        "NN_model_mse = mean_squared_error(y_train, y_train_predict)  \n",
        "print(\"Error MSE: \",NN_model_mse)\n",
        "\n",
        "from sklearn.metrics import confusion_matrix\n",
        "NN_model_cm = confusion_matrix(y_train, y_train_predict)   \n",
        "\n",
        "sns.heatmap(NN_model_cm,annot=True, fmt=\"d\", cmap=\"coolwarm\");"
      ],
      "execution_count": 0,
      "outputs": [
        {
          "output_type": "stream",
          "text": [
            "Error MSE:  0.03906533575317604\n"
          ],
          "name": "stdout"
        },
        {
          "output_type": "display_data",
          "data": {
            "image/png": "[encoded data removed]",
            "text/plain": [
              "<Figure size 432x288 with 2 Axes>"
            ]
          },
          "metadata": {
            "tags": []
          }
        }
      ]
    },
    {
      "cell_type": "code",
      "metadata": {
        "id": "ShFOjSw6cYup",
        "colab_type": "code",
        "outputId": "9cc2fc26-96a0-4291-c4fe-32f4181166cd",
        "colab": {
          "base_uri": "https://localhost:8080/",
          "height": 87
        }
      },
      "source": [
        "from sklearn.metrics import accuracy_score,precision_score,recall_score,f1_score\n",
        "accuracy = accuracy_score(y_train, y_train_predict)\n",
        "precision = precision_score(y_train, y_train_predict)\n",
        "recall = recall_score(y_train, y_train_predict)\n",
        "f1score = f1_score(y_train, y_train_predict)\n",
        "print(\"accuracy\",accuracy)\n",
        "print(\"precision\",precision)\n",
        "print(\"recall\",recall)\n",
        "print(\"f1score\",f1score)"
      ],
      "execution_count": 0,
      "outputs": [
        {
          "output_type": "stream",
          "text": [
            "accuracy 0.9609346642468239\n",
            "precision 0.956174225415357\n",
            "recall 0.9661524500907441\n",
            "f1score 0.9611374407582938\n"
          ],
          "name": "stdout"
        }
      ]
    },
    {
      "cell_type": "markdown",
      "metadata": {
        "id": "AF3mBRfX-l35",
        "colab_type": "text"
      },
      "source": [
        "### Evaluación con data de validacion"
      ]
    },
    {
      "cell_type": "code",
      "metadata": {
        "id": "aC_gonNk-vRT",
        "colab_type": "code",
        "outputId": "9f9008c9-a20f-4f25-a19f-0721c87ef8cd",
        "colab": {
          "base_uri": "https://localhost:8080/",
          "height": 197
        }
      },
      "source": [
        "Z_val_npa = pca.transform(X_val)[:,:3]\n",
        "Z_val =pd.DataFrame(Z_val_npa)\n",
        "Z_val.head()"
      ],
      "execution_count": 0,
      "outputs": [
        {
          "output_type": "execute_result",
          "data": {
            "text/html": [
              "<div>\n",
              "<style scoped>\n",
              "    .dataframe tbody tr th:only-of-type {\n",
              "        vertical-align: middle;\n",
              "    }\n",
              "\n",
              "    .dataframe tbody tr th {\n",
              "        vertical-align: top;\n",
              "    }\n",
              "\n",
              "    .dataframe thead th {\n",
              "        text-align: right;\n",
              "    }\n",
              "</style>\n",
              "<table border=\"1\" class=\"dataframe\">\n",
              "  <thead>\n",
              "    <tr style=\"text-align: right;\">\n",
              "      <th></th>\n",
              "      <th>0</th>\n",
              "      <th>1</th>\n",
              "      <th>2</th>\n",
              "    </tr>\n",
              "  </thead>\n",
              "  <tbody>\n",
              "    <tr>\n",
              "      <th>0</th>\n",
              "      <td>105.590400</td>\n",
              "      <td>-2.994642</td>\n",
              "      <td>2.283878</td>\n",
              "    </tr>\n",
              "    <tr>\n",
              "      <th>1</th>\n",
              "      <td>147.882920</td>\n",
              "      <td>8.316199</td>\n",
              "      <td>2.692911</td>\n",
              "    </tr>\n",
              "    <tr>\n",
              "      <th>2</th>\n",
              "      <td>-14.631367</td>\n",
              "      <td>-30.524494</td>\n",
              "      <td>23.189346</td>\n",
              "    </tr>\n",
              "    <tr>\n",
              "      <th>3</th>\n",
              "      <td>-92.776269</td>\n",
              "      <td>95.889765</td>\n",
              "      <td>98.204780</td>\n",
              "    </tr>\n",
              "    <tr>\n",
              "      <th>4</th>\n",
              "      <td>75.355798</td>\n",
              "      <td>-12.615912</td>\n",
              "      <td>17.666142</td>\n",
              "    </tr>\n",
              "  </tbody>\n",
              "</table>\n",
              "</div>"
            ],
            "text/plain": [
              "            0          1          2\n",
              "0  105.590400  -2.994642   2.283878\n",
              "1  147.882920   8.316199   2.692911\n",
              "2  -14.631367 -30.524494  23.189346\n",
              "3  -92.776269  95.889765  98.204780\n",
              "4   75.355798 -12.615912  17.666142"
            ]
          },
          "metadata": {
            "tags": []
          },
          "execution_count": 165
        }
      ]
    },
    {
      "cell_type": "code",
      "metadata": {
        "id": "7Jlv9xw3_EPh",
        "colab_type": "code",
        "outputId": "60b65000-cf38-4669-f339-3bd2e768fe9a",
        "colab": {
          "base_uri": "https://localhost:8080/",
          "height": 297
        }
      },
      "source": [
        "y_val_predict= NN_model.predict(Z_val)\n",
        "\n",
        "NN_model_mse_val = mean_squared_error(y_val, y_val_predict)  \n",
        "print(\"Error MSE: \",NN_model_mse_val)\n",
        "\n",
        "NN_model_cm_val = confusion_matrix(y_val, y_val_predict) \n",
        "\n",
        "sns.heatmap(NN_model_cm_val,annot=True, fmt=\"d\", cmap=\"coolwarm\");"
      ],
      "execution_count": 0,
      "outputs": [
        {
          "output_type": "stream",
          "text": [
            "Error MSE:  0.054222806441012156\n"
          ],
          "name": "stdout"
        },
        {
          "output_type": "display_data",
          "data": {
            "image/png": "[encoded data removed]",
            "text/plain": [
              "<Figure size 432x288 with 2 Axes>"
            ]
          },
          "metadata": {
            "tags": []
          }
        }
      ]
    },
    {
      "cell_type": "code",
      "metadata": {
        "id": "ood2dXAT_ryo",
        "colab_type": "code",
        "outputId": "6d19d20a-2732-469d-cc0e-e43dbdaa4699",
        "colab": {
          "base_uri": "https://localhost:8080/",
          "height": 87
        }
      },
      "source": [
        "accuracy = accuracy_score(y_val, y_val_predict) \n",
        "precision = precision_score(y_val, y_val_predict) \n",
        "recall = recall_score(y_val, y_val_predict) \n",
        "f1score = f1_score(y_val, y_val_predict) \n",
        "print(\"accuracy\",accuracy)\n",
        "print(\"precision\",precision)\n",
        "print(\"recall\",recall)\n",
        "print(\"f1score\",f1score)"
      ],
      "execution_count": 0,
      "outputs": [
        {
          "output_type": "stream",
          "text": [
            "accuracy 0.9457771935589878\n",
            "precision 0.6507936507936508\n",
            "recall 0.8817204301075269\n",
            "f1score 0.7488584474885845\n"
          ],
          "name": "stdout"
        }
      ]
    },
    {
      "cell_type": "markdown",
      "metadata": {
        "id": "UcQpESwjGgHH",
        "colab_type": "text"
      },
      "source": [
        "## Algoritmo: SVM por defecto"
      ]
    },
    {
      "cell_type": "code",
      "metadata": {
        "id": "rZookH5QGzB3",
        "colab_type": "code",
        "outputId": "db31b5ab-5400-43fe-98a9-6033ce606db4",
        "colab": {
          "base_uri": "https://localhost:8080/",
          "height": 297
        }
      },
      "source": [
        "from sklearn.svm import SVC\n",
        "from sklearn.model_selection import GridSearchCV\n",
        "\n",
        "SVC_model = SVC(gamma='auto',kernel='rbf')\n",
        "SVC_model.fit(Z_train, y_train)\n",
        "y_train_predict= SVC_model.predict(Z_train)\n",
        "\n",
        "SVM_grid_param = {  \n",
        "    'C': [1, 10, 100],\n",
        "    'gamma': ['auto',0.01, 0.0001],\n",
        "    'kernel': ['rbf']\n",
        "}\n",
        "\n",
        "SVM_gd_sr = GridSearchCV(estimator=SVC_model,  \n",
        "                     param_grid=SVM_grid_param,\n",
        "                     scoring='f1',\n",
        "                     cv=5,\n",
        "                     n_jobs=-1)\n",
        "SVM_gd_sr.fit(Z_train, y_train)\n",
        "\n",
        "\n",
        "y_train_predict= SVM_gd_sr.best_estimator_.predict(Z_train)\n",
        "\n",
        "SVC_model_mse = mean_squared_error(y_train, y_train_predict)  \n",
        "print(\"Error MSE: \",SVC_model_mse)\n",
        "\n",
        "SVC_model_cm = confusion_matrix(y_train, y_train_predict)   \n",
        "sns.heatmap(SVC_model_cm,annot=True, fmt=\"d\", cmap=\"coolwarm\");"
      ],
      "execution_count": 0,
      "outputs": [
        {
          "output_type": "stream",
          "text": [
            "Error MSE:  0.04500907441016334\n"
          ],
          "name": "stdout"
        },
        {
          "output_type": "display_data",
          "data": {
            "image/png": "[encoded data removed]",
            "text/plain": [
              "<Figure size 432x288 with 2 Axes>"
            ]
          },
          "metadata": {
            "tags": []
          }
        }
      ]
    },
    {
      "cell_type": "code",
      "metadata": {
        "id": "OwrZgjb1RW-2",
        "colab_type": "code",
        "outputId": "b7f56ea1-46e6-4d9b-cfbb-809f956ac9c9",
        "colab": {
          "base_uri": "https://localhost:8080/",
          "height": 34
        }
      },
      "source": [
        "SVM_gd_sr.best_params_"
      ],
      "execution_count": 0,
      "outputs": [
        {
          "output_type": "execute_result",
          "data": {
            "text/plain": [
              "{'C': 100, 'gamma': 0.0001, 'kernel': 'rbf'}"
            ]
          },
          "metadata": {
            "tags": []
          },
          "execution_count": 172
        }
      ]
    },
    {
      "cell_type": "code",
      "metadata": {
        "id": "utN_pK1DH8LA",
        "colab_type": "code",
        "outputId": "7874d55a-0378-4022-8464-2ada2c24300c",
        "colab": {
          "base_uri": "https://localhost:8080/",
          "height": 87
        }
      },
      "source": [
        "accuracy = accuracy_score(y_train, y_train_predict)\n",
        "precision = precision_score(y_train, y_train_predict)\n",
        "recall = recall_score(y_train, y_train_predict)\n",
        "f1score = f1_score(y_train, y_train_predict)\n",
        "print(\"accuracy\",accuracy)\n",
        "print(\"precision\",precision)\n",
        "print(\"recall\",recall)\n",
        "print(\"f1score\",f1score)"
      ],
      "execution_count": 0,
      "outputs": [
        {
          "output_type": "stream",
          "text": [
            "accuracy 0.9549909255898367\n",
            "precision 0.9431677567615344\n",
            "recall 0.9683303085299455\n",
            "f1score 0.9555834154204351\n"
          ],
          "name": "stdout"
        }
      ]
    },
    {
      "cell_type": "markdown",
      "metadata": {
        "id": "FGjMHfhkJ84O",
        "colab_type": "text"
      },
      "source": [
        "### Evaluación con data de validacion"
      ]
    },
    {
      "cell_type": "code",
      "metadata": {
        "id": "Uj0kpcI_H_mF",
        "colab_type": "code",
        "outputId": "a1f867ff-51a9-48b1-d685-01d58d66c943",
        "colab": {
          "base_uri": "https://localhost:8080/",
          "height": 297
        }
      },
      "source": [
        "y_val_predict= SVM_gd_sr.best_estimator_.predict(Z_val)\n",
        "\n",
        "SVC_model_mse_val = mean_squared_error(y_val, y_val_predict)  \n",
        "print(\"Error MSE: \",SVC_model_mse_val)\n",
        "\n",
        "SVC_model_cm_val = confusion_matrix(y_val, y_val_predict) \n",
        "\n",
        "sns.heatmap(SVC_model_cm_val,annot=True, fmt=\"d\", cmap=\"coolwarm\");"
      ],
      "execution_count": 0,
      "outputs": [
        {
          "output_type": "stream",
          "text": [
            "Error MSE:  0.05816628327308577\n"
          ],
          "name": "stdout"
        },
        {
          "output_type": "display_data",
          "data": {
            "image/png": "[encoded data removed]",
            "text/plain": [
              "<Figure size 432x288 with 2 Axes>"
            ]
          },
          "metadata": {
            "tags": []
          }
        }
      ]
    },
    {
      "cell_type": "code",
      "metadata": {
        "id": "56X3EUQDIckc",
        "colab_type": "code",
        "outputId": "ae7d1d31-091f-4263-a78f-a5cbfed3ae45",
        "colab": {
          "base_uri": "https://localhost:8080/",
          "height": 87
        }
      },
      "source": [
        "accuracy = accuracy_score(y_val, y_val_predict) \n",
        "precision = precision_score(y_val, y_val_predict) \n",
        "recall = recall_score(y_val, y_val_predict) \n",
        "f1score = f1_score(y_val, y_val_predict) \n",
        "print(\"accuracy\",accuracy)\n",
        "print(\"precision\",precision)\n",
        "print(\"recall\",recall)\n",
        "print(\"f1score\",f1score)"
      ],
      "execution_count": 0,
      "outputs": [
        {
          "output_type": "stream",
          "text": [
            "accuracy 0.9418337167269142\n",
            "precision 0.6231884057971014\n",
            "recall 0.9247311827956989\n",
            "f1score 0.7445887445887445\n"
          ],
          "name": "stdout"
        }
      ]
    },
    {
      "cell_type": "markdown",
      "metadata": {
        "id": "QKsyWqYkL-EJ",
        "colab_type": "text"
      },
      "source": [
        "## Algoritmo: Random Forest por defecto"
      ]
    },
    {
      "cell_type": "code",
      "metadata": {
        "id": "8CdQThMjMINO",
        "colab_type": "code",
        "outputId": "ba1147d6-e3f2-4f3f-e3e3-8b40d94e6cb0",
        "colab": {
          "base_uri": "https://localhost:8080/",
          "height": 353
        }
      },
      "source": [
        "from sklearn.ensemble import RandomForestClassifier\n",
        "\n",
        "RF_model = RandomForestClassifier()\n",
        "RF_model.fit(Z_train, y_train)\n",
        "y_train_predict= RF_model.predict(Z_train)\n",
        "\n",
        "\n",
        "RF_model_mse = mean_squared_error(y_train, y_train_predict)  \n",
        "print(\"Error MSE: \",RF_model_mse)\n",
        "\n",
        "RF_model_cm = confusion_matrix(y_train, y_train_predict)   \n",
        "sns.heatmap(RF_model_cm,annot=True, fmt=\"d\", cmap=\"coolwarm\");"
      ],
      "execution_count": 0,
      "outputs": [
        {
          "output_type": "stream",
          "text": [
            "/usr/local/lib/python3.6/dist-packages/sklearn/ensemble/forest.py:245: FutureWarning: The default value of n_estimators will change from 10 in version 0.20 to 100 in 0.22.\n",
            "  \"10 in version 0.20 to 100 in 0.22.\", FutureWarning)\n"
          ],
          "name": "stderr"
        },
        {
          "output_type": "stream",
          "text": [
            "Error MSE:  0.002540834845735027\n"
          ],
          "name": "stdout"
        },
        {
          "output_type": "display_data",
          "data": {
            "image/png": "[encoded data removed]",
            "text/plain": [
              "<Figure size 432x288 with 2 Axes>"
            ]
          },
          "metadata": {
            "tags": []
          }
        }
      ]
    },
    {
      "cell_type": "code",
      "metadata": {
        "id": "rXsqkKrEM8IM",
        "colab_type": "code",
        "outputId": "84530d58-4744-43a5-f326-349fc6685a0f",
        "colab": {
          "base_uri": "https://localhost:8080/",
          "height": 87
        }
      },
      "source": [
        "accuracy = accuracy_score(y_train, y_train_predict)\n",
        "precision = precision_score(y_train, y_train_predict)\n",
        "recall = recall_score(y_train, y_train_predict)\n",
        "f1score = f1_score(y_train, y_train_predict)\n",
        "print(\"accuracy\",accuracy)\n",
        "print(\"precision\",precision)\n",
        "print(\"recall\",recall)\n",
        "print(\"f1score\",f1score)"
      ],
      "execution_count": 0,
      "outputs": [
        {
          "output_type": "stream",
          "text": [
            "accuracy 0.997459165154265\n",
            "precision 0.9984542644117113\n",
            "recall 0.9964609800362977\n",
            "f1score 0.9974566263965847\n"
          ],
          "name": "stdout"
        }
      ]
    },
    {
      "cell_type": "markdown",
      "metadata": {
        "id": "tF64l6kvNcgU",
        "colab_type": "text"
      },
      "source": [
        "### Evaluación con data de validación\n",
        "\n",
        "\n",
        "\n"
      ]
    },
    {
      "cell_type": "code",
      "metadata": {
        "id": "70dmmwSpNAU1",
        "colab_type": "code",
        "outputId": "97c7a8aa-f1e5-4ac8-f176-d3a307836b83",
        "colab": {
          "base_uri": "https://localhost:8080/",
          "height": 297
        }
      },
      "source": [
        "y_val_predict= RF_model.predict(Z_val)\n",
        "\n",
        "RF_model_mse_val = mean_squared_error(y_val, y_val_predict)  \n",
        "print(\"Error MSE: \",RF_model_mse_val)\n",
        "\n",
        "RF_model_cm_val = confusion_matrix(y_val, y_val_predict) \n",
        "\n",
        "sns.heatmap(RF_model_cm_val,annot=True, fmt=\"d\", cmap=\"coolwarm\");"
      ],
      "execution_count": 0,
      "outputs": [
        {
          "output_type": "stream",
          "text": [
            "Error MSE:  0.04107788366743345\n"
          ],
          "name": "stdout"
        },
        {
          "output_type": "display_data",
          "data": {
            "image/png": "[encoded data removed]",
            "text/plain": [
              "<Figure size 432x288 with 2 Axes>"
            ]
          },
          "metadata": {
            "tags": []
          }
        }
      ]
    },
    {
      "cell_type": "code",
      "metadata": {
        "id": "afEDjwsANXSs",
        "colab_type": "code",
        "outputId": "4d8d46dd-98c3-4fd4-b9f5-c10dec3e203d",
        "colab": {
          "base_uri": "https://localhost:8080/",
          "height": 87
        }
      },
      "source": [
        "accuracy = accuracy_score(y_val, y_val_predict) \n",
        "precision = precision_score(y_val, y_val_predict) \n",
        "recall = recall_score(y_val, y_val_predict) \n",
        "f1score = f1_score(y_val, y_val_predict) \n",
        "print(\"accuracy\",accuracy)\n",
        "print(\"precision\",precision)\n",
        "print(\"recall\",recall)\n",
        "print(\"f1score\",f1score)"
      ],
      "execution_count": 0,
      "outputs": [
        {
          "output_type": "stream",
          "text": [
            "accuracy 0.9589221163325665\n",
            "precision 0.7333333333333333\n",
            "recall 0.8673835125448028\n",
            "f1score 0.7947454844006567\n"
          ],
          "name": "stdout"
        }
      ]
    },
    {
      "cell_type": "markdown",
      "metadata": {
        "id": "O5aQK8KeOUsk",
        "colab_type": "text"
      },
      "source": [
        "## Algoritmo: KNN por defecto"
      ]
    },
    {
      "cell_type": "code",
      "metadata": {
        "id": "isdC6e9iOdi3",
        "colab_type": "code",
        "outputId": "7edb2c43-ca86-4e8b-8c8b-c7bf798f060d",
        "colab": {
          "base_uri": "https://localhost:8080/",
          "height": 297
        }
      },
      "source": [
        "from sklearn.neighbors import KNeighborsClassifier\n",
        "\n",
        "KNN_model = KNeighborsClassifier(n_neighbors=5,\n",
        "p=1,\n",
        "weights='distance')\n",
        "KNN_model.fit(Z_train, y_train)\n",
        "y_train_predict= KNN_model.predict(Z_train)\n",
        "\n",
        "\n",
        "KNN_model_mse = mean_squared_error(y_train, y_train_predict)  \n",
        "print(\"Error MSE: \",KNN_model_mse)\n",
        "\n",
        "KNN_model_cm = confusion_matrix(y_train, y_train_predict)   \n",
        "sns.heatmap(KNN_model_cm,annot=True, fmt=\"d\", cmap=\"coolwarm\");"
      ],
      "execution_count": 0,
      "outputs": [
        {
          "output_type": "stream",
          "text": [
            "Error MSE:  0.0\n"
          ],
          "name": "stdout"
        },
        {
          "output_type": "display_data",
          "data": {
            "image/png": "[encoded data removed]",
            "text/plain": [
              "<Figure size 432x288 with 2 Axes>"
            ]
          },
          "metadata": {
            "tags": []
          }
        }
      ]
    },
    {
      "cell_type": "code",
      "metadata": {
        "id": "-8PkcRZIPcY1",
        "colab_type": "code",
        "outputId": "70a34144-38e4-445d-a11e-1b53964b0c50",
        "colab": {
          "base_uri": "https://localhost:8080/",
          "height": 87
        }
      },
      "source": [
        "accuracy = accuracy_score(y_train, y_train_predict)\n",
        "precision = precision_score(y_train, y_train_predict)\n",
        "recall = recall_score(y_train, y_train_predict)\n",
        "f1score = f1_score(y_train, y_train_predict)\n",
        "print(\"accuracy\",accuracy)\n",
        "print(\"precision\",precision)\n",
        "print(\"recall\",recall)\n",
        "print(\"f1score\",f1score)"
      ],
      "execution_count": 0,
      "outputs": [
        {
          "output_type": "stream",
          "text": [
            "accuracy 1.0\n",
            "precision 1.0\n",
            "recall 1.0\n",
            "f1score 1.0\n"
          ],
          "name": "stdout"
        }
      ]
    },
    {
      "cell_type": "markdown",
      "metadata": {
        "id": "lcsTNoG7QUO-",
        "colab_type": "text"
      },
      "source": [
        "### Evaluación con data de validación"
      ]
    },
    {
      "cell_type": "code",
      "metadata": {
        "id": "LxZUza4CPsKD",
        "colab_type": "code",
        "outputId": "22375ae4-6530-4205-da78-65dce9381423",
        "colab": {
          "base_uri": "https://localhost:8080/",
          "height": 315
        }
      },
      "source": [
        "y_val_predict= KNN_model.predict(Z_val)\n",
        "\n",
        "KNN_model_mse_val = mean_squared_error(y_val, y_val_predict)  \n",
        "print(\"Error MSE: \",KNN_model_mse_val)\n",
        "\n",
        "KNN_model_cm_val = confusion_matrix(y_val, y_val_predict) \n",
        "\n",
        "sns.heatmap(KNN_model_cm_val,annot=True, fmt=\"d\", cmap=\"coolwarm\")"
      ],
      "execution_count": 0,
      "outputs": [
        {
          "output_type": "stream",
          "text": [
            "Error MSE:  0.056194544857048966\n"
          ],
          "name": "stdout"
        },
        {
          "output_type": "execute_result",
          "data": {
            "text/plain": [
              "<matplotlib.axes._subplots.AxesSubplot at 0x7fc1c67e5da0>"
            ]
          },
          "metadata": {
            "tags": []
          },
          "execution_count": 113
        },
        {
          "output_type": "display_data",
          "data": {
            "image/png": "[encoded data removed]",
            "text/plain": [
              "<Figure size 432x288 with 2 Axes>"
            ]
          },
          "metadata": {
            "tags": []
          }
        }
      ]
    },
    {
      "cell_type": "code",
      "metadata": {
        "id": "f58HpVbRQKMw",
        "colab_type": "code",
        "outputId": "f6545c97-8b25-495b-9abd-bec7ff3bfd33",
        "colab": {
          "base_uri": "https://localhost:8080/",
          "height": 87
        }
      },
      "source": [
        "accuracy = accuracy_score(y_val, y_val_predict) \n",
        "precision = precision_score(y_val, y_val_predict) \n",
        "recall = recall_score(y_val, y_val_predict) \n",
        "f1score = f1_score(y_val, y_val_predict) \n",
        "print(\"accuracy\",accuracy)\n",
        "print(\"precision\",precision)\n",
        "print(\"recall\",recall)\n",
        "print(\"f1score\",f1score)"
      ],
      "execution_count": 0,
      "outputs": [
        {
          "output_type": "stream",
          "text": [
            "accuracy 0.943805455142951\n",
            "precision 0.6391752577319587\n",
            "recall 0.8888888888888888\n",
            "f1score 0.7436281859070464\n"
          ],
          "name": "stdout"
        }
      ]
    },
    {
      "cell_type": "markdown",
      "metadata": {
        "id": "luJS0sGgVa09",
        "colab_type": "text"
      },
      "source": [
        ""
      ]
    }
  ]
}
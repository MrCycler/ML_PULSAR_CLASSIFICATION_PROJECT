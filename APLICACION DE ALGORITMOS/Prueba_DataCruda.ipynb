{
  "nbformat": 4,
  "nbformat_minor": 0,
  "metadata": {
    "colab": {
      "name": "Prueba_DataCruda.ipynb",
      "version": "0.3.2",
      "provenance": [],
      "collapsed_sections": [],
      "toc_visible": true
    },
    "kernelspec": {
      "name": "python3",
      "display_name": "Python 3"
    }
  },
  "cells": [
    {
      "cell_type": "code",
      "metadata": {
        "id": "vOSrXgA6zwS-",
        "colab_type": "code",
        "colab": {}
      },
      "source": [
        "#Importación de librerías\n",
        "try:\n",
        "  \n",
        "  #Para usar colab\n",
        "  from google.colab import drive\n",
        "  drive.mount('/content/drive')\n",
        "  \n",
        "  import numpy as np\n",
        "  import pandas as pd\n",
        "  \n",
        "except:\n",
        "  \n",
        "  import numpy as np\n",
        "  import pandas as pd\n",
        "\n",
        "import matplotlib.pyplot as plt\n",
        "plt.style.use('classic')\n",
        "%matplotlib inline\n",
        "\n",
        "import seaborn as sns\n",
        "sns.set()"
      ],
      "execution_count": 0,
      "outputs": []
    },
    {
      "cell_type": "code",
      "metadata": {
        "id": "G9ajH3iuz9ke",
        "colab_type": "code",
        "colab": {}
      },
      "source": [
        "#Lectura de datos\n",
        "try:\n",
        "  #Caso en que se este usando jupyter notebooks\n",
        "  data_pulsar = pd.read_csv('HTRU_2_con_header.csv')\n",
        "except:\n",
        "  #Caso en que se use colab, cambiar directorio de acuerdo al drive\n",
        "  dir_str ='drive/My Drive/CURSOS - MAESTRIA/APRENDIZAJE AUTOMÁTICO/MACHINE LEARNING - PROYECTO/ML_PULSAR_CLASSIFICATION_PROJECT/PREPROCESAMIENTO DE DATA/HTRU_2_sin_header.csv'\n",
        "  #Se definen  los headers\n",
        "  head = ['mean_IP', 'std_IP','kurt_IP','skew_IP','mean_DM', 'std_DM','kurt_DM','skew_DM','is_pulsar']\n",
        "  #Lectura de la data\n",
        "  data_pulsar = pd.read_csv(dir_str,header=None, names=head)"
      ],
      "execution_count": 0,
      "outputs": []
    },
    {
      "cell_type": "markdown",
      "metadata": {
        "id": "ZqVy0MV90EGf",
        "colab_type": "text"
      },
      "source": [
        "# Aplicación de Algoritmos (Data Cruda)"
      ]
    },
    {
      "cell_type": "code",
      "metadata": {
        "id": "oMZXJ4Ak0Djo",
        "colab_type": "code",
        "colab": {}
      },
      "source": [
        "from sklearn.model_selection import train_test_split\n",
        "\n",
        "#Partición de la data cruda\n",
        "X = data_pulsar.drop(columns=[\"is_pulsar\"])\n",
        "y = data_pulsar[\"is_pulsar\"]\n",
        "\n",
        "X_trainval, X_test, y_trainval, y_test = train_test_split(X, y, test_size=0.15, random_state=0) #random_state = 0, para mantener la particion\n",
        "X_train, X_val, y_train, y_val = train_test_split(X_trainval, y_trainval, test_size=0.2, random_state=0)"
      ],
      "execution_count": 0,
      "outputs": []
    },
    {
      "cell_type": "code",
      "metadata": {
        "id": "P_Qz2P9l04f2",
        "colab_type": "code",
        "colab": {}
      },
      "source": [
        "from sklearn.metrics import accuracy_score, precision_score, recall_score, f1_score, mean_squared_error, confusion_matrix\n",
        "def eval_model(model, X_val, y_val):\n",
        "  #Realizando la prediccion del modelo\n",
        "  y_pred = model.predict(X_val)\n",
        "  #Calculando el error cuadratico medio\n",
        "  MSE =mean_squared_error(y_val, y_pred)\n",
        "  #Generando la matriz de confusion\n",
        "  conf = confusion_matrix(y_val, y_pred)\n",
        "  #Calculando las metricas\n",
        "  accuracy = accuracy_score(y_val, y_pred)\n",
        "  precision = precision_score(y_val, y_pred)\n",
        "  recall = recall_score(y_val, y_pred)\n",
        "  f1score = f1_score(y_val, y_pred)\n",
        "  \n",
        "  #Print de las metricas\n",
        "  print('El MSE para el modelo '+type(model).__name__ +' es: ',MSE)\n",
        "  print('El accuracy para el modelo '+type(model).__name__ +' es: ',accuracy)\n",
        "  print('El precision para el modelo '+type(model).__name__ +' es: ',precision)\n",
        "  print('El recall para el modelo '+type(model).__name__ +' es: ',recall)\n",
        "  print('El F1-score para el modelo '+type(model).__name__ +' es: ',f1score)\n",
        "  \n",
        "  sns.heatmap(conf,annot=True, fmt=\"d\", cmap=\"coolwarm\");\n",
        "  return None"
      ],
      "execution_count": 0,
      "outputs": []
    },
    {
      "cell_type": "markdown",
      "metadata": {
        "id": "GEvTOawt0d0N",
        "colab_type": "text"
      },
      "source": [
        "## SMOTE"
      ]
    },
    {
      "cell_type": "code",
      "metadata": {
        "id": "CpBT7qdY1mme",
        "colab_type": "code",
        "outputId": "cb382acd-c0e2-4285-8eb1-4104634554f9",
        "colab": {
          "base_uri": "https://localhost:8080/",
          "height": 71
        }
      },
      "source": [
        "#https://imbalanced-learn.readthedocs.io/en/latest/generated/imblearn.over_sampling.SVMSMOTE.html#r88acb9955f91-2\n",
        "from collections import Counter\n",
        "from imblearn.over_sampling import SVMSMOTE\n",
        "smt = SVMSMOTE(random_state=12)\n",
        "X_sm_train, y_sm_train = smt.fit_resample(X_train, y_train)"
      ],
      "execution_count": 0,
      "outputs": [
        {
          "output_type": "stream",
          "text": [
            "/usr/local/lib/python3.6/dist-packages/sklearn/externals/six.py:31: DeprecationWarning: The module is deprecated in version 0.21 and will be removed in version 0.23 since we've dropped support for Python 2.7. Please rely on the official version of six (https://pypi.org/project/six/).\n",
            "  \"(https://pypi.org/project/six/).\", DeprecationWarning)\n"
          ],
          "name": "stderr"
        }
      ]
    },
    {
      "cell_type": "markdown",
      "metadata": {
        "id": "YXXhaR3l16ea",
        "colab_type": "text"
      },
      "source": [
        "## **1° Prueba de algoritmo: Random Forest**"
      ]
    },
    {
      "cell_type": "code",
      "metadata": {
        "id": "LzhBxY5w11xG",
        "colab_type": "code",
        "outputId": "5880b823-db6a-4a86-95b4-f4c660326c12",
        "colab": {
          "base_uri": "https://localhost:8080/",
          "height": 365
        }
      },
      "source": [
        "from sklearn.ensemble import RandomForestClassifier\n",
        "\n",
        "RF_model = RandomForestClassifier(n_estimators=100, max_depth=2, random_state=0)\n",
        "RF_model.fit(X_sm_train, y_sm_train)\n",
        "\n",
        "eval_model(RF_model, X_val, y_val)"
      ],
      "execution_count": 0,
      "outputs": [
        {
          "output_type": "stream",
          "text": [
            "El MSE para el modelo RandomForestClassifier es:  0.042392375944791325\n",
            "El accuracy para el modelo RandomForestClassifier es:  0.9576076240552087\n",
            "El precision para el modelo RandomForestClassifier es:  0.7038043478260869\n",
            "El recall para el modelo RandomForestClassifier es:  0.9283154121863799\n",
            "El F1-score para el modelo RandomForestClassifier es:  0.8006182380216383\n"
          ],
          "name": "stdout"
        },
        {
          "output_type": "display_data",
          "data": {
            "image/png": "[encoded data removed]",
            "text/plain": [
              "<Figure size 432x288 with 2 Axes>"
            ]
          },
          "metadata": {
            "tags": []
          }
        }
      ]
    },
    {
      "cell_type": "markdown",
      "metadata": {
        "id": "8U110A2k8RSC",
        "colab_type": "text"
      },
      "source": [
        "### Interpretación del modelo"
      ]
    },
    {
      "cell_type": "code",
      "metadata": {
        "id": "GxikfJtg7tlw",
        "colab_type": "code",
        "outputId": "3d651692-4a2b-469d-84a3-b37e507ef854",
        "colab": {
          "base_uri": "https://localhost:8080/",
          "height": 51
        }
      },
      "source": [
        "RF_model.feature_importances_"
      ],
      "execution_count": 0,
      "outputs": [
        {
          "output_type": "execute_result",
          "data": {
            "text/plain": [
              "array([0.17339681, 0.00409454, 0.40618922, 0.03608292, 0.10391134,\n",
              "       0.18573416, 0.03375542, 0.0568356 ])"
            ]
          },
          "metadata": {
            "tags": []
          },
          "execution_count": 25
        }
      ]
    },
    {
      "cell_type": "code",
      "metadata": {
        "id": "gwubtF3T79O-",
        "colab_type": "code",
        "outputId": "e1f85a38-115b-4ade-9b4b-14519cfe4bac",
        "colab": {
          "base_uri": "https://localhost:8080/",
          "height": 208
        }
      },
      "source": [
        "imp = pd.DataFrame({'cols':X_val.columns, 'imp':RF_model.feature_importances_}).sort_values('imp', ascending=False)\n",
        "imp.style.bar()"
      ],
      "execution_count": 0,
      "outputs": [
        {
          "output_type": "execute_result",
          "data": {
            "text/html": [
              "<style  type=\"text/css\" >\n",
              "    #T_3c325d4e_8a3e_11e9_9863_0242ac1c0002row0_col1 {\n",
              "            width:  10em;\n",
              "             height:  80%;\n",
              "            background:  linear-gradient(90deg,#d65f5f 100.0%, transparent 100.0%);\n",
              "        }    #T_3c325d4e_8a3e_11e9_9863_0242ac1c0002row1_col1 {\n",
              "            width:  10em;\n",
              "             height:  80%;\n",
              "            background:  linear-gradient(90deg,#d65f5f 45.2%, transparent 45.2%);\n",
              "        }    #T_3c325d4e_8a3e_11e9_9863_0242ac1c0002row2_col1 {\n",
              "            width:  10em;\n",
              "             height:  80%;\n",
              "            background:  linear-gradient(90deg,#d65f5f 42.1%, transparent 42.1%);\n",
              "        }    #T_3c325d4e_8a3e_11e9_9863_0242ac1c0002row3_col1 {\n",
              "            width:  10em;\n",
              "             height:  80%;\n",
              "            background:  linear-gradient(90deg,#d65f5f 24.8%, transparent 24.8%);\n",
              "        }    #T_3c325d4e_8a3e_11e9_9863_0242ac1c0002row4_col1 {\n",
              "            width:  10em;\n",
              "             height:  80%;\n",
              "            background:  linear-gradient(90deg,#d65f5f 13.1%, transparent 13.1%);\n",
              "        }    #T_3c325d4e_8a3e_11e9_9863_0242ac1c0002row5_col1 {\n",
              "            width:  10em;\n",
              "             height:  80%;\n",
              "            background:  linear-gradient(90deg,#d65f5f 8.0%, transparent 8.0%);\n",
              "        }    #T_3c325d4e_8a3e_11e9_9863_0242ac1c0002row6_col1 {\n",
              "            width:  10em;\n",
              "             height:  80%;\n",
              "            background:  linear-gradient(90deg,#d65f5f 7.4%, transparent 7.4%);\n",
              "        }    #T_3c325d4e_8a3e_11e9_9863_0242ac1c0002row7_col1 {\n",
              "            width:  10em;\n",
              "             height:  80%;\n",
              "        }</style><table id=\"T_3c325d4e_8a3e_11e9_9863_0242ac1c0002\" ><thead>    <tr>        <th class=\"blank level0\" ></th>        <th class=\"col_heading level0 col0\" >cols</th>        <th class=\"col_heading level0 col1\" >imp</th>    </tr></thead><tbody>\n",
              "                <tr>\n",
              "                        <th id=\"T_3c325d4e_8a3e_11e9_9863_0242ac1c0002level0_row0\" class=\"row_heading level0 row0\" >2</th>\n",
              "                        <td id=\"T_3c325d4e_8a3e_11e9_9863_0242ac1c0002row0_col0\" class=\"data row0 col0\" >kurt_IP</td>\n",
              "                        <td id=\"T_3c325d4e_8a3e_11e9_9863_0242ac1c0002row0_col1\" class=\"data row0 col1\" >0.406189</td>\n",
              "            </tr>\n",
              "            <tr>\n",
              "                        <th id=\"T_3c325d4e_8a3e_11e9_9863_0242ac1c0002level0_row1\" class=\"row_heading level0 row1\" >5</th>\n",
              "                        <td id=\"T_3c325d4e_8a3e_11e9_9863_0242ac1c0002row1_col0\" class=\"data row1 col0\" >std_DM</td>\n",
              "                        <td id=\"T_3c325d4e_8a3e_11e9_9863_0242ac1c0002row1_col1\" class=\"data row1 col1\" >0.185734</td>\n",
              "            </tr>\n",
              "            <tr>\n",
              "                        <th id=\"T_3c325d4e_8a3e_11e9_9863_0242ac1c0002level0_row2\" class=\"row_heading level0 row2\" >0</th>\n",
              "                        <td id=\"T_3c325d4e_8a3e_11e9_9863_0242ac1c0002row2_col0\" class=\"data row2 col0\" >mean_IP</td>\n",
              "                        <td id=\"T_3c325d4e_8a3e_11e9_9863_0242ac1c0002row2_col1\" class=\"data row2 col1\" >0.173397</td>\n",
              "            </tr>\n",
              "            <tr>\n",
              "                        <th id=\"T_3c325d4e_8a3e_11e9_9863_0242ac1c0002level0_row3\" class=\"row_heading level0 row3\" >4</th>\n",
              "                        <td id=\"T_3c325d4e_8a3e_11e9_9863_0242ac1c0002row3_col0\" class=\"data row3 col0\" >mean_DM</td>\n",
              "                        <td id=\"T_3c325d4e_8a3e_11e9_9863_0242ac1c0002row3_col1\" class=\"data row3 col1\" >0.103911</td>\n",
              "            </tr>\n",
              "            <tr>\n",
              "                        <th id=\"T_3c325d4e_8a3e_11e9_9863_0242ac1c0002level0_row4\" class=\"row_heading level0 row4\" >7</th>\n",
              "                        <td id=\"T_3c325d4e_8a3e_11e9_9863_0242ac1c0002row4_col0\" class=\"data row4 col0\" >skew_DM</td>\n",
              "                        <td id=\"T_3c325d4e_8a3e_11e9_9863_0242ac1c0002row4_col1\" class=\"data row4 col1\" >0.0568356</td>\n",
              "            </tr>\n",
              "            <tr>\n",
              "                        <th id=\"T_3c325d4e_8a3e_11e9_9863_0242ac1c0002level0_row5\" class=\"row_heading level0 row5\" >3</th>\n",
              "                        <td id=\"T_3c325d4e_8a3e_11e9_9863_0242ac1c0002row5_col0\" class=\"data row5 col0\" >skew_IP</td>\n",
              "                        <td id=\"T_3c325d4e_8a3e_11e9_9863_0242ac1c0002row5_col1\" class=\"data row5 col1\" >0.0360829</td>\n",
              "            </tr>\n",
              "            <tr>\n",
              "                        <th id=\"T_3c325d4e_8a3e_11e9_9863_0242ac1c0002level0_row6\" class=\"row_heading level0 row6\" >6</th>\n",
              "                        <td id=\"T_3c325d4e_8a3e_11e9_9863_0242ac1c0002row6_col0\" class=\"data row6 col0\" >kurt_DM</td>\n",
              "                        <td id=\"T_3c325d4e_8a3e_11e9_9863_0242ac1c0002row6_col1\" class=\"data row6 col1\" >0.0337554</td>\n",
              "            </tr>\n",
              "            <tr>\n",
              "                        <th id=\"T_3c325d4e_8a3e_11e9_9863_0242ac1c0002level0_row7\" class=\"row_heading level0 row7\" >1</th>\n",
              "                        <td id=\"T_3c325d4e_8a3e_11e9_9863_0242ac1c0002row7_col0\" class=\"data row7 col0\" >std_IP</td>\n",
              "                        <td id=\"T_3c325d4e_8a3e_11e9_9863_0242ac1c0002row7_col1\" class=\"data row7 col1\" >0.00409454</td>\n",
              "            </tr>\n",
              "    </tbody></table>"
            ],
            "text/plain": [
              "<pandas.io.formats.style.Styler at 0x7fcae9902da0>"
            ]
          },
          "metadata": {
            "tags": []
          },
          "execution_count": 26
        }
      ]
    },
    {
      "cell_type": "code",
      "metadata": {
        "id": "9bNOeyzmNY71",
        "colab_type": "code",
        "colab": {}
      },
      "source": [
        "from sklearn.model_selection import GridSearchCV"
      ],
      "execution_count": 0,
      "outputs": []
    },
    {
      "cell_type": "markdown",
      "metadata": {
        "id": "MnWQFrCB24Ox",
        "colab_type": "text"
      },
      "source": [
        "## **2° Prueba de algoritmo: SVM**"
      ]
    },
    {
      "cell_type": "code",
      "metadata": {
        "id": "gexiBFPt25Hv",
        "colab_type": "code",
        "outputId": "06528048-c737-4dc5-ed5d-f8561c86cd08",
        "colab": {
          "base_uri": "https://localhost:8080/",
          "height": 365
        }
      },
      "source": [
        "from sklearn.svm import SVC\n",
        "\n",
        "SVM_model = SVC(gamma='auto',kernel='rbf')\n",
        "SVM_model.fit(X_sm_train, y_sm_train) \n",
        "\n",
        "eval_model(SVM_model, X_val, y_val)"
      ],
      "execution_count": 0,
      "outputs": [
        {
          "output_type": "stream",
          "text": [
            "El MSE para el modelo SVC es:  0.09004272099901413\n",
            "El accuracy para el modelo SVC es:  0.9099572790009859\n",
            "El precision para el modelo SVC es:  0.5454545454545454\n",
            "El recall para el modelo SVC es:  0.10752688172043011\n",
            "El F1-score para el modelo SVC es:  0.17964071856287425\n"
          ],
          "name": "stdout"
        },
        {
          "output_type": "display_data",
          "data": {
            "image/png": "[encoded data removed]",
            "text/plain": [
              "<Figure size 432x288 with 2 Axes>"
            ]
          },
          "metadata": {
            "tags": []
          }
        }
      ]
    },
    {
      "cell_type": "markdown",
      "metadata": {
        "id": "ydZQdbPRcLLF",
        "colab_type": "text"
      },
      "source": [
        "**Grid Search CV**"
      ]
    },
    {
      "cell_type": "code",
      "metadata": {
        "id": "8DzD3sz6Njob",
        "colab_type": "code",
        "outputId": "00e8716b-fc7a-4c16-8a6f-c747c43cd3d7",
        "colab": {
          "base_uri": "https://localhost:8080/",
          "height": 51
        }
      },
      "source": [
        "from sklearn.model_selection import GridSearchCV\n",
        "\n",
        "parametrosSVM = {\n",
        "    'C':[100],\n",
        "    'gamma' : ['auto'],\n",
        "    'kernel':['rbf']\n",
        "}\n",
        "\n",
        "clf = GridSearchCV(\n",
        "    estimator =SVM_model,\n",
        "    param_grid = parametrosSVM,    \n",
        "    cv=10,\n",
        "    n_jobs=-1\n",
        ") \n",
        "\n",
        "clf.fit(X_train,y_train)\n",
        "\n"
      ],
      "execution_count": 0,
      "outputs": [
        {
          "output_type": "stream",
          "text": [
            "Mejores parámetros obtenidos: {'C': 100, 'gamma': 'auto', 'kernel': 'rbf'}\n",
            "\n"
          ],
          "name": "stdout"
        }
      ]
    },
    {
      "cell_type": "code",
      "metadata": {
        "id": "OKVeOrKTeQTx",
        "colab_type": "code",
        "colab": {
          "base_uri": "https://localhost:8080/",
          "height": 51
        },
        "outputId": "ca0d1c99-954e-4de7-f2f5-f4565cef0750"
      },
      "source": [
        "print (\"Mejores parámetros obtenidos:\", clf.best_params_)\n",
        "print ()"
      ],
      "execution_count": 130,
      "outputs": [
        {
          "output_type": "stream",
          "text": [
            "Mejores parámetros obtenidos: {'C': 100, 'gamma': 'auto', 'kernel': 'rbf'}\n",
            "\n"
          ],
          "name": "stdout"
        }
      ]
    },
    {
      "cell_type": "code",
      "metadata": {
        "id": "BzT4gAxvTSPL",
        "colab_type": "code",
        "outputId": "676b4e8c-c0aa-4968-86c2-136d8c9aecc9",
        "colab": {
          "base_uri": "https://localhost:8080/",
          "height": 365
        }
      },
      "source": [
        "eval_model(clf.best_estimator_, X_val, y_val)"
      ],
      "execution_count": 131,
      "outputs": [
        {
          "output_type": "stream",
          "text": [
            "El MSE para el modelo SVC es:  0.09004272099901413\n",
            "El accuracy para el modelo SVC es:  0.9099572790009859\n",
            "El precision para el modelo SVC es:  0.5714285714285714\n",
            "El recall para el modelo SVC es:  0.07168458781362007\n",
            "El F1-score para el modelo SVC es:  0.1273885350318471\n"
          ],
          "name": "stdout"
        },
        {
          "output_type": "display_data",
          "data": {
            "image/png": "[encoded data removed]",
            "text/plain": [
              "<Figure size 432x288 with 2 Axes>"
            ]
          },
          "metadata": {
            "tags": []
          }
        }
      ]
    },
    {
      "cell_type": "markdown",
      "metadata": {
        "id": "eMeX2FeO4QXR",
        "colab_type": "text"
      },
      "source": [
        "## **3° Prueba de algoritmo: KNN**"
      ]
    },
    {
      "cell_type": "code",
      "metadata": {
        "id": "cOkHCFdF3Hnu",
        "colab_type": "code",
        "outputId": "99877fb6-6cb3-42d6-e64c-b84354f6ac2c",
        "colab": {
          "base_uri": "https://localhost:8080/",
          "height": 365
        }
      },
      "source": [
        "from sklearn.neighbors import KNeighborsClassifier \n",
        "\n",
        "KNN_model = KNeighborsClassifier(n_neighbors=5)\n",
        "KNN_model.fit(X_sm_train, y_sm_train) \n",
        "\n",
        "eval_model(KNN_model, X_val, y_val)"
      ],
      "execution_count": 0,
      "outputs": [
        {
          "output_type": "stream",
          "text": [
            "El MSE para el modelo KNeighborsClassifier es:  0.04732172198488334\n",
            "El accuracy para el modelo KNeighborsClassifier es:  0.9526782780151166\n",
            "El precision para el modelo KNeighborsClassifier es:  0.6839237057220708\n",
            "El recall para el modelo KNeighborsClassifier es:  0.899641577060932\n",
            "El F1-score para el modelo KNeighborsClassifier es:  0.7770897832817337\n"
          ],
          "name": "stdout"
        },
        {
          "output_type": "display_data",
          "data": {
            "image/png": "[encoded data removed]",
            "text/plain": [
              "<Figure size 432x288 with 2 Axes>"
            ]
          },
          "metadata": {
            "tags": []
          }
        }
      ]
    },
    {
      "cell_type": "markdown",
      "metadata": {
        "id": "44EGyrlA4mkC",
        "colab_type": "text"
      },
      "source": [
        "## 4° Prueba de algoritmo: ANN -Multi-layer Perceptron\n"
      ]
    },
    {
      "cell_type": "code",
      "metadata": {
        "id": "lJWoxRBr4pV6",
        "colab_type": "code",
        "outputId": "3a543751-7afe-4709-80fb-6215f8788f42",
        "colab": {
          "base_uri": "https://localhost:8080/",
          "height": 365
        }
      },
      "source": [
        "from sklearn.neural_network import MLPClassifier\n",
        "\n",
        "NN_model = MLPClassifier()\n",
        "NN_model.fit(X_sm_train, y_sm_train) \n",
        "\n",
        "eval_model(NN_model, X_val, y_val)"
      ],
      "execution_count": 0,
      "outputs": [
        {
          "output_type": "stream",
          "text": [
            "El MSE para el modelo MLPClassifier es:  0.03614853762734144\n",
            "El accuracy para el modelo MLPClassifier es:  0.9638514623726585\n",
            "El precision para el modelo MLPClassifier es:  0.7463556851311953\n",
            "El recall para el modelo MLPClassifier es:  0.9175627240143369\n",
            "El F1-score para el modelo MLPClassifier es:  0.8231511254019291\n"
          ],
          "name": "stdout"
        },
        {
          "output_type": "display_data",
          "data": {
            "image/png": "[encoded data removed]",
            "text/plain": [
              "<Figure size 432x288 with 2 Axes>"
            ]
          },
          "metadata": {
            "tags": []
          }
        }
      ]
    }
  ]
}
{
  "nbformat": 4,
  "nbformat_minor": 0,
  "metadata": {
    "colab": {
      "name": "Prueba_Algoritmos_DataNormalizada.ipynb",
      "version": "0.3.2",
      "provenance": [],
      "collapsed_sections": [
        "dyufgveAZvyX",
        "wJkNiVIm0_WK",
        "nTQ5qGslA2a2"
      ],
      "toc_visible": true
    },
    "language_info": {
      "codemirror_mode": {
        "name": "ipython",
        "version": 3
      },
      "file_extension": ".py",
      "mimetype": "text/x-python",
      "name": "python",
      "nbconvert_exporter": "python",
      "pygments_lexer": "ipython3",
      "version": "3.7.1"
    },
    "kernelspec": {
      "display_name": "Python 3",
      "language": "python",
      "name": "python3"
    },
    "accelerator": "GPU"
  },
  "cells": [
    {
      "cell_type": "markdown",
      "metadata": {
        "id": "x-Np12XMz95B",
        "colab_type": "text"
      },
      "source": [
        "# Importación de Librerías\n"
      ]
    },
    {
      "cell_type": "code",
      "metadata": {
        "colab_type": "code",
        "id": "jtSqjGmVEgBl",
        "colab": {}
      },
      "source": [
        "#Importación de librerías\n",
        "import numpy as np\n",
        "import pandas as pd\n",
        "import seaborn as sns\n",
        "sns.set()\n",
        "import matplotlib.pyplot as plt\n",
        "plt.style.use('classic')\n",
        "%matplotlib inline\n",
        "\n",
        "from sklearn.model_selection import train_test_split\n",
        "from sklearn.preprocessing import MinMaxScaler\n",
        "\n",
        "import functions"
      ],
      "execution_count": 0,
      "outputs": []
    },
    {
      "cell_type": "code",
      "metadata": {
        "id": "-F3lajqazQJJ",
        "colab_type": "code",
        "colab": {}
      },
      "source": [
        "try:  \n",
        "  #Para usar colab\n",
        "  from google.colab import drive\n",
        "  drive.mount('/content/drive')\n",
        "  \n",
        "except:  \n",
        "  "
      ],
      "execution_count": 0,
      "outputs": []
    },
    {
      "cell_type": "code",
      "metadata": {
        "colab_type": "code",
        "id": "uisJWCEIEgBs",
        "colab": {}
      },
      "source": [
        "#Lectura de datos\n",
        "try:\n",
        "  #Caso en que se esté usando jupyter notebooks o se encuentre los archivos de la data en el entorno de ejecución del notebook\n",
        "  data_pulsar = pd.read_csv('HTRU_2_con_header.csv')\n",
        "except:\n",
        "  #Caso en que se use colab, y los archivos de la data estén en una carpeta del Drive\n",
        "  dir_str ='drive/My Drive/CURSOS - MAESTRIA/APRENDIZAJE AUTOMÁTICO/MACHINE LEARNING - PROYECTO/ML_PULSAR_CLASSIFICATION_PROJECT/PREPROCESAMIENTO DE DATA/HTRU_2_sin_header.csv'\n",
        "  #Se definen  los headers\n",
        "  head = ['mean_IP', 'std_IP','kurt_IP','skew_IP','mean_DM', 'std_DM','kurt_DM','skew_DM','is_pulsar']\n",
        "  #Lectura de la data\n",
        "  data_pulsar = pd.read_csv(dir_str,header=None, names=head)\n"
      ],
      "execution_count": 0,
      "outputs": []
    },
    {
      "cell_type": "code",
      "metadata": {
        "id": "OOXPD-mcz6Eu",
        "colab_type": "code",
        "colab": {
          "base_uri": "https://localhost:8080/",
          "height": 195
        },
        "outputId": "da61aa15-9f61-47a9-ecd2-1af1493e50f7"
      },
      "source": [
        " data_pulsar.head()"
      ],
      "execution_count": 6,
      "outputs": [
        {
          "output_type": "execute_result",
          "data": {
            "text/html": [
              "<div>\n",
              "<style scoped>\n",
              "    .dataframe tbody tr th:only-of-type {\n",
              "        vertical-align: middle;\n",
              "    }\n",
              "\n",
              "    .dataframe tbody tr th {\n",
              "        vertical-align: top;\n",
              "    }\n",
              "\n",
              "    .dataframe thead th {\n",
              "        text-align: right;\n",
              "    }\n",
              "</style>\n",
              "<table border=\"1\" class=\"dataframe\">\n",
              "  <thead>\n",
              "    <tr style=\"text-align: right;\">\n",
              "      <th></th>\n",
              "      <th>mean_IP</th>\n",
              "      <th>std_IP</th>\n",
              "      <th>kurt_IP</th>\n",
              "      <th>skew_IP</th>\n",
              "      <th>mean_DM</th>\n",
              "      <th>std_DM</th>\n",
              "      <th>kurt_DM</th>\n",
              "      <th>skew_DM</th>\n",
              "      <th>is_pulsar</th>\n",
              "    </tr>\n",
              "  </thead>\n",
              "  <tbody>\n",
              "    <tr>\n",
              "      <th>0</th>\n",
              "      <td>140.562500</td>\n",
              "      <td>55.683782</td>\n",
              "      <td>-0.234571</td>\n",
              "      <td>-0.699648</td>\n",
              "      <td>3.199833</td>\n",
              "      <td>19.110426</td>\n",
              "      <td>7.975532</td>\n",
              "      <td>74.242225</td>\n",
              "      <td>0</td>\n",
              "    </tr>\n",
              "    <tr>\n",
              "      <th>1</th>\n",
              "      <td>102.507812</td>\n",
              "      <td>58.882430</td>\n",
              "      <td>0.465318</td>\n",
              "      <td>-0.515088</td>\n",
              "      <td>1.677258</td>\n",
              "      <td>14.860146</td>\n",
              "      <td>10.576487</td>\n",
              "      <td>127.393580</td>\n",
              "      <td>0</td>\n",
              "    </tr>\n",
              "    <tr>\n",
              "      <th>2</th>\n",
              "      <td>103.015625</td>\n",
              "      <td>39.341649</td>\n",
              "      <td>0.323328</td>\n",
              "      <td>1.051164</td>\n",
              "      <td>3.121237</td>\n",
              "      <td>21.744669</td>\n",
              "      <td>7.735822</td>\n",
              "      <td>63.171909</td>\n",
              "      <td>0</td>\n",
              "    </tr>\n",
              "    <tr>\n",
              "      <th>3</th>\n",
              "      <td>136.750000</td>\n",
              "      <td>57.178449</td>\n",
              "      <td>-0.068415</td>\n",
              "      <td>-0.636238</td>\n",
              "      <td>3.642977</td>\n",
              "      <td>20.959280</td>\n",
              "      <td>6.896499</td>\n",
              "      <td>53.593661</td>\n",
              "      <td>0</td>\n",
              "    </tr>\n",
              "    <tr>\n",
              "      <th>4</th>\n",
              "      <td>88.726562</td>\n",
              "      <td>40.672225</td>\n",
              "      <td>0.600866</td>\n",
              "      <td>1.123492</td>\n",
              "      <td>1.178930</td>\n",
              "      <td>11.468720</td>\n",
              "      <td>14.269573</td>\n",
              "      <td>252.567306</td>\n",
              "      <td>0</td>\n",
              "    </tr>\n",
              "  </tbody>\n",
              "</table>\n",
              "</div>"
            ],
            "text/plain": [
              "      mean_IP     std_IP   kurt_IP  ...    kurt_DM     skew_DM  is_pulsar\n",
              "0  140.562500  55.683782 -0.234571  ...   7.975532   74.242225          0\n",
              "1  102.507812  58.882430  0.465318  ...  10.576487  127.393580          0\n",
              "2  103.015625  39.341649  0.323328  ...   7.735822   63.171909          0\n",
              "3  136.750000  57.178449 -0.068415  ...   6.896499   53.593661          0\n",
              "4   88.726562  40.672225  0.600866  ...  14.269573  252.567306          0\n",
              "\n",
              "[5 rows x 9 columns]"
            ]
          },
          "metadata": {
            "tags": []
          },
          "execution_count": 6
        }
      ]
    },
    {
      "cell_type": "markdown",
      "metadata": {
        "id": "Gso7rzzf0RI6",
        "colab_type": "text"
      },
      "source": [
        "# Normalización de la data"
      ]
    },
    {
      "cell_type": "markdown",
      "metadata": {
        "id": "NYtGZhr20zKr",
        "colab_type": "text"
      },
      "source": [
        "Ejecutamos la normalización del dataset."
      ]
    },
    {
      "cell_type": "code",
      "metadata": {
        "id": "AsE36WAG0aQ0",
        "colab_type": "code",
        "colab": {
          "base_uri": "https://localhost:8080/",
          "height": 284
        },
        "outputId": "a7acc4b3-b4cb-4482-d9cb-72f06ab658e4"
      },
      "source": [
        "head = ['mean_IP', 'std_IP','kurt_IP','skew_IP','mean_DM', 'std_DM','kurt_DM','skew_DM','is_pulsar']\n",
        "scaler = MinMaxScaler()\n",
        "scaler.fit(data_pulsar)\n",
        "data_pulsar_scaled = pd.DataFrame(scaler.transform(data_pulsar), columns =head)\n",
        "data_pulsar_scaled.describe()"
      ],
      "execution_count": 15,
      "outputs": [
        {
          "output_type": "execute_result",
          "data": {
            "text/html": [
              "<div>\n",
              "<style scoped>\n",
              "    .dataframe tbody tr th:only-of-type {\n",
              "        vertical-align: middle;\n",
              "    }\n",
              "\n",
              "    .dataframe tbody tr th {\n",
              "        vertical-align: top;\n",
              "    }\n",
              "\n",
              "    .dataframe thead th {\n",
              "        text-align: right;\n",
              "    }\n",
              "</style>\n",
              "<table border=\"1\" class=\"dataframe\">\n",
              "  <thead>\n",
              "    <tr style=\"text-align: right;\">\n",
              "      <th></th>\n",
              "      <th>mean_IP</th>\n",
              "      <th>std_IP</th>\n",
              "      <th>kurt_IP</th>\n",
              "      <th>skew_IP</th>\n",
              "      <th>mean_DM</th>\n",
              "      <th>std_DM</th>\n",
              "      <th>kurt_DM</th>\n",
              "      <th>skew_DM</th>\n",
              "      <th>is_pulsar</th>\n",
              "    </tr>\n",
              "  </thead>\n",
              "  <tbody>\n",
              "    <tr>\n",
              "      <th>count</th>\n",
              "      <td>17898.000000</td>\n",
              "      <td>17898.000000</td>\n",
              "      <td>17898.000000</td>\n",
              "      <td>17898.000000</td>\n",
              "      <td>17898.000000</td>\n",
              "      <td>17898.000000</td>\n",
              "      <td>17898.000000</td>\n",
              "      <td>17898.000000</td>\n",
              "      <td>17898.000000</td>\n",
              "    </tr>\n",
              "    <tr>\n",
              "      <th>mean</th>\n",
              "      <td>0.563516</td>\n",
              "      <td>0.294263</td>\n",
              "      <td>0.236676</td>\n",
              "      <td>0.050966</td>\n",
              "      <td>0.055566</td>\n",
              "      <td>0.183555</td>\n",
              "      <td>0.303691</td>\n",
              "      <td>0.089553</td>\n",
              "      <td>0.091574</td>\n",
              "    </tr>\n",
              "    <tr>\n",
              "      <th>std</th>\n",
              "      <td>0.137325</td>\n",
              "      <td>0.092467</td>\n",
              "      <td>0.106987</td>\n",
              "      <td>0.088247</td>\n",
              "      <td>0.132059</td>\n",
              "      <td>0.188537</td>\n",
              "      <td>0.119591</td>\n",
              "      <td>0.089285</td>\n",
              "      <td>0.288432</td>\n",
              "    </tr>\n",
              "    <tr>\n",
              "      <th>min</th>\n",
              "      <td>0.000000</td>\n",
              "      <td>0.000000</td>\n",
              "      <td>0.000000</td>\n",
              "      <td>0.000000</td>\n",
              "      <td>0.000000</td>\n",
              "      <td>0.000000</td>\n",
              "      <td>0.000000</td>\n",
              "      <td>0.000000</td>\n",
              "      <td>0.000000</td>\n",
              "    </tr>\n",
              "    <tr>\n",
              "      <th>25%</th>\n",
              "      <td>0.509180</td>\n",
              "      <td>0.237869</td>\n",
              "      <td>0.191353</td>\n",
              "      <td>0.022939</td>\n",
              "      <td>0.007661</td>\n",
              "      <td>0.068430</td>\n",
              "      <td>0.236757</td>\n",
              "      <td>0.030962</td>\n",
              "      <td>0.000000</td>\n",
              "    </tr>\n",
              "    <tr>\n",
              "      <th>50%</th>\n",
              "      <td>0.584919</td>\n",
              "      <td>0.299640</td>\n",
              "      <td>0.211075</td>\n",
              "      <td>0.028480</td>\n",
              "      <td>0.011599</td>\n",
              "      <td>0.107395</td>\n",
              "      <td>0.307141</td>\n",
              "      <td>0.071285</td>\n",
              "      <td>0.000000</td>\n",
              "    </tr>\n",
              "    <tr>\n",
              "      <th>75%</th>\n",
              "      <td>0.649199</td>\n",
              "      <td>0.354712</td>\n",
              "      <td>0.236220</td>\n",
              "      <td>0.038912</td>\n",
              "      <td>0.023528</td>\n",
              "      <td>0.203905</td>\n",
              "      <td>0.367371</td>\n",
              "      <td>0.118432</td>\n",
              "      <td>0.000000</td>\n",
              "    </tr>\n",
              "    <tr>\n",
              "      <th>max</th>\n",
              "      <td>1.000000</td>\n",
              "      <td>1.000000</td>\n",
              "      <td>1.000000</td>\n",
              "      <td>1.000000</td>\n",
              "      <td>1.000000</td>\n",
              "      <td>1.000000</td>\n",
              "      <td>1.000000</td>\n",
              "      <td>1.000000</td>\n",
              "      <td>1.000000</td>\n",
              "    </tr>\n",
              "  </tbody>\n",
              "</table>\n",
              "</div>"
            ],
            "text/plain": [
              "            mean_IP        std_IP  ...       skew_DM     is_pulsar\n",
              "count  17898.000000  17898.000000  ...  17898.000000  17898.000000\n",
              "mean       0.563516      0.294263  ...      0.089553      0.091574\n",
              "std        0.137325      0.092467  ...      0.089285      0.288432\n",
              "min        0.000000      0.000000  ...      0.000000      0.000000\n",
              "25%        0.509180      0.237869  ...      0.030962      0.000000\n",
              "50%        0.584919      0.299640  ...      0.071285      0.000000\n",
              "75%        0.649199      0.354712  ...      0.118432      0.000000\n",
              "max        1.000000      1.000000  ...      1.000000      1.000000\n",
              "\n",
              "[8 rows x 9 columns]"
            ]
          },
          "metadata": {
            "tags": []
          },
          "execution_count": 15
        }
      ]
    },
    {
      "cell_type": "markdown",
      "metadata": {
        "id": "3MGnxkw51Q3P",
        "colab_type": "text"
      },
      "source": [
        "Realizamos la partición de la data de entrenamiento, validación y test."
      ]
    },
    {
      "cell_type": "code",
      "metadata": {
        "id": "luxICBH01nc0",
        "colab_type": "code",
        "colab": {}
      },
      "source": [
        "#Partición de la data escalada\n",
        "X_sca = data_pulsar_scaled.drop(columns=[\"is_pulsar\"])\n",
        "y_sca = data_pulsar_scaled[\"is_pulsar\"]\n",
        "\n",
        "X_trainval_sca, X_test_sca, y_trainval_sca, y_test_sca = train_test_split(X_sca, y_sca, test_size=0.15, random_state=0) #random_state = 0, para mantener la particion\n",
        "X_train_sca, X_val_sca, y_train_sca, y_val_sca = train_test_split(X_trainval_sca, y_trainval_sca, test_size=0.2, random_state=0)\n"
      ],
      "execution_count": 0,
      "outputs": []
    },
    {
      "cell_type": "markdown",
      "metadata": {
        "colab_type": "text",
        "id": "Wr79epzz4PpF"
      },
      "source": [
        "# Análisis de Algoritmos con Data Normalizada"
      ]
    },
    {
      "cell_type": "markdown",
      "metadata": {
        "colab_type": "text",
        "id": "dyufgveAZvyX"
      },
      "source": [
        "## 1° Algoritmo: Random Forest"
      ]
    },
    {
      "cell_type": "code",
      "metadata": {
        "colab_type": "code",
        "id": "RbBeLG1eZ1sj",
        "outputId": "01e4d1f8-a678-4d1b-cdb1-239b4c05f889",
        "colab": {
          "base_uri": "https://localhost:8080/",
          "height": 368
        }
      },
      "source": [
        "from sklearn.ensemble import RandomForestClassifier\n",
        "\n",
        "RF_model = RandomForestClassifier(n_estimators=100, max_depth=2, random_state=0)\n",
        "RF_model.fit(X_train_sca, y_train_sca)\n",
        "functions.eval_model(RF_model, X_val_sca, y_val_sca)"
      ],
      "execution_count": 47,
      "outputs": [
        {
          "output_type": "stream",
          "text": [
            "El MSE para el modelo RandomForestClassifier es:  0.02201774564574433\n",
            "El accuracy para el modelo RandomForestClassifier es:  0.9779822543542557\n",
            "El precision para el modelo RandomForestClassifier es:  0.9344262295081968\n",
            "El recall para el modelo RandomForestClassifier es:  0.8172043010752689\n",
            "El F1-score para el modelo RandomForestClassifier es:  0.8718929254302105\n"
          ],
          "name": "stdout"
        },
        {
          "output_type": "display_data",
          "data": {
            "image/png": "[encoded data removed]",
            "text/plain": [
              "<Figure size 432x288 with 2 Axes>"
            ]
          },
          "metadata": {
            "tags": []
          }
        }
      ]
    },
    {
      "cell_type": "code",
      "metadata": {
        "id": "fWQPW4fVQbnz",
        "colab_type": "code",
        "colab": {
          "base_uri": "https://localhost:8080/",
          "height": 334
        },
        "outputId": "84d3940c-ccdf-4376-b7e2-3aa14c9ac550"
      },
      "source": [
        "from sklearn.model_selection import GridSearchCV\n",
        "from sklearn.metrics import make_scorer\n",
        "\n",
        "RF_grid_param = {  \n",
        "    'n_estimators': [50, 100, 200],\n",
        "    'criterion': ['gini', 'entropy'],\n",
        "    'max_depth': [2,3]\n",
        "}\n",
        "RF_gd = GridSearchCV(estimator=RF_model,  \n",
        "                     param_grid=RF_grid_param,\n",
        "                     scoring='f1',\n",
        "                     cv=5,\n",
        "                     n_jobs=-1)\n",
        "RF_gd.fit(X_train_sca, y_train_sca)  "
      ],
      "execution_count": 84,
      "outputs": [
        {
          "output_type": "execute_result",
          "data": {
            "text/plain": [
              "GridSearchCV(cv=5, error_score='raise-deprecating',\n",
              "             estimator=RandomForestClassifier(bootstrap=True, class_weight=None,\n",
              "                                              criterion='gini', max_depth=2,\n",
              "                                              max_features='auto',\n",
              "                                              max_leaf_nodes=None,\n",
              "                                              min_impurity_decrease=0.0,\n",
              "                                              min_impurity_split=None,\n",
              "                                              min_samples_leaf=1,\n",
              "                                              min_samples_split=2,\n",
              "                                              min_weight_fraction_leaf=0.0,\n",
              "                                              n_estimators=100, n_jobs=None,\n",
              "                                              oob_score=False, random_state=0,\n",
              "                                              verbose=0, warm_start=False),\n",
              "             iid='warn', n_jobs=-1,\n",
              "             param_grid={'criterion': ['gini', 'entropy'], 'max_depth': [2, 3],\n",
              "                         'n_estimators': [50, 100, 200]},\n",
              "             pre_dispatch='2*n_jobs', refit=True, return_train_score=False,\n",
              "             scoring='f1', verbose=0)"
            ]
          },
          "metadata": {
            "tags": []
          },
          "execution_count": 84
        }
      ]
    },
    {
      "cell_type": "code",
      "metadata": {
        "id": "4tsBI4dQRPal",
        "colab_type": "code",
        "colab": {
          "base_uri": "https://localhost:8080/",
          "height": 34
        },
        "outputId": "f7534102-6162-4d04-8305-8ddb3940be5d"
      },
      "source": [
        "RF_gd.best_params_"
      ],
      "execution_count": 85,
      "outputs": [
        {
          "output_type": "execute_result",
          "data": {
            "text/plain": [
              "{'criterion': 'entropy', 'max_depth': 3, 'n_estimators': 100}"
            ]
          },
          "metadata": {
            "tags": []
          },
          "execution_count": 85
        }
      ]
    },
    {
      "cell_type": "code",
      "metadata": {
        "id": "wGLPPLOjRXVc",
        "colab_type": "code",
        "colab": {
          "base_uri": "https://localhost:8080/",
          "height": 368
        },
        "outputId": "23c4bd43-caaa-4c9d-b8b2-2a2a0f874bf1"
      },
      "source": [
        "functions.eval_model(RF_gd.best_estimator_, X_val_sca, y_val_sca)"
      ],
      "execution_count": 87,
      "outputs": [
        {
          "output_type": "stream",
          "text": [
            "El MSE para el modelo RandomForestClassifier es:  0.020046007229707525\n",
            "El accuracy para el modelo RandomForestClassifier es:  0.9799539927702925\n",
            "El precision para el modelo RandomForestClassifier es:  0.9291338582677166\n",
            "El recall para el modelo RandomForestClassifier es:  0.8458781362007168\n",
            "El F1-score para el modelo RandomForestClassifier es:  0.8855534709193245\n"
          ],
          "name": "stdout"
        },
        {
          "output_type": "display_data",
          "data": {
            "image/png": "[encoded data removed]",
            "text/plain": [
              "<Figure size 432x288 with 2 Axes>"
            ]
          },
          "metadata": {
            "tags": []
          }
        }
      ]
    },
    {
      "cell_type": "markdown",
      "metadata": {
        "colab_type": "text",
        "id": "wJkNiVIm0_WK"
      },
      "source": [
        "## 2° Algoritmo: SVM"
      ]
    },
    {
      "cell_type": "code",
      "metadata": {
        "colab_type": "code",
        "id": "tEqTySan1FZK",
        "outputId": "11c2ec1e-9322-4353-afd6-110f1613bea9",
        "colab": {
          "base_uri": "https://localhost:8080/",
          "height": 368
        }
      },
      "source": [
        "from sklearn.svm import SVC\n",
        "\n",
        "SVM_model = SVC(gamma='auto',kernel='rbf')\n",
        "SVM_model.fit(X_train_sca, y_train_sca)\n",
        "functions.eval_model(SVM_model, X_val_sca, y_val_sca)"
      ],
      "execution_count": 23,
      "outputs": [
        {
          "output_type": "stream",
          "text": [
            "El MSE para el modelo SVC es:  0.025303976339139007\n",
            "El accuracy para el modelo SVC es:  0.9746960236608609\n",
            "El precision para el modelo SVC es:  0.9508928571428571\n",
            "El recall para el modelo SVC es:  0.7634408602150538\n",
            "El F1-score para el modelo SVC es:  0.8469184890656063\n"
          ],
          "name": "stdout"
        },
        {
          "output_type": "display_data",
          "data": {
            "image/png": "[encoded data removed]",
            "text/plain": [
              "<Figure size 432x288 with 2 Axes>"
            ]
          },
          "metadata": {
            "tags": []
          }
        }
      ]
    },
    {
      "cell_type": "code",
      "metadata": {
        "id": "d3ssiU0PQxCk",
        "colab_type": "code",
        "colab": {}
      },
      "source": [
        "SVM_grid_param = {  \n",
        "    'C': [1, 10, 100],\n",
        "    'gamma': ['auto',0.01, 0.0001],\n",
        "    'kernel': ['rbf']\n",
        "}"
      ],
      "execution_count": 0,
      "outputs": []
    },
    {
      "cell_type": "code",
      "metadata": {
        "id": "0MJmQ3TmMI4K",
        "colab_type": "code",
        "colab": {
          "base_uri": "https://localhost:8080/",
          "height": 210
        },
        "outputId": "32ab76f3-fd5b-485a-952c-1e021452e2e5"
      },
      "source": [
        "SVM_gd_sr2 = GridSearchCV(estimator=SVM_model_sm,  \n",
        "                     param_grid=SVM_grid_param,\n",
        "                     scoring='f1',\n",
        "                     cv=5,\n",
        "                     n_jobs=-1)\n",
        "SVM_gd_sr2.fit(X_train_sca, y_train_sca)  "
      ],
      "execution_count": 76,
      "outputs": [
        {
          "output_type": "execute_result",
          "data": {
            "text/plain": [
              "GridSearchCV(cv=5, error_score='raise-deprecating',\n",
              "             estimator=SVC(C=1.0, cache_size=200, class_weight=None, coef0=0.0,\n",
              "                           decision_function_shape='ovr', degree=3,\n",
              "                           gamma='auto', kernel='rbf', max_iter=-1,\n",
              "                           probability=False, random_state=None, shrinking=True,\n",
              "                           tol=0.001, verbose=False),\n",
              "             iid='warn', n_jobs=-1,\n",
              "             param_grid={'C': [1, 10, 100], 'gamma': ['auto', 0.01, 0.0001],\n",
              "                         'kernel': ['rbf']},\n",
              "             pre_dispatch='2*n_jobs', refit=True, return_train_score=False,\n",
              "             scoring='f1', verbose=0)"
            ]
          },
          "metadata": {
            "tags": []
          },
          "execution_count": 76
        }
      ]
    },
    {
      "cell_type": "code",
      "metadata": {
        "id": "hVO1uYTCNtvO",
        "colab_type": "code",
        "colab": {
          "base_uri": "https://localhost:8080/",
          "height": 34
        },
        "outputId": "b3f2ada8-bec1-47fc-8668-264c6a2c370c"
      },
      "source": [
        "SVM_gd_sr2.best_params_"
      ],
      "execution_count": 77,
      "outputs": [
        {
          "output_type": "execute_result",
          "data": {
            "text/plain": [
              "{'C': 100, 'gamma': 'auto', 'kernel': 'rbf'}"
            ]
          },
          "metadata": {
            "tags": []
          },
          "execution_count": 77
        }
      ]
    },
    {
      "cell_type": "code",
      "metadata": {
        "id": "eB7CL6N7NyNk",
        "colab_type": "code",
        "colab": {
          "base_uri": "https://localhost:8080/",
          "height": 368
        },
        "outputId": "5b017a39-b288-4276-cd0d-753301cc16f4"
      },
      "source": [
        "functions.eval_model(SVM_gd_sr2.best_estimator_, X_val_sca, y_val_sca)"
      ],
      "execution_count": 78,
      "outputs": [
        {
          "output_type": "stream",
          "text": [
            "El MSE para el modelo SVC es:  0.019717384160368057\n",
            "El accuracy para el modelo SVC es:  0.9802826158396319\n",
            "El precision para el modelo SVC es:  0.9362549800796812\n",
            "El recall para el modelo SVC es:  0.8422939068100358\n",
            "El F1-score para el modelo SVC es:  0.8867924528301886\n"
          ],
          "name": "stdout"
        },
        {
          "output_type": "display_data",
          "data": {
            "image/png": "[encoded data removed]",
            "text/plain": [
              "<Figure size 432x288 with 2 Axes>"
            ]
          },
          "metadata": {
            "tags": []
          }
        }
      ]
    },
    {
      "cell_type": "markdown",
      "metadata": {
        "colab_type": "text",
        "id": "nTQ5qGslA2a2"
      },
      "source": [
        "## 3° Algoritmo: KNN"
      ]
    },
    {
      "cell_type": "code",
      "metadata": {
        "colab_type": "code",
        "id": "mWIO7WilBBrj",
        "outputId": "1b6620fa-b4f6-4586-c5db-e0fe1ad04c00",
        "colab": {
          "base_uri": "https://localhost:8080/",
          "height": 368
        }
      },
      "source": [
        "from sklearn.neighbors import KNeighborsClassifier\n",
        "\n",
        "KNN_model = KNeighborsClassifier(n_neighbors=5)\n",
        "KNN_model.fit(X_train_sca, y_train_sca)\n",
        "functions.eval_model(KNN_model, X_val_sca, y_val_sca)"
      ],
      "execution_count": 24,
      "outputs": [
        {
          "output_type": "stream",
          "text": [
            "El MSE para el modelo KNeighborsClassifier es:  0.020046007229707525\n",
            "El accuracy para el modelo KNeighborsClassifier es:  0.9799539927702925\n",
            "El precision para el modelo KNeighborsClassifier es:  0.9291338582677166\n",
            "El recall para el modelo KNeighborsClassifier es:  0.8458781362007168\n",
            "El F1-score para el modelo KNeighborsClassifier es:  0.8855534709193245\n"
          ],
          "name": "stdout"
        },
        {
          "output_type": "display_data",
          "data": {
            "image/png": "[encoded data removed]",
            "text/plain": [
              "<Figure size 432x288 with 2 Axes>"
            ]
          },
          "metadata": {
            "tags": []
          }
        }
      ]
    },
    {
      "cell_type": "code",
      "metadata": {
        "id": "NQfTQWR7SxTC",
        "colab_type": "code",
        "colab": {
          "base_uri": "https://localhost:8080/",
          "height": 210
        },
        "outputId": "cf8ad3a3-b330-4f5b-a4bf-d5863e44dbca"
      },
      "source": [
        "KNN_grid_param = {  \n",
        "    'n_neighbors': [3,5,11,19],\n",
        "    'weights': ['uniform','distance'],\n",
        "    'p': [1,2]\n",
        "}\n",
        "KNN_gd_sr = GridSearchCV(estimator=KNN_model,  \n",
        "                     param_grid=KNN_grid_param,\n",
        "                     scoring='f1',\n",
        "                     cv=5,\n",
        "                     n_jobs=-1)\n",
        "KNN_gd_sr.fit(X_train_sca, y_train_sca)  "
      ],
      "execution_count": 90,
      "outputs": [
        {
          "output_type": "execute_result",
          "data": {
            "text/plain": [
              "GridSearchCV(cv=5, error_score='raise-deprecating',\n",
              "             estimator=KNeighborsClassifier(algorithm='auto', leaf_size=30,\n",
              "                                            metric='minkowski',\n",
              "                                            metric_params=None, n_jobs=None,\n",
              "                                            n_neighbors=5, p=2,\n",
              "                                            weights='uniform'),\n",
              "             iid='warn', n_jobs=-1,\n",
              "             param_grid={'n_neighbors': [3, 5, 11, 19], 'p': [1, 2],\n",
              "                         'weights': ['uniform', 'distance']},\n",
              "             pre_dispatch='2*n_jobs', refit=True, return_train_score=False,\n",
              "             scoring='f1', verbose=0)"
            ]
          },
          "metadata": {
            "tags": []
          },
          "execution_count": 90
        }
      ]
    },
    {
      "cell_type": "code",
      "metadata": {
        "id": "xKoMX_mrVvet",
        "colab_type": "code",
        "colab": {
          "base_uri": "https://localhost:8080/",
          "height": 34
        },
        "outputId": "25cc39b8-3b37-460b-cf44-b3b745aa5fc0"
      },
      "source": [
        "KNN_gd_sr.best_params_"
      ],
      "execution_count": 91,
      "outputs": [
        {
          "output_type": "execute_result",
          "data": {
            "text/plain": [
              "{'n_neighbors': 5, 'p': 2, 'weights': 'distance'}"
            ]
          },
          "metadata": {
            "tags": []
          },
          "execution_count": 91
        }
      ]
    },
    {
      "cell_type": "code",
      "metadata": {
        "id": "ajyyeKnrV4Ao",
        "colab_type": "code",
        "colab": {
          "base_uri": "https://localhost:8080/",
          "height": 368
        },
        "outputId": "b2e26f28-8bbb-486b-97c5-ab4d78bc89ec"
      },
      "source": [
        "functions.eval_model(KNN_gd_sr.best_estimator_, X_val_sca, y_val_sca)"
      ],
      "execution_count": 92,
      "outputs": [
        {
          "output_type": "stream",
          "text": [
            "El MSE para el modelo KNeighborsClassifier es:  0.019060138021689123\n",
            "El accuracy para el modelo KNeighborsClassifier es:  0.9809398619783108\n",
            "El precision para el modelo KNeighborsClassifier es:  0.9299610894941635\n",
            "El recall para el modelo KNeighborsClassifier es:  0.8566308243727598\n",
            "El F1-score para el modelo KNeighborsClassifier es:  0.8917910447761195\n"
          ],
          "name": "stdout"
        },
        {
          "output_type": "display_data",
          "data": {
            "image/png": "[encoded data removed]",
            "text/plain": [
              "<Figure size 432x288 with 2 Axes>"
            ]
          },
          "metadata": {
            "tags": []
          }
        }
      ]
    },
    {
      "cell_type": "markdown",
      "metadata": {
        "id": "oLxdqeUe3k9R",
        "colab_type": "text"
      },
      "source": [
        "## 4° Algoritmo: Red Neuronal"
      ]
    },
    {
      "cell_type": "code",
      "metadata": {
        "id": "nhoyLfHk3j5H",
        "colab_type": "code",
        "colab": {
          "base_uri": "https://localhost:8080/",
          "height": 423
        },
        "outputId": "90e94854-5eab-4ba2-fcd2-8ba0d4a5e418"
      },
      "source": [
        "from sklearn.neural_network import MLPClassifier\n",
        "\n",
        "NN_model = MLPClassifier()\n",
        "NN_model.fit(X_train_sca, y_train_sca)\n",
        "functions.eval_model(NN_model, X_val_sca, y_val_sca)"
      ],
      "execution_count": 25,
      "outputs": [
        {
          "output_type": "stream",
          "text": [
            "El MSE para el modelo MLPClassifier es:  0.01807426881367072\n",
            "El accuracy para el modelo MLPClassifier es:  0.9819257311863293\n",
            "El precision para el modelo MLPClassifier es:  0.9274809160305344\n",
            "El recall para el modelo MLPClassifier es:  0.8709677419354839\n",
            "El F1-score para el modelo MLPClassifier es:  0.8983364140480593\n"
          ],
          "name": "stdout"
        },
        {
          "output_type": "stream",
          "text": [
            "/usr/local/lib/python3.6/dist-packages/sklearn/neural_network/multilayer_perceptron.py:566: ConvergenceWarning: Stochastic Optimizer: Maximum iterations (200) reached and the optimization hasn't converged yet.\n",
            "  % self.max_iter, ConvergenceWarning)\n"
          ],
          "name": "stderr"
        },
        {
          "output_type": "display_data",
          "data": {
            "image/png": "[encoded data removed]",
            "text/plain": [
              "<Figure size 432x288 with 2 Axes>"
            ]
          },
          "metadata": {
            "tags": []
          }
        }
      ]
    },
    {
      "cell_type": "code",
      "metadata": {
        "id": "4BcZkiPDW8iE",
        "colab_type": "code",
        "colab": {
          "base_uri": "https://localhost:8080/",
          "height": 350
        },
        "outputId": "8681421c-d587-4612-bc7f-84f89740d63e"
      },
      "source": [
        "\n",
        "NN_grid_param = {  \n",
        "    'activation':['identity','logistic','tanh','relu'],\n",
        "    'solver': ['lbfgs','sgd','adam']\n",
        "}\n",
        "NN_gd_sr = GridSearchCV(estimator=NN_model,  \n",
        "                     param_grid=NN_grid_param,\n",
        "                     scoring='f1',\n",
        "                     cv=5,\n",
        "                     n_jobs=-1)\n",
        "NN_gd_sr.fit(X_train_sca, y_train_sca)  "
      ],
      "execution_count": 96,
      "outputs": [
        {
          "output_type": "error",
          "ename": "KeyboardInterrupt",
          "evalue": "ignored",
          "traceback": [
            "\u001b[0;31m---------------------------------------------------------------------------\u001b[0m",
            "\u001b[0;31mKeyboardInterrupt\u001b[0m                         Traceback (most recent call last)",
            "\u001b[0;32m<ipython-input-96-2dfdf58258df>\u001b[0m in \u001b[0;36m<module>\u001b[0;34m()\u001b[0m\n\u001b[1;32m      9\u001b[0m                      \u001b[0mcv\u001b[0m\u001b[0;34m=\u001b[0m\u001b[0;36m5\u001b[0m\u001b[0;34m,\u001b[0m\u001b[0;34m\u001b[0m\u001b[0;34m\u001b[0m\u001b[0m\n\u001b[1;32m     10\u001b[0m                      n_jobs=-1)\n\u001b[0;32m---> 11\u001b[0;31m \u001b[0mNN_gd_sr\u001b[0m\u001b[0;34m.\u001b[0m\u001b[0mfit\u001b[0m\u001b[0;34m(\u001b[0m\u001b[0mX_train_sca\u001b[0m\u001b[0;34m,\u001b[0m \u001b[0my_train_sca\u001b[0m\u001b[0;34m)\u001b[0m\u001b[0;34m\u001b[0m\u001b[0;34m\u001b[0m\u001b[0m\n\u001b[0m",
            "\u001b[0;32m/usr/local/lib/python3.6/dist-packages/sklearn/model_selection/_search.py\u001b[0m in \u001b[0;36mfit\u001b[0;34m(self, X, y, groups, **fit_params)\u001b[0m\n\u001b[1;32m    685\u001b[0m                 \u001b[0;32mreturn\u001b[0m \u001b[0mresults\u001b[0m\u001b[0;34m\u001b[0m\u001b[0;34m\u001b[0m\u001b[0m\n\u001b[1;32m    686\u001b[0m \u001b[0;34m\u001b[0m\u001b[0m\n\u001b[0;32m--> 687\u001b[0;31m             \u001b[0mself\u001b[0m\u001b[0;34m.\u001b[0m\u001b[0m_run_search\u001b[0m\u001b[0;34m(\u001b[0m\u001b[0mevaluate_candidates\u001b[0m\u001b[0;34m)\u001b[0m\u001b[0;34m\u001b[0m\u001b[0;34m\u001b[0m\u001b[0m\n\u001b[0m\u001b[1;32m    688\u001b[0m \u001b[0;34m\u001b[0m\u001b[0m\n\u001b[1;32m    689\u001b[0m         \u001b[0;31m# For multi-metric evaluation, store the best_index_, best_params_ and\u001b[0m\u001b[0;34m\u001b[0m\u001b[0;34m\u001b[0m\u001b[0;34m\u001b[0m\u001b[0m\n",
            "\u001b[0;32m/usr/local/lib/python3.6/dist-packages/sklearn/model_selection/_search.py\u001b[0m in \u001b[0;36m_run_search\u001b[0;34m(self, evaluate_candidates)\u001b[0m\n\u001b[1;32m   1146\u001b[0m     \u001b[0;32mdef\u001b[0m \u001b[0m_run_search\u001b[0m\u001b[0;34m(\u001b[0m\u001b[0mself\u001b[0m\u001b[0;34m,\u001b[0m \u001b[0mevaluate_candidates\u001b[0m\u001b[0;34m)\u001b[0m\u001b[0;34m:\u001b[0m\u001b[0;34m\u001b[0m\u001b[0;34m\u001b[0m\u001b[0m\n\u001b[1;32m   1147\u001b[0m         \u001b[0;34m\"\"\"Search all candidates in param_grid\"\"\"\u001b[0m\u001b[0;34m\u001b[0m\u001b[0;34m\u001b[0m\u001b[0m\n\u001b[0;32m-> 1148\u001b[0;31m         \u001b[0mevaluate_candidates\u001b[0m\u001b[0;34m(\u001b[0m\u001b[0mParameterGrid\u001b[0m\u001b[0;34m(\u001b[0m\u001b[0mself\u001b[0m\u001b[0;34m.\u001b[0m\u001b[0mparam_grid\u001b[0m\u001b[0;34m)\u001b[0m\u001b[0;34m)\u001b[0m\u001b[0;34m\u001b[0m\u001b[0;34m\u001b[0m\u001b[0m\n\u001b[0m\u001b[1;32m   1149\u001b[0m \u001b[0;34m\u001b[0m\u001b[0m\n\u001b[1;32m   1150\u001b[0m \u001b[0;34m\u001b[0m\u001b[0m\n",
            "\u001b[0;32m/usr/local/lib/python3.6/dist-packages/sklearn/model_selection/_search.py\u001b[0m in \u001b[0;36mevaluate_candidates\u001b[0;34m(candidate_params)\u001b[0m\n\u001b[1;32m    664\u001b[0m                                \u001b[0;32mfor\u001b[0m \u001b[0mparameters\u001b[0m\u001b[0;34m,\u001b[0m \u001b[0;34m(\u001b[0m\u001b[0mtrain\u001b[0m\u001b[0;34m,\u001b[0m \u001b[0mtest\u001b[0m\u001b[0;34m)\u001b[0m\u001b[0;34m\u001b[0m\u001b[0;34m\u001b[0m\u001b[0m\n\u001b[1;32m    665\u001b[0m                                in product(candidate_params,\n\u001b[0;32m--> 666\u001b[0;31m                                           cv.split(X, y, groups)))\n\u001b[0m\u001b[1;32m    667\u001b[0m \u001b[0;34m\u001b[0m\u001b[0m\n\u001b[1;32m    668\u001b[0m                 \u001b[0;32mif\u001b[0m \u001b[0mlen\u001b[0m\u001b[0;34m(\u001b[0m\u001b[0mout\u001b[0m\u001b[0;34m)\u001b[0m \u001b[0;34m<\u001b[0m \u001b[0;36m1\u001b[0m\u001b[0;34m:\u001b[0m\u001b[0;34m\u001b[0m\u001b[0;34m\u001b[0m\u001b[0m\n",
            "\u001b[0;32m/usr/local/lib/python3.6/dist-packages/joblib/parallel.py\u001b[0m in \u001b[0;36m__call__\u001b[0;34m(self, iterable)\u001b[0m\n\u001b[1;32m    932\u001b[0m \u001b[0;34m\u001b[0m\u001b[0m\n\u001b[1;32m    933\u001b[0m             \u001b[0;32mwith\u001b[0m \u001b[0mself\u001b[0m\u001b[0;34m.\u001b[0m\u001b[0m_backend\u001b[0m\u001b[0;34m.\u001b[0m\u001b[0mretrieval_context\u001b[0m\u001b[0;34m(\u001b[0m\u001b[0;34m)\u001b[0m\u001b[0;34m:\u001b[0m\u001b[0;34m\u001b[0m\u001b[0;34m\u001b[0m\u001b[0m\n\u001b[0;32m--> 934\u001b[0;31m                 \u001b[0mself\u001b[0m\u001b[0;34m.\u001b[0m\u001b[0mretrieve\u001b[0m\u001b[0;34m(\u001b[0m\u001b[0;34m)\u001b[0m\u001b[0;34m\u001b[0m\u001b[0;34m\u001b[0m\u001b[0m\n\u001b[0m\u001b[1;32m    935\u001b[0m             \u001b[0;31m# Make sure that we get a last message telling us we are done\u001b[0m\u001b[0;34m\u001b[0m\u001b[0;34m\u001b[0m\u001b[0;34m\u001b[0m\u001b[0m\n\u001b[1;32m    936\u001b[0m             \u001b[0melapsed_time\u001b[0m \u001b[0;34m=\u001b[0m \u001b[0mtime\u001b[0m\u001b[0;34m.\u001b[0m\u001b[0mtime\u001b[0m\u001b[0;34m(\u001b[0m\u001b[0;34m)\u001b[0m \u001b[0;34m-\u001b[0m \u001b[0mself\u001b[0m\u001b[0;34m.\u001b[0m\u001b[0m_start_time\u001b[0m\u001b[0;34m\u001b[0m\u001b[0;34m\u001b[0m\u001b[0m\n",
            "\u001b[0;32m/usr/local/lib/python3.6/dist-packages/joblib/parallel.py\u001b[0m in \u001b[0;36mretrieve\u001b[0;34m(self)\u001b[0m\n\u001b[1;32m    831\u001b[0m             \u001b[0;32mtry\u001b[0m\u001b[0;34m:\u001b[0m\u001b[0;34m\u001b[0m\u001b[0;34m\u001b[0m\u001b[0m\n\u001b[1;32m    832\u001b[0m                 \u001b[0;32mif\u001b[0m \u001b[0mgetattr\u001b[0m\u001b[0;34m(\u001b[0m\u001b[0mself\u001b[0m\u001b[0;34m.\u001b[0m\u001b[0m_backend\u001b[0m\u001b[0;34m,\u001b[0m \u001b[0;34m'supports_timeout'\u001b[0m\u001b[0;34m,\u001b[0m \u001b[0;32mFalse\u001b[0m\u001b[0;34m)\u001b[0m\u001b[0;34m:\u001b[0m\u001b[0;34m\u001b[0m\u001b[0;34m\u001b[0m\u001b[0m\n\u001b[0;32m--> 833\u001b[0;31m                     \u001b[0mself\u001b[0m\u001b[0;34m.\u001b[0m\u001b[0m_output\u001b[0m\u001b[0;34m.\u001b[0m\u001b[0mextend\u001b[0m\u001b[0;34m(\u001b[0m\u001b[0mjob\u001b[0m\u001b[0;34m.\u001b[0m\u001b[0mget\u001b[0m\u001b[0;34m(\u001b[0m\u001b[0mtimeout\u001b[0m\u001b[0;34m=\u001b[0m\u001b[0mself\u001b[0m\u001b[0;34m.\u001b[0m\u001b[0mtimeout\u001b[0m\u001b[0;34m)\u001b[0m\u001b[0;34m)\u001b[0m\u001b[0;34m\u001b[0m\u001b[0;34m\u001b[0m\u001b[0m\n\u001b[0m\u001b[1;32m    834\u001b[0m                 \u001b[0;32melse\u001b[0m\u001b[0;34m:\u001b[0m\u001b[0;34m\u001b[0m\u001b[0;34m\u001b[0m\u001b[0m\n\u001b[1;32m    835\u001b[0m                     \u001b[0mself\u001b[0m\u001b[0;34m.\u001b[0m\u001b[0m_output\u001b[0m\u001b[0;34m.\u001b[0m\u001b[0mextend\u001b[0m\u001b[0;34m(\u001b[0m\u001b[0mjob\u001b[0m\u001b[0;34m.\u001b[0m\u001b[0mget\u001b[0m\u001b[0;34m(\u001b[0m\u001b[0;34m)\u001b[0m\u001b[0;34m)\u001b[0m\u001b[0;34m\u001b[0m\u001b[0;34m\u001b[0m\u001b[0m\n",
            "\u001b[0;32m/usr/local/lib/python3.6/dist-packages/joblib/_parallel_backends.py\u001b[0m in \u001b[0;36mwrap_future_result\u001b[0;34m(future, timeout)\u001b[0m\n\u001b[1;32m    519\u001b[0m         AsyncResults.get from multiprocessing.\"\"\"\n\u001b[1;32m    520\u001b[0m         \u001b[0;32mtry\u001b[0m\u001b[0;34m:\u001b[0m\u001b[0;34m\u001b[0m\u001b[0;34m\u001b[0m\u001b[0m\n\u001b[0;32m--> 521\u001b[0;31m             \u001b[0;32mreturn\u001b[0m \u001b[0mfuture\u001b[0m\u001b[0;34m.\u001b[0m\u001b[0mresult\u001b[0m\u001b[0;34m(\u001b[0m\u001b[0mtimeout\u001b[0m\u001b[0;34m=\u001b[0m\u001b[0mtimeout\u001b[0m\u001b[0;34m)\u001b[0m\u001b[0;34m\u001b[0m\u001b[0;34m\u001b[0m\u001b[0m\n\u001b[0m\u001b[1;32m    522\u001b[0m         \u001b[0;32mexcept\u001b[0m \u001b[0mLokyTimeoutError\u001b[0m\u001b[0;34m:\u001b[0m\u001b[0;34m\u001b[0m\u001b[0;34m\u001b[0m\u001b[0m\n\u001b[1;32m    523\u001b[0m             \u001b[0;32mraise\u001b[0m \u001b[0mTimeoutError\u001b[0m\u001b[0;34m(\u001b[0m\u001b[0;34m)\u001b[0m\u001b[0;34m\u001b[0m\u001b[0;34m\u001b[0m\u001b[0m\n",
            "\u001b[0;32m/usr/lib/python3.6/concurrent/futures/_base.py\u001b[0m in \u001b[0;36mresult\u001b[0;34m(self, timeout)\u001b[0m\n\u001b[1;32m    425\u001b[0m                 \u001b[0;32mreturn\u001b[0m \u001b[0mself\u001b[0m\u001b[0;34m.\u001b[0m\u001b[0m__get_result\u001b[0m\u001b[0;34m(\u001b[0m\u001b[0;34m)\u001b[0m\u001b[0;34m\u001b[0m\u001b[0;34m\u001b[0m\u001b[0m\n\u001b[1;32m    426\u001b[0m \u001b[0;34m\u001b[0m\u001b[0m\n\u001b[0;32m--> 427\u001b[0;31m             \u001b[0mself\u001b[0m\u001b[0;34m.\u001b[0m\u001b[0m_condition\u001b[0m\u001b[0;34m.\u001b[0m\u001b[0mwait\u001b[0m\u001b[0;34m(\u001b[0m\u001b[0mtimeout\u001b[0m\u001b[0;34m)\u001b[0m\u001b[0;34m\u001b[0m\u001b[0;34m\u001b[0m\u001b[0m\n\u001b[0m\u001b[1;32m    428\u001b[0m \u001b[0;34m\u001b[0m\u001b[0m\n\u001b[1;32m    429\u001b[0m             \u001b[0;32mif\u001b[0m \u001b[0mself\u001b[0m\u001b[0;34m.\u001b[0m\u001b[0m_state\u001b[0m \u001b[0;32min\u001b[0m \u001b[0;34m[\u001b[0m\u001b[0mCANCELLED\u001b[0m\u001b[0;34m,\u001b[0m \u001b[0mCANCELLED_AND_NOTIFIED\u001b[0m\u001b[0;34m]\u001b[0m\u001b[0;34m:\u001b[0m\u001b[0;34m\u001b[0m\u001b[0;34m\u001b[0m\u001b[0m\n",
            "\u001b[0;32m/usr/lib/python3.6/threading.py\u001b[0m in \u001b[0;36mwait\u001b[0;34m(self, timeout)\u001b[0m\n\u001b[1;32m    293\u001b[0m         \u001b[0;32mtry\u001b[0m\u001b[0;34m:\u001b[0m    \u001b[0;31m# restore state no matter what (e.g., KeyboardInterrupt)\u001b[0m\u001b[0;34m\u001b[0m\u001b[0;34m\u001b[0m\u001b[0m\n\u001b[1;32m    294\u001b[0m             \u001b[0;32mif\u001b[0m \u001b[0mtimeout\u001b[0m \u001b[0;32mis\u001b[0m \u001b[0;32mNone\u001b[0m\u001b[0;34m:\u001b[0m\u001b[0;34m\u001b[0m\u001b[0;34m\u001b[0m\u001b[0m\n\u001b[0;32m--> 295\u001b[0;31m                 \u001b[0mwaiter\u001b[0m\u001b[0;34m.\u001b[0m\u001b[0macquire\u001b[0m\u001b[0;34m(\u001b[0m\u001b[0;34m)\u001b[0m\u001b[0;34m\u001b[0m\u001b[0;34m\u001b[0m\u001b[0m\n\u001b[0m\u001b[1;32m    296\u001b[0m                 \u001b[0mgotit\u001b[0m \u001b[0;34m=\u001b[0m \u001b[0;32mTrue\u001b[0m\u001b[0;34m\u001b[0m\u001b[0;34m\u001b[0m\u001b[0m\n\u001b[1;32m    297\u001b[0m             \u001b[0;32melse\u001b[0m\u001b[0;34m:\u001b[0m\u001b[0;34m\u001b[0m\u001b[0;34m\u001b[0m\u001b[0m\n",
            "\u001b[0;31mKeyboardInterrupt\u001b[0m: "
          ]
        }
      ]
    },
    {
      "cell_type": "markdown",
      "metadata": {
        "colab_type": "text",
        "id": "A_Q8pZPRaDW3"
      },
      "source": [
        "#  Análisis de Algoritmos con Data Normalizada y Balanceada"
      ]
    },
    {
      "cell_type": "markdown",
      "metadata": {
        "colab_type": "text",
        "id": "xt7Pq9UJ49Qz"
      },
      "source": [
        "## Aplicación de SVMSMOTE\n",
        "\n",
        "\n",
        "Variante del algoritmo SMOTE que utiliza un algoritmo SVM para detectar la muestra que se usará para generar nuevas muestras sintéticas, utiliza un clasificador SVM para encontrar vectores de soporte y generar las muestras.\n",
        "\n",
        "*Referencia: https://imbalanced-learn.readthedocs.io/en/latest/generated/imblearn.over_sampling.SVMSMOTE.html#imblearn.over_sampling.SVMSMOTE*"
      ]
    },
    {
      "cell_type": "markdown",
      "metadata": {
        "id": "nwD6XRNp4KMn",
        "colab_type": "text"
      },
      "source": [
        "Dado que el conjunto de datos presenta un problema de desbalance de datos, se decidi aplicar la técnica de over-sampling SVMSMOTE."
      ]
    },
    {
      "cell_type": "markdown",
      "metadata": {
        "id": "p5DHT4JW5ssf",
        "colab_type": "text"
      },
      "source": [
        "Aplicamos SVMSMOTE en el conjunto de entrenamiento."
      ]
    },
    {
      "cell_type": "code",
      "metadata": {
        "colab_type": "code",
        "id": "8VHaZilY5ZX6",
        "colab": {}
      },
      "source": [
        "#https://imbalanced-learn.readthedocs.io/en/latest/generated/imblearn.over_sampling.SVMSMOTE.html#r88acb9955f91-2\n",
        "from imblearn.over_sampling import SVMSMOTE\n",
        "smt = SVMSMOTE(random_state=12)\n",
        "X_resampled, y_resampled = smt.fit_resample(X_train_sca, y_train_sca)\n",
        "X_train_svmsmote = pd.DataFrame(X_resampled)\n",
        "y_train_svmsmote = pd.Series(y_resampled)"
      ],
      "execution_count": 0,
      "outputs": []
    },
    {
      "cell_type": "code",
      "metadata": {
        "id": "9qDCaF2J68GC",
        "colab_type": "code",
        "colab": {
          "base_uri": "https://localhost:8080/",
          "height": 105
        },
        "outputId": "2303d4be-7a44-416d-ab83-9baa4e8eb164"
      },
      "source": [
        "print(\"* Antes del proceso de over-sampling, se tiene {} valores de la clase '1'\".format(sum(y_train_sca==1)))\n",
        "print(\"* Antes del proceso de over-sampling, se tiene {} valores de la clase '0'\\n\".format(sum(y_train_sca==0)))\n",
        "\n",
        "\n",
        "print(\"* Después del proceso de over-sampling, se tiene {} valores de la clase '1'\".format(sum(y_train_svmsmote==1)))\n",
        "print(\"* Después del proceso de over-sampling, se tiene {} valores de la clase '0'\".format(sum(y_train_svmsmote==0)))"
      ],
      "execution_count": 32,
      "outputs": [
        {
          "output_type": "stream",
          "text": [
            "* Antes del proceso de over-sampling, se tiene 1150 valores de la clase '1'\n",
            "* Antes del proceso de over-sampling, se tiene 11020 valores de la clase '0'\n",
            "\n",
            "* Después del proceso de over-sampling, se tiene 11020 valores de la clase '1'\n",
            "* Después del proceso de over-sampling, se tiene 11020 valores de la clase '0'\n"
          ],
          "name": "stdout"
        }
      ]
    },
    {
      "cell_type": "code",
      "metadata": {
        "id": "ThX8VfER_qjK",
        "colab_type": "code",
        "colab": {}
      },
      "source": [
        "from imblearn.over_sampling import BorderlineSMOTE\n",
        "bls = BorderlineSMOTE()\n",
        "X_resampled, y_resampled = bls.fit_resample(X_train_sca, y_train_sca)\n",
        "X_train_blsmote = pd.DataFrame(X_resampled)\n",
        "y_train_blsmote  = pd.Series(y_resampled)"
      ],
      "execution_count": 0,
      "outputs": []
    },
    {
      "cell_type": "code",
      "metadata": {
        "id": "Zq5ifacl_6GD",
        "colab_type": "code",
        "colab": {
          "base_uri": "https://localhost:8080/",
          "height": 105
        },
        "outputId": "d14c16d8-6f20-43e3-ee8d-47927397bd8e"
      },
      "source": [
        "print(\"* Antes del proceso de over-sampling, se tiene {} valores de la clase '1'\".format(sum(y_train_sca==1)))\n",
        "print(\"* Antes del proceso de over-sampling, se tiene {} valores de la clase '0'\\n\".format(sum(y_train_sca==0)))\n",
        "\n",
        "\n",
        "print(\"* Después del proceso de over-sampling, se tiene {} valores de la clase '1'\".format(sum(y_train_blsmote==1)))\n",
        "print(\"* Después del proceso de over-sampling, se tiene {} valores de la clase '0'\".format(sum(y_train_blsmote==0)))"
      ],
      "execution_count": 42,
      "outputs": [
        {
          "output_type": "stream",
          "text": [
            "* Antes del proceso de over-sampling, se tiene 1150 valores de la clase '1'\n",
            "* Antes del proceso de over-sampling, se tiene 11020 valores de la clase '0'\n",
            "\n",
            "* Después del proceso de over-sampling, se tiene 11020 valores de la clase '1'\n",
            "* Después del proceso de over-sampling, se tiene 11020 valores de la clase '0'\n"
          ],
          "name": "stdout"
        }
      ]
    },
    {
      "cell_type": "markdown",
      "metadata": {
        "id": "ihrD1ksuT2US",
        "colab_type": "text"
      },
      "source": [
        "## 1° Algoritmo: Random Forest"
      ]
    },
    {
      "cell_type": "code",
      "metadata": {
        "id": "rptd9nIcT4_4",
        "colab_type": "code",
        "outputId": "77a6b4c6-ce31-458e-9785-878285e54e62",
        "colab": {
          "base_uri": "https://localhost:8080/",
          "height": 368
        }
      },
      "source": [
        "from sklearn.ensemble import RandomForestClassifier\n",
        "\n",
        "RF_model_sm = RandomForestClassifier(n_estimators=100, max_depth=2, random_state=0)\n",
        "RF_model_sm.fit(X_train_svmsmote, y_train_svmsmote)\n",
        "functions.eval_model(RF_model_sm, X_val_sca, y_val_sca)"
      ],
      "execution_count": 56,
      "outputs": [
        {
          "output_type": "stream",
          "text": [
            "El MSE para el modelo RandomForestClassifier es:  0.057837660203746304\n",
            "El accuracy para el modelo RandomForestClassifier es:  0.9421623397962537\n",
            "El precision para el modelo RandomForestClassifier es:  0.6235011990407674\n",
            "El recall para el modelo RandomForestClassifier es:  0.931899641577061\n",
            "El F1-score para el modelo RandomForestClassifier es:  0.7471264367816092\n"
          ],
          "name": "stdout"
        },
        {
          "output_type": "display_data",
          "data": {
            "image/png": "[encoded data removed]",
            "text/plain": [
              "<Figure size 432x288 with 2 Axes>"
            ]
          },
          "metadata": {
            "tags": []
          }
        }
      ]
    },
    {
      "cell_type": "code",
      "metadata": {
        "id": "dWq_YkKG8kY8",
        "colab_type": "code",
        "colab": {}
      },
      "source": [
        "from sklearn.model_selection import GridSearchCV\n",
        "from sklearn.metrics import make_scorer\n",
        "\n",
        "RF_grid_param = {  \n",
        "    'n_estimators': [50, 100, 200],\n",
        "    'criterion': ['gini', 'entropy'],\n",
        "    'max_depth': [2,3]\n",
        "}"
      ],
      "execution_count": 0,
      "outputs": []
    },
    {
      "cell_type": "code",
      "metadata": {
        "id": "8QmHPNaD855u",
        "colab_type": "code",
        "colab": {
          "base_uri": "https://localhost:8080/",
          "height": 334
        },
        "outputId": "54f52c1a-558d-45e9-8735-d324d71202e5"
      },
      "source": [
        "RF_gd_sr = GridSearchCV(estimator=RF_model_sm,  \n",
        "                     param_grid=RF_grid_param,\n",
        "                     scoring='f1',\n",
        "                     cv=5,\n",
        "                     n_jobs=-1)\n",
        "RF_gd_sr.fit(X_train_svmsmote, y_train_svmsmote)  "
      ],
      "execution_count": 74,
      "outputs": [
        {
          "output_type": "execute_result",
          "data": {
            "text/plain": [
              "GridSearchCV(cv=5, error_score='raise-deprecating',\n",
              "             estimator=RandomForestClassifier(bootstrap=True, class_weight=None,\n",
              "                                              criterion='gini', max_depth=2,\n",
              "                                              max_features='auto',\n",
              "                                              max_leaf_nodes=None,\n",
              "                                              min_impurity_decrease=0.0,\n",
              "                                              min_impurity_split=None,\n",
              "                                              min_samples_leaf=1,\n",
              "                                              min_samples_split=2,\n",
              "                                              min_weight_fraction_leaf=0.0,\n",
              "                                              n_estimators=100, n_jobs=None,\n",
              "                                              oob_score=False, random_state=0,\n",
              "                                              verbose=0, warm_start=False),\n",
              "             iid='warn', n_jobs=-1,\n",
              "             param_grid={'criterion': ['gini', 'entropy'], 'max_depth': [2, 3],\n",
              "                         'n_estimators': [50, 100, 200]},\n",
              "             pre_dispatch='2*n_jobs', refit=True, return_train_score=False,\n",
              "             scoring='f1', verbose=0)"
            ]
          },
          "metadata": {
            "tags": []
          },
          "execution_count": 74
        }
      ]
    },
    {
      "cell_type": "code",
      "metadata": {
        "id": "VGk53iMsOkO_",
        "colab_type": "code",
        "colab": {
          "base_uri": "https://localhost:8080/",
          "height": 34
        },
        "outputId": "7af3135c-4c85-4a43-8d09-355ae274a05c"
      },
      "source": [
        "RF_gd_sr.best_params_"
      ],
      "execution_count": 82,
      "outputs": [
        {
          "output_type": "execute_result",
          "data": {
            "text/plain": [
              "{'criterion': 'entropy', 'max_depth': 3, 'n_estimators': 100}"
            ]
          },
          "metadata": {
            "tags": []
          },
          "execution_count": 82
        }
      ]
    },
    {
      "cell_type": "code",
      "metadata": {
        "id": "QEe7BGg1Oqcp",
        "colab_type": "code",
        "colab": {
          "base_uri": "https://localhost:8080/",
          "height": 368
        },
        "outputId": "f1af2218-da9b-4a0f-d0fa-6458d76965e2"
      },
      "source": [
        "functions.eval_model(RF_gd_sr.best_estimator_, X_val_sca, y_val_sca)"
      ],
      "execution_count": 83,
      "outputs": [
        {
          "output_type": "stream",
          "text": [
            "El MSE para el modelo RandomForestClassifier es:  0.05816628327308577\n",
            "El accuracy para el modelo RandomForestClassifier es:  0.9418337167269142\n",
            "El precision para el modelo RandomForestClassifier es:  0.6202830188679245\n",
            "El recall para el modelo RandomForestClassifier es:  0.942652329749104\n",
            "El F1-score para el modelo RandomForestClassifier es:  0.7482219061166429\n"
          ],
          "name": "stdout"
        },
        {
          "output_type": "display_data",
          "data": {
            "image/png": "[encoded data removed]",
            "text/plain": [
              "<Figure size 432x288 with 2 Axes>"
            ]
          },
          "metadata": {
            "tags": []
          }
        }
      ]
    },
    {
      "cell_type": "markdown",
      "metadata": {
        "id": "omTII_SNL15Z",
        "colab_type": "text"
      },
      "source": [
        "## 2° Algoritmo: SVM"
      ]
    },
    {
      "cell_type": "code",
      "metadata": {
        "id": "4E55UeFELhv9",
        "colab_type": "code",
        "outputId": "9625e675-def3-47a8-b606-9b8f35293515",
        "colab": {
          "base_uri": "https://localhost:8080/",
          "height": 368
        }
      },
      "source": [
        "from sklearn.svm import SVC\n",
        "\n",
        "SVM_model_sm = SVC(gamma='auto',kernel='rbf')\n",
        "SVM_model_sm.fit(X_train_svmsmote, y_train_svmsmote)\n",
        "functions.eval_model(SVM_model_sm, X_val_sca, y_val_sca)"
      ],
      "execution_count": 59,
      "outputs": [
        {
          "output_type": "stream",
          "text": [
            "El MSE para el modelo SVC es:  0.05718041406506737\n",
            "El accuracy para el modelo SVC es:  0.9428195859349326\n",
            "El precision para el modelo SVC es:  0.624113475177305\n",
            "El recall para el modelo SVC es:  0.946236559139785\n",
            "El F1-score para el modelo SVC es:  0.7521367521367522\n"
          ],
          "name": "stdout"
        },
        {
          "output_type": "display_data",
          "data": {
            "image/png": "[encoded data removed]",
            "text/plain": [
              "<Figure size 432x288 with 2 Axes>"
            ]
          },
          "metadata": {
            "tags": []
          }
        }
      ]
    },
    {
      "cell_type": "code",
      "metadata": {
        "id": "iO6h3DKCJ5fS",
        "colab_type": "code",
        "colab": {}
      },
      "source": [
        "SVM_grid_param = {  \n",
        "    'C': [1, 10, 100],\n",
        "    'gamma': ['auto',0.01, 0.0001],\n",
        "    'kernel': ['rbf']\n",
        "}"
      ],
      "execution_count": 0,
      "outputs": []
    },
    {
      "cell_type": "code",
      "metadata": {
        "id": "-xgF9dCaKRXt",
        "colab_type": "code",
        "colab": {
          "base_uri": "https://localhost:8080/",
          "height": 210
        },
        "outputId": "a317b318-85c1-48e5-8334-308c31cf913e"
      },
      "source": [
        "SVM_gd_sr = GridSearchCV(estimator=SVM_model_sm,  \n",
        "                     param_grid=SVM_grid_param,\n",
        "                     scoring='f1',\n",
        "                     cv=5,\n",
        "                     n_jobs=-1)\n",
        "SVM_gd_sr.fit(X_train_svmsmote, y_train_svmsmote)  "
      ],
      "execution_count": 79,
      "outputs": [
        {
          "output_type": "execute_result",
          "data": {
            "text/plain": [
              "GridSearchCV(cv=5, error_score='raise-deprecating',\n",
              "             estimator=SVC(C=1.0, cache_size=200, class_weight=None, coef0=0.0,\n",
              "                           decision_function_shape='ovr', degree=3,\n",
              "                           gamma='auto', kernel='rbf', max_iter=-1,\n",
              "                           probability=False, random_state=None, shrinking=True,\n",
              "                           tol=0.001, verbose=False),\n",
              "             iid='warn', n_jobs=-1,\n",
              "             param_grid={'C': [1, 10, 100], 'gamma': ['auto', 0.01, 0.0001],\n",
              "                         'kernel': ['rbf']},\n",
              "             pre_dispatch='2*n_jobs', refit=True, return_train_score=False,\n",
              "             scoring='f1', verbose=0)"
            ]
          },
          "metadata": {
            "tags": []
          },
          "execution_count": 79
        }
      ]
    },
    {
      "cell_type": "code",
      "metadata": {
        "id": "y42mROEAM8Qu",
        "colab_type": "code",
        "colab": {
          "base_uri": "https://localhost:8080/",
          "height": 368
        },
        "outputId": "b935a232-2617-4d5f-c8c4-4c4fd9b4ae7a"
      },
      "source": [
        "functions.eval_model(SVM_gd_sr.best_estimator_, X_val_sca, y_val_sca)"
      ],
      "execution_count": 80,
      "outputs": [
        {
          "output_type": "stream",
          "text": [
            "El MSE para el modelo SVC es:  0.038777522182057184\n",
            "El accuracy para el modelo SVC es:  0.9612224778179428\n",
            "El precision para el modelo SVC es:  0.7169811320754716\n",
            "El recall para el modelo SVC es:  0.953405017921147\n",
            "El F1-score para el modelo SVC es:  0.8184615384615385\n"
          ],
          "name": "stdout"
        },
        {
          "output_type": "display_data",
          "data": {
            "image/png": "[encoded data removed]",
            "text/plain": [
              "<Figure size 432x288 with 2 Axes>"
            ]
          },
          "metadata": {
            "tags": []
          }
        }
      ]
    },
    {
      "cell_type": "code",
      "metadata": {
        "id": "ju32dnmJMt-L",
        "colab_type": "code",
        "colab": {
          "base_uri": "https://localhost:8080/",
          "height": 34
        },
        "outputId": "031a56be-53bb-4a7a-e35a-4125861645ef"
      },
      "source": [
        "SVM_gd_sr.best_params_"
      ],
      "execution_count": 81,
      "outputs": [
        {
          "output_type": "execute_result",
          "data": {
            "text/plain": [
              "{'C': 100, 'gamma': 'auto', 'kernel': 'rbf'}"
            ]
          },
          "metadata": {
            "tags": []
          },
          "execution_count": 81
        }
      ]
    },
    {
      "cell_type": "markdown",
      "metadata": {
        "id": "sPV-5aYbNL8Y",
        "colab_type": "text"
      },
      "source": [
        "## 3° Algoritmo: KNN"
      ]
    },
    {
      "cell_type": "code",
      "metadata": {
        "id": "h7QHYqdUNTVn",
        "colab_type": "code",
        "outputId": "dc679338-ab36-495d-b03a-e58021759cfc",
        "colab": {
          "base_uri": "https://localhost:8080/",
          "height": 368
        }
      },
      "source": [
        "from sklearn.neighbors import KNeighborsClassifier\n",
        "\n",
        "KNN_model_sm = KNeighborsClassifier(n_neighbors=5)\n",
        "KNN_model_sm.fit(X_train_svmsmote, y_train_svmsmote)\n",
        "functions.eval_model(KNN_model_sm, X_val_sca, y_val_sca)"
      ],
      "execution_count": 60,
      "outputs": [
        {
          "output_type": "stream",
          "text": [
            "El MSE para el modelo KNeighborsClassifier es:  0.03812027604337825\n",
            "El accuracy para el modelo KNeighborsClassifier es:  0.9618797239566218\n",
            "El precision para el modelo KNeighborsClassifier es:  0.7282913165266106\n",
            "El recall para el modelo KNeighborsClassifier es:  0.931899641577061\n",
            "El F1-score para el modelo KNeighborsClassifier es:  0.8176100628930817\n"
          ],
          "name": "stdout"
        },
        {
          "output_type": "display_data",
          "data": {
            "image/png": "[encoded data removed]",
            "text/plain": [
              "<Figure size 432x288 with 2 Axes>"
            ]
          },
          "metadata": {
            "tags": []
          }
        }
      ]
    },
    {
      "cell_type": "markdown",
      "metadata": {
        "id": "LKa0GTg6dodL",
        "colab_type": "text"
      },
      "source": [
        "## 4° Algoritmo: Red Neuronal"
      ]
    },
    {
      "cell_type": "code",
      "metadata": {
        "id": "NUuUfbk3drw-",
        "colab_type": "code",
        "outputId": "a1d2d9aa-d819-45cf-b833-2da086321dfa",
        "colab": {
          "base_uri": "https://localhost:8080/",
          "height": 423
        }
      },
      "source": [
        "from sklearn.neural_network import MLPClassifier\n",
        "\n",
        "NN_model_sm = MLPClassifier()\n",
        "NN_model_sm.fit(X_train_svmsmote, y_train_svmsmote)\n",
        "functions.eval_model(NN_model_sm, X_val_sca, y_val_sca)"
      ],
      "execution_count": 61,
      "outputs": [
        {
          "output_type": "stream",
          "text": [
            "El MSE para el modelo MLPClassifier es:  0.03943476832073611\n",
            "El accuracy para el modelo MLPClassifier es:  0.9605652316792639\n",
            "El precision para el modelo MLPClassifier es:  0.7131367292225201\n",
            "El recall para el modelo MLPClassifier es:  0.953405017921147\n",
            "El F1-score para el modelo MLPClassifier es:  0.8159509202453988\n"
          ],
          "name": "stdout"
        },
        {
          "output_type": "stream",
          "text": [
            "/usr/local/lib/python3.6/dist-packages/sklearn/neural_network/multilayer_perceptron.py:566: ConvergenceWarning: Stochastic Optimizer: Maximum iterations (200) reached and the optimization hasn't converged yet.\n",
            "  % self.max_iter, ConvergenceWarning)\n"
          ],
          "name": "stderr"
        },
        {
          "output_type": "display_data",
          "data": {
            "image/png": "[encoded data removed]",
            "text/plain": [
              "<Figure size 432x288 with 2 Axes>"
            ]
          },
          "metadata": {
            "tags": []
          }
        }
      ]
    }
  ]
}
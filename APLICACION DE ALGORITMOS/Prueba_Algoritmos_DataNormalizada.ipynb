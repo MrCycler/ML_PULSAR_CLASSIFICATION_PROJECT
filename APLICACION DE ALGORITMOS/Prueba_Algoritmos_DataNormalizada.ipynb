{
 "cells": [
  {
   "cell_type": "markdown",
   "metadata": {
    "colab_type": "text",
    "id": "x-Np12XMz95B"
   },
   "source": [
    "# Importación de Librerías\n"
   ]
  },
  {
   "cell_type": "code",
   "execution_count": 2,
   "metadata": {
    "colab": {},
    "colab_type": "code",
    "id": "jtSqjGmVEgBl"
   },
   "outputs": [],
   "source": [
    "#Importación de librerías\n",
    "import numpy as np\n",
    "import pandas as pd\n",
    "import seaborn as sns\n",
    "sns.set()\n",
    "import matplotlib.pyplot as plt\n",
    "plt.style.use('classic')\n",
    "%matplotlib inline\n",
    "\n",
    "from sklearn.model_selection import train_test_split\n",
    "from sklearn.preprocessing import MinMaxScaler\n",
    "\n",
    "import functions"
   ]
  },
  {
   "cell_type": "code",
   "execution_count": 0,
   "metadata": {
    "colab": {},
    "colab_type": "code",
    "id": "-F3lajqazQJJ"
   },
   "outputs": [],
   "source": [
    "try:  \n",
    "  #Para usar colab\n",
    "  from google.colab import drive\n",
    "  drive.mount('/content/drive')\n",
    "  \n",
    "except:  \n",
    "  "
   ]
  },
  {
   "cell_type": "code",
   "execution_count": 3,
   "metadata": {
    "colab": {},
    "colab_type": "code",
    "id": "uisJWCEIEgBs"
   },
   "outputs": [],
   "source": [
    "#Lectura de datos\n",
    "try:\n",
    "  #Caso en que se esté usando jupyter notebooks o se encuentre los archivos de la data en el entorno de ejecución del notebook\n",
    "  data_pulsar = pd.read_csv('../DATASET/HTRU_2_con_header.csv')\n",
    "except:\n",
    "  #Caso en que se use colab, y los archivos de la data estén en una carpeta del Drive\n",
    "  dir_str ='drive/My Drive/CURSOS - MAESTRIA/APRENDIZAJE AUTOMÁTICO/MACHINE LEARNING - PROYECTO/ML_PULSAR_CLASSIFICATION_PROJECT/PREPROCESAMIENTO DE DATA/HTRU_2_sin_header.csv'\n",
    "  #Se definen  los headers\n",
    "  head = ['mean_IP', 'std_IP','kurt_IP','skew_IP','mean_DM', 'std_DM','kurt_DM','skew_DM','is_pulsar']\n",
    "  #Lectura de la data\n",
    "  data_pulsar = pd.read_csv(dir_str,header=None, names=head)\n"
   ]
  },
  {
   "cell_type": "code",
   "execution_count": 4,
   "metadata": {
    "colab": {
     "base_uri": "https://localhost:8080/",
     "height": 195
    },
    "colab_type": "code",
    "id": "OOXPD-mcz6Eu",
    "outputId": "da61aa15-9f61-47a9-ecd2-1af1493e50f7"
   },
   "outputs": [
    {
     "data": {
      "text/html": [
       "<div>\n",
       "<style scoped>\n",
       "    .dataframe tbody tr th:only-of-type {\n",
       "        vertical-align: middle;\n",
       "    }\n",
       "\n",
       "    .dataframe tbody tr th {\n",
       "        vertical-align: top;\n",
       "    }\n",
       "\n",
       "    .dataframe thead th {\n",
       "        text-align: right;\n",
       "    }\n",
       "</style>\n",
       "<table border=\"1\" class=\"dataframe\">\n",
       "  <thead>\n",
       "    <tr style=\"text-align: right;\">\n",
       "      <th></th>\n",
       "      <th>mean_IP</th>\n",
       "      <th>std_IP</th>\n",
       "      <th>kurt_IP</th>\n",
       "      <th>skew_IP</th>\n",
       "      <th>mean_DM</th>\n",
       "      <th>std_DM</th>\n",
       "      <th>kurt_DM</th>\n",
       "      <th>skew_DM</th>\n",
       "      <th>is_pulsar</th>\n",
       "    </tr>\n",
       "  </thead>\n",
       "  <tbody>\n",
       "    <tr>\n",
       "      <th>0</th>\n",
       "      <td>140.562500</td>\n",
       "      <td>55.683782</td>\n",
       "      <td>-0.234571</td>\n",
       "      <td>-0.699648</td>\n",
       "      <td>3.199833</td>\n",
       "      <td>19.110426</td>\n",
       "      <td>7.975532</td>\n",
       "      <td>74.242225</td>\n",
       "      <td>0</td>\n",
       "    </tr>\n",
       "    <tr>\n",
       "      <th>1</th>\n",
       "      <td>102.507812</td>\n",
       "      <td>58.882430</td>\n",
       "      <td>0.465318</td>\n",
       "      <td>-0.515088</td>\n",
       "      <td>1.677258</td>\n",
       "      <td>14.860146</td>\n",
       "      <td>10.576487</td>\n",
       "      <td>127.393580</td>\n",
       "      <td>0</td>\n",
       "    </tr>\n",
       "    <tr>\n",
       "      <th>2</th>\n",
       "      <td>103.015625</td>\n",
       "      <td>39.341649</td>\n",
       "      <td>0.323328</td>\n",
       "      <td>1.051164</td>\n",
       "      <td>3.121237</td>\n",
       "      <td>21.744669</td>\n",
       "      <td>7.735822</td>\n",
       "      <td>63.171909</td>\n",
       "      <td>0</td>\n",
       "    </tr>\n",
       "    <tr>\n",
       "      <th>3</th>\n",
       "      <td>136.750000</td>\n",
       "      <td>57.178449</td>\n",
       "      <td>-0.068415</td>\n",
       "      <td>-0.636238</td>\n",
       "      <td>3.642977</td>\n",
       "      <td>20.959280</td>\n",
       "      <td>6.896499</td>\n",
       "      <td>53.593661</td>\n",
       "      <td>0</td>\n",
       "    </tr>\n",
       "    <tr>\n",
       "      <th>4</th>\n",
       "      <td>88.726562</td>\n",
       "      <td>40.672225</td>\n",
       "      <td>0.600866</td>\n",
       "      <td>1.123492</td>\n",
       "      <td>1.178930</td>\n",
       "      <td>11.468720</td>\n",
       "      <td>14.269573</td>\n",
       "      <td>252.567306</td>\n",
       "      <td>0</td>\n",
       "    </tr>\n",
       "  </tbody>\n",
       "</table>\n",
       "</div>"
      ],
      "text/plain": [
       "      mean_IP     std_IP   kurt_IP   skew_IP   mean_DM     std_DM    kurt_DM  \\\n",
       "0  140.562500  55.683782 -0.234571 -0.699648  3.199833  19.110426   7.975532   \n",
       "1  102.507812  58.882430  0.465318 -0.515088  1.677258  14.860146  10.576487   \n",
       "2  103.015625  39.341649  0.323328  1.051164  3.121237  21.744669   7.735822   \n",
       "3  136.750000  57.178449 -0.068415 -0.636238  3.642977  20.959280   6.896499   \n",
       "4   88.726562  40.672225  0.600866  1.123492  1.178930  11.468720  14.269573   \n",
       "\n",
       "      skew_DM  is_pulsar  \n",
       "0   74.242225          0  \n",
       "1  127.393580          0  \n",
       "2   63.171909          0  \n",
       "3   53.593661          0  \n",
       "4  252.567306          0  "
      ]
     },
     "execution_count": 4,
     "metadata": {},
     "output_type": "execute_result"
    }
   ],
   "source": [
    " data_pulsar.head()"
   ]
  },
  {
   "cell_type": "markdown",
   "metadata": {
    "colab_type": "text",
    "id": "Gso7rzzf0RI6"
   },
   "source": [
    "# Normalización de la data"
   ]
  },
  {
   "cell_type": "markdown",
   "metadata": {
    "colab_type": "text",
    "id": "NYtGZhr20zKr"
   },
   "source": [
    "Ejecutamos la normalización del dataset."
   ]
  },
  {
   "cell_type": "code",
   "execution_count": 6,
   "metadata": {
    "colab": {
     "base_uri": "https://localhost:8080/",
     "height": 284
    },
    "colab_type": "code",
    "id": "AsE36WAG0aQ0",
    "outputId": "a7acc4b3-b4cb-4482-d9cb-72f06ab658e4"
   },
   "outputs": [
    {
     "name": "stderr",
     "output_type": "stream",
     "text": [
      "C:\\Users\\User\\Anaconda3\\lib\\site-packages\\sklearn\\preprocessing\\data.py:334: DataConversionWarning: Data with input dtype int64, float64 were all converted to float64 by MinMaxScaler.\n",
      "  return self.partial_fit(X, y)\n"
     ]
    },
    {
     "data": {
      "text/html": [
       "<div>\n",
       "<style scoped>\n",
       "    .dataframe tbody tr th:only-of-type {\n",
       "        vertical-align: middle;\n",
       "    }\n",
       "\n",
       "    .dataframe tbody tr th {\n",
       "        vertical-align: top;\n",
       "    }\n",
       "\n",
       "    .dataframe thead th {\n",
       "        text-align: right;\n",
       "    }\n",
       "</style>\n",
       "<table border=\"1\" class=\"dataframe\">\n",
       "  <thead>\n",
       "    <tr style=\"text-align: right;\">\n",
       "      <th></th>\n",
       "      <th>mean_IP</th>\n",
       "      <th>std_IP</th>\n",
       "      <th>kurt_IP</th>\n",
       "      <th>skew_IP</th>\n",
       "      <th>mean_DM</th>\n",
       "      <th>std_DM</th>\n",
       "      <th>kurt_DM</th>\n",
       "      <th>skew_DM</th>\n",
       "      <th>is_pulsar</th>\n",
       "    </tr>\n",
       "  </thead>\n",
       "  <tbody>\n",
       "    <tr>\n",
       "      <th>count</th>\n",
       "      <td>17898.000000</td>\n",
       "      <td>17898.000000</td>\n",
       "      <td>17898.000000</td>\n",
       "      <td>17898.000000</td>\n",
       "      <td>17898.000000</td>\n",
       "      <td>17898.000000</td>\n",
       "      <td>17898.000000</td>\n",
       "      <td>17898.000000</td>\n",
       "      <td>17898.000000</td>\n",
       "    </tr>\n",
       "    <tr>\n",
       "      <th>mean</th>\n",
       "      <td>0.563516</td>\n",
       "      <td>0.294263</td>\n",
       "      <td>0.236676</td>\n",
       "      <td>0.050966</td>\n",
       "      <td>0.055566</td>\n",
       "      <td>0.183555</td>\n",
       "      <td>0.303691</td>\n",
       "      <td>0.089553</td>\n",
       "      <td>0.091574</td>\n",
       "    </tr>\n",
       "    <tr>\n",
       "      <th>std</th>\n",
       "      <td>0.137325</td>\n",
       "      <td>0.092467</td>\n",
       "      <td>0.106987</td>\n",
       "      <td>0.088247</td>\n",
       "      <td>0.132059</td>\n",
       "      <td>0.188537</td>\n",
       "      <td>0.119591</td>\n",
       "      <td>0.089285</td>\n",
       "      <td>0.288432</td>\n",
       "    </tr>\n",
       "    <tr>\n",
       "      <th>min</th>\n",
       "      <td>0.000000</td>\n",
       "      <td>0.000000</td>\n",
       "      <td>0.000000</td>\n",
       "      <td>0.000000</td>\n",
       "      <td>0.000000</td>\n",
       "      <td>0.000000</td>\n",
       "      <td>0.000000</td>\n",
       "      <td>0.000000</td>\n",
       "      <td>0.000000</td>\n",
       "    </tr>\n",
       "    <tr>\n",
       "      <th>25%</th>\n",
       "      <td>0.509180</td>\n",
       "      <td>0.237869</td>\n",
       "      <td>0.191353</td>\n",
       "      <td>0.022939</td>\n",
       "      <td>0.007661</td>\n",
       "      <td>0.068430</td>\n",
       "      <td>0.236757</td>\n",
       "      <td>0.030962</td>\n",
       "      <td>0.000000</td>\n",
       "    </tr>\n",
       "    <tr>\n",
       "      <th>50%</th>\n",
       "      <td>0.584919</td>\n",
       "      <td>0.299640</td>\n",
       "      <td>0.211075</td>\n",
       "      <td>0.028480</td>\n",
       "      <td>0.011599</td>\n",
       "      <td>0.107395</td>\n",
       "      <td>0.307141</td>\n",
       "      <td>0.071285</td>\n",
       "      <td>0.000000</td>\n",
       "    </tr>\n",
       "    <tr>\n",
       "      <th>75%</th>\n",
       "      <td>0.649199</td>\n",
       "      <td>0.354712</td>\n",
       "      <td>0.236220</td>\n",
       "      <td>0.038912</td>\n",
       "      <td>0.023528</td>\n",
       "      <td>0.203905</td>\n",
       "      <td>0.367371</td>\n",
       "      <td>0.118432</td>\n",
       "      <td>0.000000</td>\n",
       "    </tr>\n",
       "    <tr>\n",
       "      <th>max</th>\n",
       "      <td>1.000000</td>\n",
       "      <td>1.000000</td>\n",
       "      <td>1.000000</td>\n",
       "      <td>1.000000</td>\n",
       "      <td>1.000000</td>\n",
       "      <td>1.000000</td>\n",
       "      <td>1.000000</td>\n",
       "      <td>1.000000</td>\n",
       "      <td>1.000000</td>\n",
       "    </tr>\n",
       "  </tbody>\n",
       "</table>\n",
       "</div>"
      ],
      "text/plain": [
       "            mean_IP        std_IP       kurt_IP       skew_IP       mean_DM  \\\n",
       "count  17898.000000  17898.000000  17898.000000  17898.000000  17898.000000   \n",
       "mean       0.563516      0.294263      0.236676      0.050966      0.055566   \n",
       "std        0.137325      0.092467      0.106987      0.088247      0.132059   \n",
       "min        0.000000      0.000000      0.000000      0.000000      0.000000   \n",
       "25%        0.509180      0.237869      0.191353      0.022939      0.007661   \n",
       "50%        0.584919      0.299640      0.211075      0.028480      0.011599   \n",
       "75%        0.649199      0.354712      0.236220      0.038912      0.023528   \n",
       "max        1.000000      1.000000      1.000000      1.000000      1.000000   \n",
       "\n",
       "             std_DM       kurt_DM       skew_DM     is_pulsar  \n",
       "count  17898.000000  17898.000000  17898.000000  17898.000000  \n",
       "mean       0.183555      0.303691      0.089553      0.091574  \n",
       "std        0.188537      0.119591      0.089285      0.288432  \n",
       "min        0.000000      0.000000      0.000000      0.000000  \n",
       "25%        0.068430      0.236757      0.030962      0.000000  \n",
       "50%        0.107395      0.307141      0.071285      0.000000  \n",
       "75%        0.203905      0.367371      0.118432      0.000000  \n",
       "max        1.000000      1.000000      1.000000      1.000000  "
      ]
     },
     "execution_count": 6,
     "metadata": {},
     "output_type": "execute_result"
    }
   ],
   "source": [
    "head = ['mean_IP', 'std_IP','kurt_IP','skew_IP','mean_DM', 'std_DM','kurt_DM','skew_DM','is_pulsar']\n",
    "scaler = MinMaxScaler()\n",
    "scaler.fit(data_pulsar)\n",
    "data_pulsar_scaled = pd.DataFrame(scaler.transform(data_pulsar), columns =head)\n",
    "data_pulsar_scaled.describe()"
   ]
  },
  {
   "cell_type": "markdown",
   "metadata": {
    "colab_type": "text",
    "id": "3MGnxkw51Q3P"
   },
   "source": [
    "Realizamos la partición de la data de entrenamiento, validación y test."
   ]
  },
  {
   "cell_type": "code",
   "execution_count": 7,
   "metadata": {
    "colab": {},
    "colab_type": "code",
    "id": "luxICBH01nc0"
   },
   "outputs": [],
   "source": [
    "#Partición de la data normalizada\n",
    "X_sca = data_pulsar_scaled.drop(columns=[\"is_pulsar\"])\n",
    "y_sca = data_pulsar_scaled[\"is_pulsar\"]\n",
    "\n",
    "X_trainval_sca, X_test_sca, y_trainval_sca, y_test_sca = train_test_split(X_sca, y_sca, test_size=0.15, random_state=0) #random_state = 0, para mantener la particion\n",
    "X_train_sca, X_val_sca, y_train_sca, y_val_sca = train_test_split(X_trainval_sca, y_trainval_sca, test_size=0.2, random_state=0)\n"
   ]
  },
  {
   "cell_type": "markdown",
   "metadata": {
    "colab_type": "text",
    "id": "Wr79epzz4PpF"
   },
   "source": [
    "# Análisis de Algoritmos con Data Normalizada"
   ]
  },
  {
   "cell_type": "markdown",
   "metadata": {
    "colab_type": "text",
    "id": "dyufgveAZvyX"
   },
   "source": [
    "## 1° Algoritmo: Random Forest\n",
    "Realizamos el primer análisis con la data normalizada utilizando el algoritmo RandomForest."
   ]
  },
  {
   "cell_type": "code",
   "execution_count": 29,
   "metadata": {
    "colab": {
     "base_uri": "https://localhost:8080/",
     "height": 368
    },
    "colab_type": "code",
    "id": "RbBeLG1eZ1sj",
    "outputId": "01e4d1f8-a678-4d1b-cdb1-239b4c05f889"
   },
   "outputs": [
    {
     "name": "stdout",
     "output_type": "stream",
     "text": [
      "El MSE para el modelo RandomForestClassifier es:  0.02201774564574433\n",
      "El accuracy para el modelo RandomForestClassifier es:  0.9779822543542557\n",
      "La precisión para el modelo RandomForestClassifier es:  0.9344262295081968\n",
      "El recall para el modelo RandomForestClassifier es:  0.8172043010752689\n",
      "El F1-score para el modelo RandomForestClassifier es:  0.8718929254302105\n"
     ]
    },
    {
     "data": {
      "image/png": "[encoded data removed]",
      "text/plain": [
       "<Figure size 432x288 with 2 Axes>"
      ]
     },
     "metadata": {},
     "output_type": "display_data"
    }
   ],
   "source": [
    "from sklearn.ensemble import RandomForestClassifier\n",
    "\n",
    "RF_model = RandomForestClassifier(n_estimators=100, max_depth=2, random_state=0)\n",
    "RF_model.fit(X_train_sca, y_train_sca)\n",
    "functions.eval_model(RF_model, X_val_sca, y_val_sca)"
   ]
  },
  {
   "cell_type": "code",
   "execution_count": 84,
   "metadata": {
    "colab": {
     "base_uri": "https://localhost:8080/",
     "height": 334
    },
    "colab_type": "code",
    "id": "fWQPW4fVQbnz",
    "outputId": "84d3940c-ccdf-4376-b7e2-3aa14c9ac550"
   },
   "outputs": [
    {
     "data": {
      "text/plain": [
       "GridSearchCV(cv=5, error_score='raise-deprecating',\n",
       "             estimator=RandomForestClassifier(bootstrap=True, class_weight=None,\n",
       "                                              criterion='gini', max_depth=2,\n",
       "                                              max_features='auto',\n",
       "                                              max_leaf_nodes=None,\n",
       "                                              min_impurity_decrease=0.0,\n",
       "                                              min_impurity_split=None,\n",
       "                                              min_samples_leaf=1,\n",
       "                                              min_samples_split=2,\n",
       "                                              min_weight_fraction_leaf=0.0,\n",
       "                                              n_estimators=100, n_jobs=None,\n",
       "                                              oob_score=False, random_state=0,\n",
       "                                              verbose=0, warm_start=False),\n",
       "             iid='warn', n_jobs=-1,\n",
       "             param_grid={'criterion': ['gini', 'entropy'], 'max_depth': [2, 3],\n",
       "                         'n_estimators': [50, 100, 200]},\n",
       "             pre_dispatch='2*n_jobs', refit=True, return_train_score=False,\n",
       "             scoring='f1', verbose=0)"
      ]
     },
     "execution_count": 84,
     "metadata": {
      "tags": []
     },
     "output_type": "execute_result"
    }
   ],
   "source": [
    "#Aplicamos GridSearch para encontrar los mejores hiperparámetros del modelo\n",
    "from sklearn.model_selection import GridSearchCV\n",
    "from sklearn.metrics import make_scorer\n",
    "\n",
    "RF_grid_param = {  \n",
    "    'n_estimators': [50, 100, 200],\n",
    "    'criterion': ['gini', 'entropy'],\n",
    "    'max_depth': [2,3]\n",
    "}\n",
    "RF_gd = GridSearchCV(estimator=RF_model,  \n",
    "                     param_grid=RF_grid_param,\n",
    "                     scoring='f1',\n",
    "                     cv=5,\n",
    "                     n_jobs=-1)\n",
    "RF_gd.fit(X_train_sca, y_train_sca)  "
   ]
  },
  {
   "cell_type": "code",
   "execution_count": 85,
   "metadata": {
    "colab": {
     "base_uri": "https://localhost:8080/",
     "height": 34
    },
    "colab_type": "code",
    "id": "4tsBI4dQRPal",
    "outputId": "f7534102-6162-4d04-8305-8ddb3940be5d"
   },
   "outputs": [
    {
     "data": {
      "text/plain": [
       "{'criterion': 'entropy', 'max_depth': 3, 'n_estimators': 100}"
      ]
     },
     "execution_count": 85,
     "metadata": {
      "tags": []
     },
     "output_type": "execute_result"
    }
   ],
   "source": [
    "#Obtenemos los mejores parámetros\n",
    "RF_gd.best_params_"
   ]
  },
  {
   "cell_type": "code",
   "execution_count": 87,
   "metadata": {
    "colab": {
     "base_uri": "https://localhost:8080/",
     "height": 368
    },
    "colab_type": "code",
    "id": "wGLPPLOjRXVc",
    "outputId": "23c4bd43-caaa-4c9d-b8b2-2a2a0f874bf1"
   },
   "outputs": [
    {
     "name": "stdout",
     "output_type": "stream",
     "text": [
      "El MSE para el modelo RandomForestClassifier es:  0.020046007229707525\n",
      "El accuracy para el modelo RandomForestClassifier es:  0.9799539927702925\n",
      "El precision para el modelo RandomForestClassifier es:  0.9291338582677166\n",
      "El recall para el modelo RandomForestClassifier es:  0.8458781362007168\n",
      "El F1-score para el modelo RandomForestClassifier es:  0.8855534709193245\n"
     ]
    },
    {
     "data": {
      "image/png": "[encoded data removed]",
      "text/plain": [
       "<Figure size 432x288 with 2 Axes>"
      ]
     },
     "metadata": {
      "tags": []
     },
     "output_type": "display_data"
    }
   ],
   "source": [
    "#Evaluamos el mejor estimador\n",
    "functions.eval_model(RF_gd.best_estimator_, X_val_sca, y_val_sca)"
   ]
  },
  {
   "cell_type": "markdown",
   "metadata": {
    "colab_type": "text",
    "id": "wJkNiVIm0_WK"
   },
   "source": [
    "## 2° Algoritmo: SVM\n",
    "El segundo algoritmo es SVM."
   ]
  },
  {
   "cell_type": "code",
   "execution_count": 23,
   "metadata": {
    "colab": {
     "base_uri": "https://localhost:8080/",
     "height": 368
    },
    "colab_type": "code",
    "id": "tEqTySan1FZK",
    "outputId": "11c2ec1e-9322-4353-afd6-110f1613bea9"
   },
   "outputs": [
    {
     "name": "stdout",
     "output_type": "stream",
     "text": [
      "El MSE para el modelo SVC es:  0.025303976339139007\n",
      "El accuracy para el modelo SVC es:  0.9746960236608609\n",
      "El precision para el modelo SVC es:  0.9508928571428571\n",
      "El recall para el modelo SVC es:  0.7634408602150538\n",
      "El F1-score para el modelo SVC es:  0.8469184890656063\n"
     ]
    },
    {
     "data": {
      "image/png": "[encoded data removed]",
      "text/plain": [
       "<Figure size 432x288 with 2 Axes>"
      ]
     },
     "metadata": {
      "tags": []
     },
     "output_type": "display_data"
    }
   ],
   "source": [
    "from sklearn.svm import SVC\n",
    "\n",
    "SVM_model = SVC(gamma='auto',kernel='rbf')\n",
    "SVM_model.fit(X_train_sca, y_train_sca)\n",
    "functions.eval_model(SVM_model, X_val_sca, y_val_sca)"
   ]
  },
  {
   "cell_type": "code",
   "execution_count": 0,
   "metadata": {
    "colab": {},
    "colab_type": "code",
    "id": "d3ssiU0PQxCk"
   },
   "outputs": [],
   "source": [
    "#Array de hiperparámetros para testear con GridSearch\n",
    "SVM_grid_param = {  \n",
    "    'C': [1, 10, 100],\n",
    "    'gamma': ['auto',0.01, 0.0001],\n",
    "    'kernel': ['rbf']\n",
    "}"
   ]
  },
  {
   "cell_type": "code",
   "execution_count": 76,
   "metadata": {
    "colab": {
     "base_uri": "https://localhost:8080/",
     "height": 210
    },
    "colab_type": "code",
    "id": "0MJmQ3TmMI4K",
    "outputId": "32ab76f3-fd5b-485a-952c-1e021452e2e5"
   },
   "outputs": [
    {
     "data": {
      "text/plain": [
       "GridSearchCV(cv=5, error_score='raise-deprecating',\n",
       "             estimator=SVC(C=1.0, cache_size=200, class_weight=None, coef0=0.0,\n",
       "                           decision_function_shape='ovr', degree=3,\n",
       "                           gamma='auto', kernel='rbf', max_iter=-1,\n",
       "                           probability=False, random_state=None, shrinking=True,\n",
       "                           tol=0.001, verbose=False),\n",
       "             iid='warn', n_jobs=-1,\n",
       "             param_grid={'C': [1, 10, 100], 'gamma': ['auto', 0.01, 0.0001],\n",
       "                         'kernel': ['rbf']},\n",
       "             pre_dispatch='2*n_jobs', refit=True, return_train_score=False,\n",
       "             scoring='f1', verbose=0)"
      ]
     },
     "execution_count": 76,
     "metadata": {
      "tags": []
     },
     "output_type": "execute_result"
    }
   ],
   "source": [
    "SVM_gd_sr2 = GridSearchCV(estimator=SVM_model_sm,  \n",
    "                     param_grid=SVM_grid_param,\n",
    "                     scoring='f1',\n",
    "                     cv=5,\n",
    "                     n_jobs=-1)\n",
    "SVM_gd_sr2.fit(X_train_sca, y_train_sca)  "
   ]
  },
  {
   "cell_type": "code",
   "execution_count": 77,
   "metadata": {
    "colab": {
     "base_uri": "https://localhost:8080/",
     "height": 34
    },
    "colab_type": "code",
    "id": "hVO1uYTCNtvO",
    "outputId": "b3f2ada8-bec1-47fc-8668-264c6a2c370c"
   },
   "outputs": [
    {
     "data": {
      "text/plain": [
       "{'C': 100, 'gamma': 'auto', 'kernel': 'rbf'}"
      ]
     },
     "execution_count": 77,
     "metadata": {
      "tags": []
     },
     "output_type": "execute_result"
    }
   ],
   "source": [
    "#Mejores hiperparámetros\n",
    "SVM_gd_sr2.best_params_"
   ]
  },
  {
   "cell_type": "code",
   "execution_count": 78,
   "metadata": {
    "colab": {
     "base_uri": "https://localhost:8080/",
     "height": 368
    },
    "colab_type": "code",
    "id": "eB7CL6N7NyNk",
    "outputId": "5b017a39-b288-4276-cd0d-753301cc16f4"
   },
   "outputs": [
    {
     "name": "stdout",
     "output_type": "stream",
     "text": [
      "El MSE para el modelo SVC es:  0.019717384160368057\n",
      "El accuracy para el modelo SVC es:  0.9802826158396319\n",
      "El precision para el modelo SVC es:  0.9362549800796812\n",
      "El recall para el modelo SVC es:  0.8422939068100358\n",
      "El F1-score para el modelo SVC es:  0.8867924528301886\n"
     ]
    },
    {
     "data": {
      "image/png": "[encoded data removed]",
      "text/plain": [
       "<Figure size 432x288 with 2 Axes>"
      ]
     },
     "metadata": {
      "tags": []
     },
     "output_type": "display_data"
    }
   ],
   "source": [
    "#Evaluación del mejor estimador\n",
    "functions.eval_model(SVM_gd_sr2.best_estimator_, X_val_sca, y_val_sca)"
   ]
  },
  {
   "cell_type": "markdown",
   "metadata": {
    "colab_type": "text",
    "id": "nTQ5qGslA2a2"
   },
   "source": [
    "## 3° Algoritmo: KNN"
   ]
  },
  {
   "cell_type": "code",
   "execution_count": 24,
   "metadata": {
    "colab": {
     "base_uri": "https://localhost:8080/",
     "height": 368
    },
    "colab_type": "code",
    "id": "mWIO7WilBBrj",
    "outputId": "1b6620fa-b4f6-4586-c5db-e0fe1ad04c00"
   },
   "outputs": [
    {
     "name": "stdout",
     "output_type": "stream",
     "text": [
      "El MSE para el modelo KNeighborsClassifier es:  0.020046007229707525\n",
      "El accuracy para el modelo KNeighborsClassifier es:  0.9799539927702925\n",
      "El precision para el modelo KNeighborsClassifier es:  0.9291338582677166\n",
      "El recall para el modelo KNeighborsClassifier es:  0.8458781362007168\n",
      "El F1-score para el modelo KNeighborsClassifier es:  0.8855534709193245\n"
     ]
    },
    {
     "data": {
      "image/png": "[encoded data removed]",
      "text/plain": [
       "<Figure size 432x288 with 2 Axes>"
      ]
     },
     "metadata": {
      "tags": []
     },
     "output_type": "display_data"
    }
   ],
   "source": [
    "from sklearn.neighbors import KNeighborsClassifier\n",
    "\n",
    "KNN_model = KNeighborsClassifier(n_neighbors=5)\n",
    "KNN_model.fit(X_train_sca, y_train_sca)\n",
    "functions.eval_model(KNN_model, X_val_sca, y_val_sca)"
   ]
  },
  {
   "cell_type": "code",
   "execution_count": 90,
   "metadata": {
    "colab": {
     "base_uri": "https://localhost:8080/",
     "height": 210
    },
    "colab_type": "code",
    "id": "NQfTQWR7SxTC",
    "outputId": "cf8ad3a3-b330-4f5b-a4bf-d5863e44dbca"
   },
   "outputs": [
    {
     "data": {
      "text/plain": [
       "GridSearchCV(cv=5, error_score='raise-deprecating',\n",
       "             estimator=KNeighborsClassifier(algorithm='auto', leaf_size=30,\n",
       "                                            metric='minkowski',\n",
       "                                            metric_params=None, n_jobs=None,\n",
       "                                            n_neighbors=5, p=2,\n",
       "                                            weights='uniform'),\n",
       "             iid='warn', n_jobs=-1,\n",
       "             param_grid={'n_neighbors': [3, 5, 11, 19], 'p': [1, 2],\n",
       "                         'weights': ['uniform', 'distance']},\n",
       "             pre_dispatch='2*n_jobs', refit=True, return_train_score=False,\n",
       "             scoring='f1', verbose=0)"
      ]
     },
     "execution_count": 90,
     "metadata": {
      "tags": []
     },
     "output_type": "execute_result"
    }
   ],
   "source": [
    "#Array con los hiperparámetros para ser testeado con ayuda de GridSearch\n",
    "KNN_grid_param = {  \n",
    "    'n_neighbors': [3,5,11,19],\n",
    "    'weights': ['uniform','distance'],\n",
    "    'p': [1,2]\n",
    "}\n",
    "KNN_gd_sr = GridSearchCV(estimator=KNN_model,  \n",
    "                     param_grid=KNN_grid_param,\n",
    "                     scoring='f1',\n",
    "                     cv=5,\n",
    "                     n_jobs=-1)\n",
    "KNN_gd_sr.fit(X_train_sca, y_train_sca)  "
   ]
  },
  {
   "cell_type": "code",
   "execution_count": 91,
   "metadata": {
    "colab": {
     "base_uri": "https://localhost:8080/",
     "height": 34
    },
    "colab_type": "code",
    "id": "xKoMX_mrVvet",
    "outputId": "25cc39b8-3b37-460b-cf44-b3b745aa5fc0"
   },
   "outputs": [
    {
     "data": {
      "text/plain": [
       "{'n_neighbors': 5, 'p': 2, 'weights': 'distance'}"
      ]
     },
     "execution_count": 91,
     "metadata": {
      "tags": []
     },
     "output_type": "execute_result"
    }
   ],
   "source": [
    "#Obtenemos los mejors hiperparámetros\n",
    "KNN_gd_sr.best_params_"
   ]
  },
  {
   "cell_type": "code",
   "execution_count": 92,
   "metadata": {
    "colab": {
     "base_uri": "https://localhost:8080/",
     "height": 368
    },
    "colab_type": "code",
    "id": "ajyyeKnrV4Ao",
    "outputId": "b2e26f28-8bbb-486b-97c5-ab4d78bc89ec"
   },
   "outputs": [
    {
     "name": "stdout",
     "output_type": "stream",
     "text": [
      "El MSE para el modelo KNeighborsClassifier es:  0.019060138021689123\n",
      "El accuracy para el modelo KNeighborsClassifier es:  0.9809398619783108\n",
      "El precision para el modelo KNeighborsClassifier es:  0.9299610894941635\n",
      "El recall para el modelo KNeighborsClassifier es:  0.8566308243727598\n",
      "El F1-score para el modelo KNeighborsClassifier es:  0.8917910447761195\n"
     ]
    },
    {
     "data": {
      "image/png": "[encoded data removed]",
      "text/plain": [
       "<Figure size 432x288 with 2 Axes>"
      ]
     },
     "metadata": {
      "tags": []
     },
     "output_type": "display_data"
    }
   ],
   "source": [
    "#Evaluamos el mejor estimador\n",
    "functions.eval_model(KNN_gd_sr.best_estimator_, X_val_sca, y_val_sca)"
   ]
  },
  {
   "cell_type": "markdown",
   "metadata": {
    "colab_type": "text",
    "id": "oLxdqeUe3k9R"
   },
   "source": [
    "## 4° Algoritmo: Red Neuronal"
   ]
  },
  {
   "cell_type": "code",
   "execution_count": 10,
   "metadata": {
    "colab": {
     "base_uri": "https://localhost:8080/",
     "height": 423
    },
    "colab_type": "code",
    "id": "nhoyLfHk3j5H",
    "outputId": "90e94854-5eab-4ba2-fcd2-8ba0d4a5e418"
   },
   "outputs": [
    {
     "name": "stderr",
     "output_type": "stream",
     "text": [
      "C:\\Users\\User\\Anaconda3\\lib\\site-packages\\sklearn\\neural_network\\multilayer_perceptron.py:562: ConvergenceWarning: Stochastic Optimizer: Maximum iterations (200) reached and the optimization hasn't converged yet.\n",
      "  % self.max_iter, ConvergenceWarning)\n"
     ]
    },
    {
     "name": "stdout",
     "output_type": "stream",
     "text": [
      "El MSE para el modelo MLPClassifier es:  0.017088399605652317\n",
      "El accuracy para el modelo MLPClassifier es:  0.9829116003943477\n",
      "La precisión para el modelo MLPClassifier es:  0.9348659003831418\n",
      "El recall para el modelo MLPClassifier es:  0.8745519713261649\n",
      "El F1-score para el modelo MLPClassifier es:  0.9037037037037037\n"
     ]
    },
    {
     "data": {
      "image/png": "[encoded data removed]",
      "text/plain": [
       "<Figure size 432x288 with 2 Axes>"
      ]
     },
     "metadata": {},
     "output_type": "display_data"
    }
   ],
   "source": [
    "from sklearn.neural_network import MLPClassifier\n",
    "\n",
    "NN_model = MLPClassifier()\n",
    "NN_model.fit(X_train_sca, y_train_sca)\n",
    "functions.eval_model(NN_model, X_val_sca, y_val_sca)"
   ]
  },
  {
   "cell_type": "code",
   "execution_count": 11,
   "metadata": {
    "colab": {
     "base_uri": "https://localhost:8080/",
     "height": 350
    },
    "colab_type": "code",
    "id": "4BcZkiPDW8iE",
    "outputId": "8681421c-d587-4612-bc7f-84f89740d63e"
   },
   "outputs": [
    {
     "data": {
      "text/plain": [
       "GridSearchCV(cv=5, error_score='raise-deprecating',\n",
       "       estimator=MLPClassifier(activation='relu', alpha=0.0001, batch_size='auto', beta_1=0.9,\n",
       "       beta_2=0.999, early_stopping=False, epsilon=1e-08,\n",
       "       hidden_layer_sizes=(100,), learning_rate='constant',\n",
       "       learning_rate_init=0.001, max_iter=200, momentum=0.9,\n",
       "       n_iter_no_change=10, nesterovs_momentum=True, power_t=0.5,\n",
       "       random_state=None, shuffle=True, solver='adam', tol=0.0001,\n",
       "       validation_fraction=0.1, verbose=False, warm_start=False),\n",
       "       fit_params=None, iid='warn', n_jobs=-1,\n",
       "       param_grid={'activation': ['identity', 'logistic', 'tanh', 'relu'], 'solver': ['lbfgs', 'sgd', 'adam']},\n",
       "       pre_dispatch='2*n_jobs', refit=True, return_train_score='warn',\n",
       "       scoring='f1', verbose=0)"
      ]
     },
     "execution_count": 11,
     "metadata": {},
     "output_type": "execute_result"
    }
   ],
   "source": [
    "#Evaluamos con GridSearch para obtener los mejores hiperparámetros\n",
    "from sklearn.model_selection import GridSearchCV\n",
    "NN_grid_param = {  \n",
    "    'activation':['identity','logistic','tanh','relu'],\n",
    "    'solver': ['lbfgs','sgd','adam']\n",
    "}\n",
    "NN_gd_sr = GridSearchCV(estimator=NN_model,  \n",
    "                     param_grid=NN_grid_param,\n",
    "                     scoring='f1',\n",
    "                     cv=5,\n",
    "                     n_jobs=-1)\n",
    "NN_gd_sr.fit(X_train_sca, y_train_sca)  "
   ]
  },
  {
   "cell_type": "code",
   "execution_count": 12,
   "metadata": {},
   "outputs": [
    {
     "data": {
      "text/plain": [
       "{'activation': 'tanh', 'solver': 'lbfgs'}"
      ]
     },
     "execution_count": 12,
     "metadata": {},
     "output_type": "execute_result"
    }
   ],
   "source": [
    "#Mejores hiperparámetros\n",
    "NN_gd_sr.best_params_"
   ]
  },
  {
   "cell_type": "code",
   "execution_count": 13,
   "metadata": {},
   "outputs": [
    {
     "name": "stdout",
     "output_type": "stream",
     "text": [
      "El MSE para el modelo MLPClassifier es:  0.01807426881367072\n",
      "El accuracy para el modelo MLPClassifier es:  0.9819257311863293\n",
      "La precisión para el modelo MLPClassifier es:  0.9274809160305344\n",
      "El recall para el modelo MLPClassifier es:  0.8709677419354839\n",
      "El F1-score para el modelo MLPClassifier es:  0.8983364140480593\n"
     ]
    },
    {
     "data": {
      "image/png": "[encoded data removed]",
      "text/plain": [
       "<Figure size 432x288 with 2 Axes>"
      ]
     },
     "metadata": {},
     "output_type": "display_data"
    }
   ],
   "source": [
    "#Evaluación del mejor estimador\n",
    "functions.eval_model(NN_gd_sr.best_estimator_, X_val_sca, y_val_sca)"
   ]
  },
  {
   "cell_type": "markdown",
   "metadata": {
    "colab_type": "text",
    "id": "A_Q8pZPRaDW3"
   },
   "source": [
    "#  Análisis de Algoritmos con Data Normalizada y Balanceada"
   ]
  },
  {
   "cell_type": "markdown",
   "metadata": {
    "colab_type": "text",
    "id": "xt7Pq9UJ49Qz"
   },
   "source": [
    "## Aplicación de SVMSMOTE\n",
    "\n",
    "\n",
    "Variante del algoritmo SMOTE que utiliza un algoritmo SVM para detectar la muestra que se usará para generar nuevas muestras sintéticas, utiliza un clasificador SVM para encontrar vectores de soporte y generar las muestras.\n",
    "\n",
    "*Referencia: https://imbalanced-learn.readthedocs.io/en/latest/generated/imblearn.over_sampling.SVMSMOTE.html#imblearn.over_sampling.SVMSMOTE*"
   ]
  },
  {
   "cell_type": "markdown",
   "metadata": {
    "colab_type": "text",
    "id": "nwD6XRNp4KMn"
   },
   "source": [
    "Dado que el conjunto de datos presenta un problema de desbalance de datos, se decidi aplicar la técnica de over-sampling SVMSMOTE."
   ]
  },
  {
   "cell_type": "markdown",
   "metadata": {
    "colab_type": "text",
    "id": "p5DHT4JW5ssf"
   },
   "source": [
    "Aplicamos SVMSMOTE en el conjunto de entrenamiento.\n",
    "\n",
    "Como en la sección anterior, se aplicará a cada algoritmo GridSearch para obtener los mejores hiperparámetros."
   ]
  },
  {
   "cell_type": "code",
   "execution_count": 16,
   "metadata": {
    "colab": {},
    "colab_type": "code",
    "id": "8VHaZilY5ZX6"
   },
   "outputs": [],
   "source": [
    "#Fuente: https://imbalanced-learn.readthedocs.io/en/latest/generated/imblearn.over_sampling.SVMSMOTE.html#r88acb9955f91-2\n",
    "from imblearn.over_sampling import SVMSMOTE\n",
    "smt = SVMSMOTE(random_state=12)\n",
    "X_resampled, y_resampled = smt.fit_resample(X_train_sca, y_train_sca)\n",
    "X_train_svmsmote = pd.DataFrame(X_resampled)\n",
    "y_train_svmsmote = pd.Series(y_resampled)"
   ]
  },
  {
   "cell_type": "code",
   "execution_count": 17,
   "metadata": {
    "colab": {
     "base_uri": "https://localhost:8080/",
     "height": 105
    },
    "colab_type": "code",
    "id": "9qDCaF2J68GC",
    "outputId": "2303d4be-7a44-416d-ab83-9baa4e8eb164"
   },
   "outputs": [
    {
     "name": "stdout",
     "output_type": "stream",
     "text": [
      "* Antes del proceso de over-sampling, se tiene 1150 valores de la clase '1'\n",
      "* Antes del proceso de over-sampling, se tiene 11020 valores de la clase '0'\n",
      "\n",
      "* Después del proceso de over-sampling, se tiene 11020 valores de la clase '1'\n",
      "* Después del proceso de over-sampling, se tiene 11020 valores de la clase '0'\n"
     ]
    }
   ],
   "source": [
    "print(\"* Antes del proceso de over-sampling, se tiene {} valores de la clase '1'\".format(sum(y_train_sca==1)))\n",
    "print(\"* Antes del proceso de over-sampling, se tiene {} valores de la clase '0'\\n\".format(sum(y_train_sca==0)))\n",
    "\n",
    "\n",
    "print(\"* Después del proceso de over-sampling, se tiene {} valores de la clase '1'\".format(sum(y_train_svmsmote==1)))\n",
    "print(\"* Después del proceso de over-sampling, se tiene {} valores de la clase '0'\".format(sum(y_train_svmsmote==0)))"
   ]
  },
  {
   "cell_type": "code",
   "execution_count": 18,
   "metadata": {
    "colab": {},
    "colab_type": "code",
    "id": "ThX8VfER_qjK"
   },
   "outputs": [],
   "source": [
    "from imblearn.over_sampling import BorderlineSMOTE\n",
    "bls = BorderlineSMOTE()\n",
    "X_resampled, y_resampled = bls.fit_resample(X_train_sca, y_train_sca)\n",
    "X_train_blsmote = pd.DataFrame(X_resampled)\n",
    "y_train_blsmote  = pd.Series(y_resampled)"
   ]
  },
  {
   "cell_type": "code",
   "execution_count": 19,
   "metadata": {
    "colab": {
     "base_uri": "https://localhost:8080/",
     "height": 105
    },
    "colab_type": "code",
    "id": "Zq5ifacl_6GD",
    "outputId": "d14c16d8-6f20-43e3-ee8d-47927397bd8e"
   },
   "outputs": [
    {
     "name": "stdout",
     "output_type": "stream",
     "text": [
      "* Antes del proceso de over-sampling, se tiene 1150 valores de la clase '1'\n",
      "* Antes del proceso de over-sampling, se tiene 11020 valores de la clase '0'\n",
      "\n",
      "* Después del proceso de over-sampling, se tiene 11020 valores de la clase '1'\n",
      "* Después del proceso de over-sampling, se tiene 11020 valores de la clase '0'\n"
     ]
    }
   ],
   "source": [
    "print(\"* Antes del proceso de over-sampling, se tiene {} valores de la clase '1'\".format(sum(y_train_sca==1)))\n",
    "print(\"* Antes del proceso de over-sampling, se tiene {} valores de la clase '0'\\n\".format(sum(y_train_sca==0)))\n",
    "\n",
    "\n",
    "print(\"* Después del proceso de over-sampling, se tiene {} valores de la clase '1'\".format(sum(y_train_blsmote==1)))\n",
    "print(\"* Después del proceso de over-sampling, se tiene {} valores de la clase '0'\".format(sum(y_train_blsmote==0)))"
   ]
  },
  {
   "cell_type": "markdown",
   "metadata": {
    "colab_type": "text",
    "id": "ihrD1ksuT2US"
   },
   "source": [
    "## 1° Algoritmo: Random Forest"
   ]
  },
  {
   "cell_type": "code",
   "execution_count": 56,
   "metadata": {
    "colab": {
     "base_uri": "https://localhost:8080/",
     "height": 368
    },
    "colab_type": "code",
    "id": "rptd9nIcT4_4",
    "outputId": "77a6b4c6-ce31-458e-9785-878285e54e62"
   },
   "outputs": [
    {
     "name": "stdout",
     "output_type": "stream",
     "text": [
      "El MSE para el modelo RandomForestClassifier es:  0.057837660203746304\n",
      "El accuracy para el modelo RandomForestClassifier es:  0.9421623397962537\n",
      "El precision para el modelo RandomForestClassifier es:  0.6235011990407674\n",
      "El recall para el modelo RandomForestClassifier es:  0.931899641577061\n",
      "El F1-score para el modelo RandomForestClassifier es:  0.7471264367816092\n"
     ]
    },
    {
     "data": {
      "image/png": "[encoded data removed]",
      "text/plain": [
       "<Figure size 432x288 with 2 Axes>"
      ]
     },
     "metadata": {
      "tags": []
     },
     "output_type": "display_data"
    }
   ],
   "source": [
    "from sklearn.ensemble import RandomForestClassifier\n",
    "\n",
    "RF_model_sm = RandomForestClassifier(n_estimators=100, max_depth=2, random_state=0)\n",
    "RF_model_sm.fit(X_train_svmsmote, y_train_svmsmote)\n",
    "functions.eval_model(RF_model_sm, X_val_sca, y_val_sca)"
   ]
  },
  {
   "cell_type": "code",
   "execution_count": 0,
   "metadata": {
    "colab": {},
    "colab_type": "code",
    "id": "dWq_YkKG8kY8"
   },
   "outputs": [],
   "source": [
    "from sklearn.model_selection import GridSearchCV\n",
    "from sklearn.metrics import make_scorer\n",
    "\n",
    "RF_grid_param = {  \n",
    "    'n_estimators': [50, 100, 200],\n",
    "    'criterion': ['gini', 'entropy'],\n",
    "    'max_depth': [2,3]\n",
    "}"
   ]
  },
  {
   "cell_type": "code",
   "execution_count": 74,
   "metadata": {
    "colab": {
     "base_uri": "https://localhost:8080/",
     "height": 334
    },
    "colab_type": "code",
    "id": "8QmHPNaD855u",
    "outputId": "54f52c1a-558d-45e9-8735-d324d71202e5"
   },
   "outputs": [
    {
     "data": {
      "text/plain": [
       "GridSearchCV(cv=5, error_score='raise-deprecating',\n",
       "             estimator=RandomForestClassifier(bootstrap=True, class_weight=None,\n",
       "                                              criterion='gini', max_depth=2,\n",
       "                                              max_features='auto',\n",
       "                                              max_leaf_nodes=None,\n",
       "                                              min_impurity_decrease=0.0,\n",
       "                                              min_impurity_split=None,\n",
       "                                              min_samples_leaf=1,\n",
       "                                              min_samples_split=2,\n",
       "                                              min_weight_fraction_leaf=0.0,\n",
       "                                              n_estimators=100, n_jobs=None,\n",
       "                                              oob_score=False, random_state=0,\n",
       "                                              verbose=0, warm_start=False),\n",
       "             iid='warn', n_jobs=-1,\n",
       "             param_grid={'criterion': ['gini', 'entropy'], 'max_depth': [2, 3],\n",
       "                         'n_estimators': [50, 100, 200]},\n",
       "             pre_dispatch='2*n_jobs', refit=True, return_train_score=False,\n",
       "             scoring='f1', verbose=0)"
      ]
     },
     "execution_count": 74,
     "metadata": {
      "tags": []
     },
     "output_type": "execute_result"
    }
   ],
   "source": [
    "RF_gd_sr = GridSearchCV(estimator=RF_model_sm,  \n",
    "                     param_grid=RF_grid_param,\n",
    "                     scoring='f1',\n",
    "                     cv=5,\n",
    "                     n_jobs=-1)\n",
    "RF_gd_sr.fit(X_train_svmsmote, y_train_svmsmote)  "
   ]
  },
  {
   "cell_type": "code",
   "execution_count": 82,
   "metadata": {
    "colab": {
     "base_uri": "https://localhost:8080/",
     "height": 34
    },
    "colab_type": "code",
    "id": "VGk53iMsOkO_",
    "outputId": "7af3135c-4c85-4a43-8d09-355ae274a05c"
   },
   "outputs": [
    {
     "data": {
      "text/plain": [
       "{'criterion': 'entropy', 'max_depth': 3, 'n_estimators': 100}"
      ]
     },
     "execution_count": 82,
     "metadata": {
      "tags": []
     },
     "output_type": "execute_result"
    }
   ],
   "source": [
    "RF_gd_sr.best_params_"
   ]
  },
  {
   "cell_type": "code",
   "execution_count": 83,
   "metadata": {
    "colab": {
     "base_uri": "https://localhost:8080/",
     "height": 368
    },
    "colab_type": "code",
    "id": "QEe7BGg1Oqcp",
    "outputId": "f1af2218-da9b-4a0f-d0fa-6458d76965e2"
   },
   "outputs": [
    {
     "name": "stdout",
     "output_type": "stream",
     "text": [
      "El MSE para el modelo RandomForestClassifier es:  0.05816628327308577\n",
      "El accuracy para el modelo RandomForestClassifier es:  0.9418337167269142\n",
      "El precision para el modelo RandomForestClassifier es:  0.6202830188679245\n",
      "El recall para el modelo RandomForestClassifier es:  0.942652329749104\n",
      "El F1-score para el modelo RandomForestClassifier es:  0.7482219061166429\n"
     ]
    },
    {
     "data": {
      "image/png": "[encoded data removed]",
      "text/plain": [
       "<Figure size 432x288 with 2 Axes>"
      ]
     },
     "metadata": {
      "tags": []
     },
     "output_type": "display_data"
    }
   ],
   "source": [
    "functions.eval_model(RF_gd_sr.best_estimator_, X_val_sca, y_val_sca)"
   ]
  },
  {
   "cell_type": "markdown",
   "metadata": {
    "colab_type": "text",
    "id": "omTII_SNL15Z"
   },
   "source": [
    "## 2° Algoritmo: SVM"
   ]
  },
  {
   "cell_type": "code",
   "execution_count": 59,
   "metadata": {
    "colab": {
     "base_uri": "https://localhost:8080/",
     "height": 368
    },
    "colab_type": "code",
    "id": "4E55UeFELhv9",
    "outputId": "9625e675-def3-47a8-b606-9b8f35293515"
   },
   "outputs": [
    {
     "name": "stdout",
     "output_type": "stream",
     "text": [
      "El MSE para el modelo SVC es:  0.05718041406506737\n",
      "El accuracy para el modelo SVC es:  0.9428195859349326\n",
      "El precision para el modelo SVC es:  0.624113475177305\n",
      "El recall para el modelo SVC es:  0.946236559139785\n",
      "El F1-score para el modelo SVC es:  0.7521367521367522\n"
     ]
    },
    {
     "data": {
      "image/png": "[encoded data removed]",
      "text/plain": [
       "<Figure size 432x288 with 2 Axes>"
      ]
     },
     "metadata": {
      "tags": []
     },
     "output_type": "display_data"
    }
   ],
   "source": [
    "from sklearn.svm import SVC\n",
    "\n",
    "SVM_model_sm = SVC(gamma='auto',kernel='rbf')\n",
    "SVM_model_sm.fit(X_train_svmsmote, y_train_svmsmote)\n",
    "functions.eval_model(SVM_model_sm, X_val_sca, y_val_sca)"
   ]
  },
  {
   "cell_type": "code",
   "execution_count": 0,
   "metadata": {
    "colab": {},
    "colab_type": "code",
    "id": "iO6h3DKCJ5fS"
   },
   "outputs": [],
   "source": [
    "SVM_grid_param = {  \n",
    "    'C': [1, 10, 100],\n",
    "    'gamma': ['auto',0.01, 0.0001],\n",
    "    'kernel': ['rbf']\n",
    "}"
   ]
  },
  {
   "cell_type": "code",
   "execution_count": 79,
   "metadata": {
    "colab": {
     "base_uri": "https://localhost:8080/",
     "height": 210
    },
    "colab_type": "code",
    "id": "-xgF9dCaKRXt",
    "outputId": "a317b318-85c1-48e5-8334-308c31cf913e"
   },
   "outputs": [
    {
     "data": {
      "text/plain": [
       "GridSearchCV(cv=5, error_score='raise-deprecating',\n",
       "             estimator=SVC(C=1.0, cache_size=200, class_weight=None, coef0=0.0,\n",
       "                           decision_function_shape='ovr', degree=3,\n",
       "                           gamma='auto', kernel='rbf', max_iter=-1,\n",
       "                           probability=False, random_state=None, shrinking=True,\n",
       "                           tol=0.001, verbose=False),\n",
       "             iid='warn', n_jobs=-1,\n",
       "             param_grid={'C': [1, 10, 100], 'gamma': ['auto', 0.01, 0.0001],\n",
       "                         'kernel': ['rbf']},\n",
       "             pre_dispatch='2*n_jobs', refit=True, return_train_score=False,\n",
       "             scoring='f1', verbose=0)"
      ]
     },
     "execution_count": 79,
     "metadata": {
      "tags": []
     },
     "output_type": "execute_result"
    }
   ],
   "source": [
    "SVM_gd_sr = GridSearchCV(estimator=SVM_model_sm,  \n",
    "                     param_grid=SVM_grid_param,\n",
    "                     scoring='f1',\n",
    "                     cv=5,\n",
    "                     n_jobs=-1)\n",
    "SVM_gd_sr.fit(X_train_svmsmote, y_train_svmsmote)  "
   ]
  },
  {
   "cell_type": "code",
   "execution_count": 80,
   "metadata": {
    "colab": {
     "base_uri": "https://localhost:8080/",
     "height": 368
    },
    "colab_type": "code",
    "id": "y42mROEAM8Qu",
    "outputId": "b935a232-2617-4d5f-c8c4-4c4fd9b4ae7a"
   },
   "outputs": [
    {
     "name": "stdout",
     "output_type": "stream",
     "text": [
      "El MSE para el modelo SVC es:  0.038777522182057184\n",
      "El accuracy para el modelo SVC es:  0.9612224778179428\n",
      "El precision para el modelo SVC es:  0.7169811320754716\n",
      "El recall para el modelo SVC es:  0.953405017921147\n",
      "El F1-score para el modelo SVC es:  0.8184615384615385\n"
     ]
    },
    {
     "data": {
      "image/png": "[encoded data removed]",
      "text/plain": [
       "<Figure size 432x288 with 2 Axes>"
      ]
     },
     "metadata": {
      "tags": []
     },
     "output_type": "display_data"
    }
   ],
   "source": [
    "functions.eval_model(SVM_gd_sr.best_estimator_, X_val_sca, y_val_sca)"
   ]
  },
  {
   "cell_type": "code",
   "execution_count": 81,
   "metadata": {
    "colab": {
     "base_uri": "https://localhost:8080/",
     "height": 34
    },
    "colab_type": "code",
    "id": "ju32dnmJMt-L",
    "outputId": "031a56be-53bb-4a7a-e35a-4125861645ef"
   },
   "outputs": [
    {
     "data": {
      "text/plain": [
       "{'C': 100, 'gamma': 'auto', 'kernel': 'rbf'}"
      ]
     },
     "execution_count": 81,
     "metadata": {
      "tags": []
     },
     "output_type": "execute_result"
    }
   ],
   "source": [
    "SVM_gd_sr.best_params_"
   ]
  },
  {
   "cell_type": "markdown",
   "metadata": {
    "colab_type": "text",
    "id": "sPV-5aYbNL8Y"
   },
   "source": [
    "## 3° Algoritmo: KNN"
   ]
  },
  {
   "cell_type": "code",
   "execution_count": 20,
   "metadata": {
    "colab": {
     "base_uri": "https://localhost:8080/",
     "height": 368
    },
    "colab_type": "code",
    "id": "h7QHYqdUNTVn",
    "outputId": "dc679338-ab36-495d-b03a-e58021759cfc"
   },
   "outputs": [
    {
     "name": "stdout",
     "output_type": "stream",
     "text": [
      "El MSE para el modelo KNeighborsClassifier es:  0.03812027604337825\n",
      "El accuracy para el modelo KNeighborsClassifier es:  0.9618797239566218\n",
      "La precisión para el modelo KNeighborsClassifier es:  0.7282913165266106\n",
      "El recall para el modelo KNeighborsClassifier es:  0.931899641577061\n",
      "El F1-score para el modelo KNeighborsClassifier es:  0.8176100628930817\n"
     ]
    },
    {
     "data": {
      "image/png": "[encoded data removed]",
      "text/plain": [
       "<Figure size 432x288 with 2 Axes>"
      ]
     },
     "metadata": {},
     "output_type": "display_data"
    }
   ],
   "source": [
    "from sklearn.neighbors import KNeighborsClassifier\n",
    "\n",
    "KNN_model_sm = KNeighborsClassifier(n_neighbors=5)\n",
    "KNN_model_sm.fit(X_train_svmsmote, y_train_svmsmote)\n",
    "functions.eval_model(KNN_model_sm, X_val_sca, y_val_sca)"
   ]
  },
  {
   "cell_type": "code",
   "execution_count": 22,
   "metadata": {},
   "outputs": [
    {
     "data": {
      "text/plain": [
       "GridSearchCV(cv=5, error_score='raise-deprecating',\n",
       "       estimator=KNeighborsClassifier(algorithm='auto', leaf_size=30, metric='minkowski',\n",
       "           metric_params=None, n_jobs=None, n_neighbors=5, p=2,\n",
       "           weights='uniform'),\n",
       "       fit_params=None, iid='warn', n_jobs=-1,\n",
       "       param_grid={'n_neighbors': [3, 5, 11, 19], 'weights': ['uniform', 'distance'], 'p': [1, 2]},\n",
       "       pre_dispatch='2*n_jobs', refit=True, return_train_score='warn',\n",
       "       scoring='f1', verbose=0)"
      ]
     },
     "execution_count": 22,
     "metadata": {},
     "output_type": "execute_result"
    }
   ],
   "source": [
    "KNN_grid_param2 = {  \n",
    "    'n_neighbors': [3,5,11,19],\n",
    "    'weights': ['uniform','distance'],\n",
    "    'p': [1,2]\n",
    "}\n",
    "KNN_gd_sr2 = GridSearchCV(estimator=KNN_model_sm,  \n",
    "                     param_grid=KNN_grid_param2,\n",
    "                     scoring='f1',\n",
    "                     cv=5,\n",
    "                     n_jobs=-1)\n",
    "KNN_gd_sr2.fit(X_train_svmsmote, y_train_svmsmote)  "
   ]
  },
  {
   "cell_type": "code",
   "execution_count": 23,
   "metadata": {},
   "outputs": [
    {
     "data": {
      "text/plain": [
       "{'n_neighbors': 11, 'p': 1, 'weights': 'distance'}"
      ]
     },
     "execution_count": 23,
     "metadata": {},
     "output_type": "execute_result"
    }
   ],
   "source": [
    "KNN_gd_sr2.best_params_"
   ]
  },
  {
   "cell_type": "code",
   "execution_count": 24,
   "metadata": {},
   "outputs": [
    {
     "name": "stdout",
     "output_type": "stream",
     "text": [
      "El MSE para el modelo KNeighborsClassifier es:  0.047650345054222804\n",
      "El accuracy para el modelo KNeighborsClassifier es:  0.9523496549457772\n",
      "La precisión para el modelo KNeighborsClassifier es:  0.6744791666666666\n",
      "El recall para el modelo KNeighborsClassifier es:  0.9283154121863799\n",
      "El F1-score para el modelo KNeighborsClassifier es:  0.7812971342383106\n"
     ]
    },
    {
     "data": {
      "image/png": "[encoded data removed]",
      "text/plain": [
       "<Figure size 432x288 with 2 Axes>"
      ]
     },
     "metadata": {},
     "output_type": "display_data"
    }
   ],
   "source": [
    "functions.eval_model(KNN_gd_sr2.best_estimator_, X_val_sca, y_val_sca)"
   ]
  },
  {
   "cell_type": "markdown",
   "metadata": {
    "colab_type": "text",
    "id": "LKa0GTg6dodL"
   },
   "source": [
    "## 4° Algoritmo: Red Neuronal"
   ]
  },
  {
   "cell_type": "code",
   "execution_count": 25,
   "metadata": {
    "colab": {
     "base_uri": "https://localhost:8080/",
     "height": 423
    },
    "colab_type": "code",
    "id": "NUuUfbk3drw-",
    "outputId": "a1d2d9aa-d819-45cf-b833-2da086321dfa"
   },
   "outputs": [
    {
     "name": "stdout",
     "output_type": "stream",
     "text": [
      "El MSE para el modelo MLPClassifier es:  0.05126519881695695\n",
      "El accuracy para el modelo MLPClassifier es:  0.9487348011830431\n",
      "La precisión para el modelo MLPClassifier es:  0.6481927710843374\n",
      "El recall para el modelo MLPClassifier es:  0.96415770609319\n",
      "El F1-score para el modelo MLPClassifier es:  0.7752161383285302\n"
     ]
    },
    {
     "name": "stderr",
     "output_type": "stream",
     "text": [
      "C:\\Users\\User\\Anaconda3\\lib\\site-packages\\sklearn\\neural_network\\multilayer_perceptron.py:562: ConvergenceWarning: Stochastic Optimizer: Maximum iterations (200) reached and the optimization hasn't converged yet.\n",
      "  % self.max_iter, ConvergenceWarning)\n"
     ]
    },
    {
     "data": {
      "image/png": "[encoded data removed]",
      "text/plain": [
       "<Figure size 432x288 with 2 Axes>"
      ]
     },
     "metadata": {},
     "output_type": "display_data"
    }
   ],
   "source": [
    "from sklearn.neural_network import MLPClassifier\n",
    "\n",
    "NN_model_sm = MLPClassifier()\n",
    "NN_model_sm.fit(X_train_svmsmote, y_train_svmsmote)\n",
    "functions.eval_model(NN_model_sm, X_val_sca, y_val_sca)"
   ]
  },
  {
   "cell_type": "code",
   "execution_count": 26,
   "metadata": {},
   "outputs": [
    {
     "name": "stderr",
     "output_type": "stream",
     "text": [
      "C:\\Users\\User\\Anaconda3\\lib\\site-packages\\sklearn\\neural_network\\multilayer_perceptron.py:562: ConvergenceWarning: Stochastic Optimizer: Maximum iterations (200) reached and the optimization hasn't converged yet.\n",
      "  % self.max_iter, ConvergenceWarning)\n"
     ]
    },
    {
     "data": {
      "text/plain": [
       "GridSearchCV(cv=5, error_score='raise-deprecating',\n",
       "       estimator=MLPClassifier(activation='relu', alpha=0.0001, batch_size='auto', beta_1=0.9,\n",
       "       beta_2=0.999, early_stopping=False, epsilon=1e-08,\n",
       "       hidden_layer_sizes=(100,), learning_rate='constant',\n",
       "       learning_rate_init=0.001, max_iter=200, momentum=0.9,\n",
       "       n_iter_no_change=10, nesterovs_momentum=True, power_t=0.5,\n",
       "       random_state=None, shuffle=True, solver='adam', tol=0.0001,\n",
       "       validation_fraction=0.1, verbose=False, warm_start=False),\n",
       "       fit_params=None, iid='warn', n_jobs=-1,\n",
       "       param_grid={'activation': ['identity', 'logistic', 'tanh', 'relu'], 'solver': ['lbfgs', 'sgd', 'adam']},\n",
       "       pre_dispatch='2*n_jobs', refit=True, return_train_score='warn',\n",
       "       scoring='f1', verbose=0)"
      ]
     },
     "execution_count": 26,
     "metadata": {},
     "output_type": "execute_result"
    }
   ],
   "source": [
    "from sklearn.model_selection import GridSearchCV\n",
    "NN_grid_param2 = {  \n",
    "    'activation':['identity','logistic','tanh','relu'],\n",
    "    'solver': ['lbfgs','sgd','adam']\n",
    "}\n",
    "NN_gd_sr2 = GridSearchCV(estimator=NN_model_sm,  \n",
    "                     param_grid=NN_grid_param2,\n",
    "                     scoring='f1',\n",
    "                     cv=5,\n",
    "                     n_jobs=-1)\n",
    "NN_gd_sr2.fit(X_train_svmsmote, y_train_svmsmote)  "
   ]
  },
  {
   "cell_type": "code",
   "execution_count": 27,
   "metadata": {},
   "outputs": [
    {
     "data": {
      "text/plain": [
       "{'activation': 'relu', 'solver': 'adam'}"
      ]
     },
     "execution_count": 27,
     "metadata": {},
     "output_type": "execute_result"
    }
   ],
   "source": [
    "NN_gd_sr2.best_params_"
   ]
  },
  {
   "cell_type": "code",
   "execution_count": 28,
   "metadata": {},
   "outputs": [
    {
     "name": "stdout",
     "output_type": "stream",
     "text": [
      "El MSE para el modelo MLPClassifier es:  0.051593821886296416\n",
      "El accuracy para el modelo MLPClassifier es:  0.9484061781137035\n",
      "La precisión para el modelo MLPClassifier es:  0.6466346153846154\n",
      "El recall para el modelo MLPClassifier es:  0.96415770609319\n",
      "El F1-score para el modelo MLPClassifier es:  0.7741007194244605\n"
     ]
    },
    {
     "data": {
      "image/png": "[encoded data removed]",
      "text/plain": [
       "<Figure size 432x288 with 2 Axes>"
      ]
     },
     "metadata": {},
     "output_type": "display_data"
    }
   ],
   "source": [
    "functions.eval_model(NN_gd_sr2.best_estimator_, X_val_sca, y_val_sca)"
   ]
  },
  {
   "cell_type": "code",
   "execution_count": null,
   "metadata": {},
   "outputs": [],
   "source": []
  }
 ],
 "metadata": {
  "accelerator": "GPU",
  "colab": {
   "collapsed_sections": [
    "dyufgveAZvyX",
    "wJkNiVIm0_WK",
    "nTQ5qGslA2a2"
   ],
   "name": "Prueba_Algoritmos_DataNormalizada.ipynb",
   "provenance": [],
   "toc_visible": true,
   "version": "0.3.2"
  },
  "kernelspec": {
   "display_name": "Python 3",
   "language": "python",
   "name": "python3"
  },
  "language_info": {
   "codemirror_mode": {
    "name": "ipython",
    "version": 3
   },
   "file_extension": ".py",
   "mimetype": "text/x-python",
   "name": "python",
   "nbconvert_exporter": "python",
   "pygments_lexer": "ipython3",
   "version": "3.7.3"
  }
 },
 "nbformat": 4,
 "nbformat_minor": 1
}

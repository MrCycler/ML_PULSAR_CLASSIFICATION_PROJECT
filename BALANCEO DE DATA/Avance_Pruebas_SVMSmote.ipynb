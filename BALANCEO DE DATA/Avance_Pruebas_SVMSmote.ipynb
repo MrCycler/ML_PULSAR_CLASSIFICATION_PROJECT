{
  "nbformat": 4,
  "nbformat_minor": 0,
  "metadata": {
    "colab": {
      "name": "Avance Pruebas SVMSmote.ipynb",
      "version": "0.3.2",
      "provenance": [],
      "collapsed_sections": [
        "dyufgveAZvyX",
        "wJkNiVIm0_WK",
        "nTQ5qGslA2a2"
      ],
      "toc_visible": true
    },
    "language_info": {
      "codemirror_mode": {
        "name": "ipython",
        "version": 3
      },
      "file_extension": ".py",
      "mimetype": "text/x-python",
      "name": "python",
      "nbconvert_exporter": "python",
      "pygments_lexer": "ipython3",
      "version": "3.7.1"
    },
    "kernelspec": {
      "display_name": "Python 3",
      "language": "python",
      "name": "python3"
    },
    "accelerator": "GPU"
  },
  "cells": [
    {
      "cell_type": "code",
      "metadata": {
        "colab_type": "code",
        "id": "jtSqjGmVEgBl",
        "colab": {}
      },
      "source": [
        "#Importación de librerías\n",
        "try:\n",
        "  \n",
        "  #Para usar colab\n",
        "  from google.colab import drive\n",
        "  drive.mount('/content/drive')\n",
        "  \n",
        "  import numpy as np\n",
        "  import pandas as pd\n",
        "  \n",
        "except:\n",
        "  \n",
        "  import numpy as np\n",
        "  import pandas as pd\n",
        "\n",
        "import matplotlib.pyplot as plt\n",
        "plt.style.use('classic')\n",
        "%matplotlib inline\n",
        "\n",
        "import seaborn as sns\n",
        "sns.set()"
      ],
      "execution_count": 0,
      "outputs": []
    },
    {
      "cell_type": "code",
      "metadata": {
        "colab_type": "code",
        "id": "uisJWCEIEgBs",
        "colab": {}
      },
      "source": [
        "#Lectura de datos\n",
        "try:\n",
        "  #Caso en que se este usando jupyter notebooks\n",
        "  data_pulsar = pd.read_csv('HTRU_2_con_header.csv')\n",
        "except:\n",
        "  #Caso en que se use colab, cambiar directorio de acuerdo al drive\n",
        "  dir_str ='drive/My Drive/CURSOS - MAESTRIA/APRENDIZAJE AUTOMÁTICO/MACHINE LEARNING - PROYECTO/ML_PULSAR_CLASSIFICATION_PROJECT/PREPROCESAMIENTO DE DATA/HTRU_2_sin_header.csv'\n",
        "  #Se definen  los headers\n",
        "  head = ['mean_IP', 'std_IP','kurt_IP','skew_IP','mean_DM', 'std_DM','kurt_DM','skew_DM','is_pulsar']\n",
        "  #Lectura de la data\n",
        "  data_pulsar = pd.read_csv(dir_str,header=None, names=head)"
      ],
      "execution_count": 0,
      "outputs": []
    },
    {
      "cell_type": "markdown",
      "metadata": {
        "colab_type": "text",
        "id": "Wr79epzz4PpF"
      },
      "source": [
        "# Aplicación de Algoritmos (Data Cruda)"
      ]
    },
    {
      "cell_type": "code",
      "metadata": {
        "colab_type": "code",
        "id": "hdI9CWCd6Ugi",
        "colab": {}
      },
      "source": [
        "from sklearn.model_selection import train_test_split\n",
        "\n",
        "#Partición de la data cruda\n",
        "X = data_pulsar.drop(columns=[\"is_pulsar\"])\n",
        "y = data_pulsar[\"is_pulsar\"]\n",
        "\n",
        "X_trainval, X_test, y_trainval, y_test = train_test_split(X, y, test_size=0.15, random_state=0) #random_state = 0, para mantener la particion\n",
        "X_train, X_val, y_train, y_val = train_test_split(X_trainval, y_trainval, test_size=0.2, random_state=0)"
      ],
      "execution_count": 0,
      "outputs": []
    },
    {
      "cell_type": "markdown",
      "metadata": {
        "colab_type": "text",
        "id": "dyufgveAZvyX"
      },
      "source": [
        "## 1° Algorithm Test: Random Forest"
      ]
    },
    {
      "cell_type": "code",
      "metadata": {
        "colab_type": "code",
        "id": "RbBeLG1eZ1sj",
        "outputId": "04ea7ea7-5a80-4782-e414-2229363bac2c",
        "colab": {
          "base_uri": "https://localhost:8080/",
          "height": 297
        }
      },
      "source": [
        "from sklearn.ensemble import RandomForestClassifier\n",
        "\n",
        "RF_model = RandomForestClassifier(n_estimators=100, max_depth=2, random_state=0)\n",
        "RF_model.fit(X_train, y_train)\n",
        "RF_y_pred = RF_model.predict(X_val)\n",
        "\n",
        "from sklearn.metrics import mean_squared_error\n",
        "RF_MSE =mean_squared_error(y_val, RF_y_pred)  \n",
        "print(RF_MSE)\n",
        "\n",
        "from sklearn.metrics import confusion_matrix\n",
        "RF_conf = confusion_matrix(y_val, RF_y_pred)\n",
        "\n",
        "sns.heatmap(RF_conf,annot=True, fmt=\"d\", cmap=\"coolwarm\");"
      ],
      "execution_count": 0,
      "outputs": [
        {
          "output_type": "stream",
          "text": [
            "0.02201774564574433\n"
          ],
          "name": "stdout"
        },
        {
          "output_type": "display_data",
          "data": {
            "image/png": "[encoded data removed]",
            "text/plain": [
              "<Figure size 432x288 with 2 Axes>"
            ]
          },
          "metadata": {
            "tags": [],
            "needs_background": "light"
          }
        }
      ]
    },
    {
      "cell_type": "code",
      "metadata": {
        "colab_type": "code",
        "id": "82wQ6kY99zDl",
        "outputId": "abb7df6f-7043-4c52-e8fb-55f0cfa1fb2b",
        "colab": {
          "base_uri": "https://localhost:8080/",
          "height": 34
        }
      },
      "source": [
        "from sklearn.metrics import accuracy_score\n",
        "accuracy = accuracy_score(y_val, RF_y_pred)\n",
        "accuracy"
      ],
      "execution_count": 0,
      "outputs": [
        {
          "output_type": "execute_result",
          "data": {
            "text/plain": [
              "0.9779822543542557"
            ]
          },
          "metadata": {
            "tags": []
          },
          "execution_count": 6
        }
      ]
    },
    {
      "cell_type": "code",
      "metadata": {
        "colab_type": "code",
        "id": "sfAGJRt8-OGx",
        "outputId": "253343fb-a45f-4c6e-9642-7983d069e5e3",
        "colab": {
          "base_uri": "https://localhost:8080/",
          "height": 34
        }
      },
      "source": [
        "from sklearn.metrics import precision_score\n",
        "precision = precision_score(y_val, RF_y_pred)\n",
        "precision"
      ],
      "execution_count": 0,
      "outputs": [
        {
          "output_type": "execute_result",
          "data": {
            "text/plain": [
              "0.9344262295081968"
            ]
          },
          "metadata": {
            "tags": []
          },
          "execution_count": 7
        }
      ]
    },
    {
      "cell_type": "code",
      "metadata": {
        "colab_type": "code",
        "id": "8zLZSisO-WiT",
        "outputId": "dfbb720f-68af-456e-9611-093bdce6de69",
        "colab": {
          "base_uri": "https://localhost:8080/",
          "height": 34
        }
      },
      "source": [
        "from sklearn.metrics import recall_score\n",
        "recall = recall_score(y_val, RF_y_pred)\n",
        "recall"
      ],
      "execution_count": 0,
      "outputs": [
        {
          "output_type": "execute_result",
          "data": {
            "text/plain": [
              "0.8172043010752689"
            ]
          },
          "metadata": {
            "tags": []
          },
          "execution_count": 8
        }
      ]
    },
    {
      "cell_type": "code",
      "metadata": {
        "colab_type": "code",
        "id": "gC2BqTsB-w0E",
        "outputId": "2c113597-b804-42ce-d1f8-904b50048528",
        "colab": {
          "base_uri": "https://localhost:8080/",
          "height": 34
        }
      },
      "source": [
        "from sklearn.metrics import f1_score\n",
        "f1score = f1_score(y_val, RF_y_pred)\n",
        "f1score"
      ],
      "execution_count": 0,
      "outputs": [
        {
          "output_type": "execute_result",
          "data": {
            "text/plain": [
              "0.8718929254302105"
            ]
          },
          "metadata": {
            "tags": []
          },
          "execution_count": 9
        }
      ]
    },
    {
      "cell_type": "markdown",
      "metadata": {
        "colab_type": "text",
        "id": "wJkNiVIm0_WK"
      },
      "source": [
        "## 2° Algorithm Test: SVM"
      ]
    },
    {
      "cell_type": "code",
      "metadata": {
        "colab_type": "code",
        "id": "tEqTySan1FZK",
        "outputId": "4dadedcb-1e74-4ab8-a4bd-af03475b162a",
        "colab": {
          "base_uri": "https://localhost:8080/",
          "height": 297
        }
      },
      "source": [
        "from sklearn.svm import SVC\n",
        "\n",
        "SVM_model = SVC(gamma='auto',kernel='rbf')\n",
        "SVM_model.fit(X_train, y_train) \n",
        "SVM_y_pred = SVM_model.predict(X_val)\n",
        "\n",
        "from sklearn.metrics import mean_squared_error\n",
        "SVM_MSE = mean_squared_error(y_val, SVM_y_pred)  \n",
        "print(SVM_MSE)\n",
        "\n",
        "from sklearn.metrics import confusion_matrix\n",
        "SVM_conf = confusion_matrix(y_val, SVM_y_pred)\n",
        "\n",
        "sns.heatmap(SVM_conf,annot=True, fmt=\"d\", cmap=\"coolwarm\");"
      ],
      "execution_count": 0,
      "outputs": [
        {
          "output_type": "stream",
          "text": [
            "0.09069996713769307\n"
          ],
          "name": "stdout"
        },
        {
          "output_type": "display_data",
          "data": {
            "image/png": "[encoded data removed]",
            "text/plain": [
              "<Figure size 432x288 with 2 Axes>"
            ]
          },
          "metadata": {
            "tags": [],
            "needs_background": "light"
          }
        }
      ]
    },
    {
      "cell_type": "code",
      "metadata": {
        "colab_type": "code",
        "id": "E4KL-4Qt_QlK",
        "outputId": "2da742ce-a69c-4434-c559-7c951744bd7a",
        "colab": {
          "base_uri": "https://localhost:8080/",
          "height": 34
        }
      },
      "source": [
        "from sklearn.metrics import accuracy_score\n",
        "accuracy = accuracy_score(y_val, SVM_y_pred)\n",
        "accuracy"
      ],
      "execution_count": 0,
      "outputs": [
        {
          "output_type": "execute_result",
          "data": {
            "text/plain": [
              "0.909300032862307"
            ]
          },
          "metadata": {
            "tags": []
          },
          "execution_count": 11
        }
      ]
    },
    {
      "cell_type": "code",
      "metadata": {
        "colab_type": "code",
        "id": "YSaEw3KG_VeE",
        "outputId": "c5119d21-1d16-4bd2-8ee7-3c61a79213fd",
        "colab": {
          "base_uri": "https://localhost:8080/",
          "height": 34
        }
      },
      "source": [
        "from sklearn.metrics import precision_score\n",
        "precision = precision_score(y_val, SVM_y_pred)\n",
        "precision"
      ],
      "execution_count": 0,
      "outputs": [
        {
          "output_type": "execute_result",
          "data": {
            "text/plain": [
              "1.0"
            ]
          },
          "metadata": {
            "tags": []
          },
          "execution_count": 12
        }
      ]
    },
    {
      "cell_type": "code",
      "metadata": {
        "colab_type": "code",
        "id": "k2SeC90W_aHx",
        "outputId": "1375be77-57c1-4487-8557-3b75521d8032",
        "colab": {
          "base_uri": "https://localhost:8080/",
          "height": 34
        }
      },
      "source": [
        "from sklearn.metrics import recall_score\n",
        "recall = recall_score(y_val, SVM_y_pred)\n",
        "recall"
      ],
      "execution_count": 0,
      "outputs": [
        {
          "output_type": "execute_result",
          "data": {
            "text/plain": [
              "0.010752688172043012"
            ]
          },
          "metadata": {
            "tags": []
          },
          "execution_count": 13
        }
      ]
    },
    {
      "cell_type": "code",
      "metadata": {
        "colab_type": "code",
        "id": "LN53yZOx_ehv",
        "outputId": "e2f46b8f-e154-4019-f7a4-da4c29acd185",
        "colab": {
          "base_uri": "https://localhost:8080/",
          "height": 34
        }
      },
      "source": [
        "from sklearn.metrics import f1_score\n",
        "f1score = f1_score(y_val, SVM_y_pred)\n",
        "f1score"
      ],
      "execution_count": 0,
      "outputs": [
        {
          "output_type": "execute_result",
          "data": {
            "text/plain": [
              "0.021276595744680854"
            ]
          },
          "metadata": {
            "tags": []
          },
          "execution_count": 14
        }
      ]
    },
    {
      "cell_type": "markdown",
      "metadata": {
        "colab_type": "text",
        "id": "nTQ5qGslA2a2"
      },
      "source": [
        "## 3° Algorithm Test: KNN"
      ]
    },
    {
      "cell_type": "code",
      "metadata": {
        "colab_type": "code",
        "id": "mWIO7WilBBrj",
        "outputId": "be4bf425-72ea-43f9-e243-7c74b4188384",
        "colab": {
          "base_uri": "https://localhost:8080/",
          "height": 297
        }
      },
      "source": [
        "from sklearn.neighbors import KNeighborsClassifier\n",
        "\n",
        "KNN_model = KNeighborsClassifier(n_neighbors=5)\n",
        "KNN_model.fit(X_train, y_train) \n",
        "KNN_y_pred = KNN_model.predict(X_val)\n",
        "\n",
        "from sklearn.metrics import mean_squared_error\n",
        "KNN_MSE = mean_squared_error(y_val, KNN_y_pred)  \n",
        "print(KNN_MSE)\n",
        "\n",
        "from sklearn.metrics import confusion_matrix\n",
        "KNN_conf = confusion_matrix(y_val, KNN_y_pred)\n",
        "\n",
        "sns.heatmap(KNN_conf,annot=True, fmt=\"d\", cmap=\"coolwarm\");"
      ],
      "execution_count": 0,
      "outputs": [
        {
          "output_type": "stream",
          "text": [
            "0.026947091685836345\n"
          ],
          "name": "stdout"
        },
        {
          "output_type": "display_data",
          "data": {
            "image/png": "[encoded data removed]",
            "text/plain": [
              "<Figure size 432x288 with 2 Axes>"
            ]
          },
          "metadata": {
            "tags": [],
            "needs_background": "light"
          }
        }
      ]
    },
    {
      "cell_type": "code",
      "metadata": {
        "colab_type": "code",
        "id": "LhuVlCmeIKNd",
        "outputId": "891062f4-a838-4f77-d26c-be7e8e323bd7",
        "colab": {
          "base_uri": "https://localhost:8080/",
          "height": 34
        }
      },
      "source": [
        "from sklearn.metrics import accuracy_score\n",
        "accuracy = accuracy_score(y_val, KNN_y_pred)\n",
        "accuracy"
      ],
      "execution_count": 0,
      "outputs": [
        {
          "output_type": "execute_result",
          "data": {
            "text/plain": [
              "0.9730529083141637"
            ]
          },
          "metadata": {
            "tags": []
          },
          "execution_count": 16
        }
      ]
    },
    {
      "cell_type": "code",
      "metadata": {
        "colab_type": "code",
        "id": "wqIEhf1TIMsK",
        "outputId": "5beadd64-bffb-4f24-a504-62cb0519619f",
        "colab": {
          "base_uri": "https://localhost:8080/",
          "height": 34
        }
      },
      "source": [
        "from sklearn.metrics import precision_score\n",
        "precision = precision_score(y_val, KNN_y_pred)\n",
        "precision"
      ],
      "execution_count": 0,
      "outputs": [
        {
          "output_type": "execute_result",
          "data": {
            "text/plain": [
              "0.8924302788844621"
            ]
          },
          "metadata": {
            "tags": []
          },
          "execution_count": 17
        }
      ]
    },
    {
      "cell_type": "code",
      "metadata": {
        "colab_type": "code",
        "id": "ihzm3B-QINOJ",
        "outputId": "231efe53-0fcb-4a65-c785-ff04cc3bab1a",
        "colab": {
          "base_uri": "https://localhost:8080/",
          "height": 34
        }
      },
      "source": [
        "from sklearn.metrics import recall_score\n",
        "recall = recall_score(y_val, KNN_y_pred)\n",
        "recall"
      ],
      "execution_count": 0,
      "outputs": [
        {
          "output_type": "execute_result",
          "data": {
            "text/plain": [
              "0.8028673835125448"
            ]
          },
          "metadata": {
            "tags": []
          },
          "execution_count": 18
        }
      ]
    },
    {
      "cell_type": "code",
      "metadata": {
        "colab_type": "code",
        "id": "XKiJD5daIW2u",
        "outputId": "81208943-0d21-4269-de41-408de93149b3",
        "colab": {
          "base_uri": "https://localhost:8080/",
          "height": 34
        }
      },
      "source": [
        "from sklearn.metrics import f1_score\n",
        "f1score = f1_score(y_val, KNN_y_pred)\n",
        "f1score"
      ],
      "execution_count": 0,
      "outputs": [
        {
          "output_type": "execute_result",
          "data": {
            "text/plain": [
              "0.8452830188679245"
            ]
          },
          "metadata": {
            "tags": []
          },
          "execution_count": 19
        }
      ]
    },
    {
      "cell_type": "markdown",
      "metadata": {
        "colab_type": "text",
        "id": "A_Q8pZPRaDW3"
      },
      "source": [
        "# Preprocesamiento de la Data"
      ]
    },
    {
      "cell_type": "markdown",
      "metadata": {
        "colab_type": "text",
        "id": "ufuPbprh9ChU"
      },
      "source": [
        "## Escalamiento de la data"
      ]
    },
    {
      "cell_type": "code",
      "metadata": {
        "colab_type": "code",
        "id": "jrkSQjWE6b6q",
        "colab": {}
      },
      "source": [
        "#Escalamiento \n",
        "from sklearn.preprocessing import MinMaxScaler\n",
        "head = ['mean_IP', 'std_IP','kurt_IP','skew_IP','mean_DM', 'std_DM','kurt_DM','skew_DM','is_pulsar']\n",
        "scaler = MinMaxScaler()\n",
        "scaler.fit(data_pulsar)\n",
        "data_pulsar_scaled = pd.DataFrame(scaler.transform(data_pulsar), columns =head)\n",
        "data_pulsar_scaled.describe()\n",
        "\n",
        "#Partición de la data escalada\n",
        "X_sca = data_pulsar_scaled.drop(columns=[\"is_pulsar\"])\n",
        "y_sca = data_pulsar_scaled[\"is_pulsar\"]\n",
        "\n",
        "X_trainval_sca, X_test_sca, y_trainval_sca, y_test_sca = train_test_split(X_sca, y_sca, test_size=0.15, random_state=0) #random_state = 0, para mantener la particion\n",
        "X_train_sca, X_val_sca, y_train_sca, y_val_sca = train_test_split(X_trainval_sca, y_trainval_sca, test_size=0.2, random_state=0)\n"
      ],
      "execution_count": 0,
      "outputs": []
    },
    {
      "cell_type": "markdown",
      "metadata": {
        "colab_type": "text",
        "id": "xt7Pq9UJ49Qz"
      },
      "source": [
        "## Aplicación de SVMSMOTE"
      ]
    },
    {
      "cell_type": "code",
      "metadata": {
        "colab_type": "code",
        "id": "XELoZXyD6hJk",
        "outputId": "9087412e-34ef-4a1d-d7ca-d4fe994d4771",
        "colab": {
          "base_uri": "https://localhost:8080/",
          "height": 72
        }
      },
      "source": [
        "#Antes de aplicar SMOTE\n",
        "y_train_sca.value_counts()"
      ],
      "execution_count": 5,
      "outputs": [
        {
          "output_type": "execute_result",
          "data": {
            "text/plain": [
              "0.0    11020\n",
              "1.0     1150\n",
              "Name: is_pulsar, dtype: int64"
            ]
          },
          "metadata": {
            "tags": []
          },
          "execution_count": 5
        }
      ]
    },
    {
      "cell_type": "code",
      "metadata": {
        "colab_type": "code",
        "id": "8VHaZilY5ZX6",
        "colab": {}
      },
      "source": [
        "#https://imbalanced-learn.readthedocs.io/en/latest/generated/imblearn.over_sampling.SVMSMOTE.html#r88acb9955f91-2\n",
        "from collections import Counter\n",
        "from imblearn.over_sampling import SVMSMOTE\n",
        "smt = SVMSMOTE(random_state=12)\n",
        "X_sm_train, y_sm_train = smt.fit_resample(X_train_sca, y_train_sca)\n",
        "#from imblearn.ensemble import BalancedBaggingClassifier # doctest: +NORMALIZE_WHITESPACE\n",
        "#bbc = BalancedBaggingClassifier(random_state=0)\n",
        "#X_sm_train, y_sm_train = smt.fit_resample(X_train, y_train)\n"
      ],
      "execution_count": 0,
      "outputs": []
    },
    {
      "cell_type": "code",
      "metadata": {
        "colab_type": "code",
        "id": "CglOALsv7Eqq",
        "outputId": "7cab330f-e950-49d3-d611-28080b996127",
        "colab": {
          "base_uri": "https://localhost:8080/",
          "height": 35
        }
      },
      "source": [
        "print('Tamaño de la data remuestrada: %s' % Counter(y_sm_train))"
      ],
      "execution_count": 38,
      "outputs": [
        {
          "output_type": "stream",
          "text": [
            "Tamaño de la data remuestrada: Counter({0.0: 11020, 1.0: 11020})\n"
          ],
          "name": "stdout"
        }
      ]
    },
    {
      "cell_type": "code",
      "metadata": {
        "id": "tKU8qPrmNnO0",
        "colab_type": "code",
        "colab": {}
      },
      "source": [
        "from sklearn.metrics import accuracy_score\n",
        "from sklearn.metrics import recall_score\n",
        "from sklearn.metrics import precision_score\n",
        "from sklearn.metrics import f1_score"
      ],
      "execution_count": 0,
      "outputs": []
    },
    {
      "cell_type": "markdown",
      "metadata": {
        "id": "omTII_SNL15Z",
        "colab_type": "text"
      },
      "source": [
        "## SVC - DataRemuestrada"
      ]
    },
    {
      "cell_type": "code",
      "metadata": {
        "id": "4E55UeFELhv9",
        "colab_type": "code",
        "colab": {
          "base_uri": "https://localhost:8080/",
          "height": 298
        },
        "outputId": "bdf24789-4514-4608-ff01-f7d19cbbe545"
      },
      "source": [
        "from sklearn.svm import SVC\n",
        "\n",
        "SVM_sm_model = SVC(gamma='auto',kernel='rbf')\n",
        "SVM_sm_model.fit(X_sm_train, y_sm_train) \n",
        "SVM_ysm_pred = SVM_sm_model.predict(X_val_sca)\n",
        "\n",
        "from sklearn.metrics import mean_squared_error\n",
        "SVM_sm_MSE = mean_squared_error(y_val_sca, SVM_ysm_pred)  \n",
        "print(SVM_sm_MSE)\n",
        "\n",
        "from sklearn.metrics import confusion_matrix\n",
        "SVM_sm_conf = confusion_matrix(y_val_sca, SVM_ysm_pred)\n",
        "\n",
        "sns.heatmap(SVM_sm_conf,annot=True, fmt=\"d\", cmap=\"coolwarm\");"
      ],
      "execution_count": 48,
      "outputs": [
        {
          "output_type": "stream",
          "text": [
            "0.05718041406506737\n"
          ],
          "name": "stdout"
        },
        {
          "output_type": "display_data",
          "data": {
            "image/png": "[encoded data removed]",
            "text/plain": [
              "<Figure size 432x288 with 2 Axes>"
            ]
          },
          "metadata": {
            "tags": []
          }
        }
      ]
    },
    {
      "cell_type": "code",
      "metadata": {
        "id": "LSnHktvfMRAh",
        "colab_type": "code",
        "colab": {
          "base_uri": "https://localhost:8080/",
          "height": 90
        },
        "outputId": "21ad1459-a632-4b8f-e3ad-c093bd626f10"
      },
      "source": [
        "accuracy = accuracy_score(y_val_sca, SVM_ysm_pred)  \n",
        "precision = precision_score(y_val_sca, SVM_ysm_pred)\n",
        "recall = recall_score(y_val_sca, SVM_ysm_pred)\n",
        "f1score = f1_score(y_val_sca, SVM_ysm_pred)\n",
        "print('La exactitud del modelo con aplicación de SVMSMOTE es: %s' % accuracy)\n",
        "print('La precisión del modelo con aplicación de SVMSMOTE es: %s' % precision)\n",
        "print('La exhaustividad(recall) del modelo con aplicación de SVMSMOTE es: %s' % recall)\n",
        "print('El F1 score del modelo con aplicación de SVMSMOTE es: %s' % f1score)"
      ],
      "execution_count": 49,
      "outputs": [
        {
          "output_type": "stream",
          "text": [
            "La exactitud del modelo con aplicación de SVMSMOTE es: 0.9428195859349326\n",
            "La precisión del modelo con aplicación de SVMSMOTE es: 0.624113475177305\n",
            "La exhaustividad(recall) del modelo con aplicación de SVMSMOTE es: 0.946236559139785\n",
            "El F1 score del modelo con aplicación de SVMSMOTE es: 0.7521367521367522\n"
          ],
          "name": "stdout"
        }
      ]
    },
    {
      "cell_type": "markdown",
      "metadata": {
        "id": "sPV-5aYbNL8Y",
        "colab_type": "text"
      },
      "source": [
        "## KNN-Remuestreada"
      ]
    },
    {
      "cell_type": "code",
      "metadata": {
        "id": "h7QHYqdUNTVn",
        "colab_type": "code",
        "colab": {
          "base_uri": "https://localhost:8080/",
          "height": 298
        },
        "outputId": "e054a28a-c78d-4b43-aa49-7fcc07562614"
      },
      "source": [
        "from sklearn.neighbors import KNeighborsClassifier\n",
        "\n",
        "KNN_sm_model = KNeighborsClassifier(n_neighbors=5)\n",
        "KNN_sm_model.fit(X_sm_train, y_sm_train) \n",
        "KNN_ysm_pred = KNN_sm_model.predict(X_val_sca)\n",
        "\n",
        "from sklearn.metrics import mean_squared_error\n",
        "KNN_sm_MSE = mean_squared_error(y_val_sca, KNN_ysm_pred)  \n",
        "print(KNN_sm_MSE)\n",
        "\n",
        "from sklearn.metrics import confusion_matrix\n",
        "KNN_sm_conf = confusion_matrix(y_val_sca, KNN_ysm_pred)\n",
        "\n",
        "sns.heatmap(KNN_sm_conf,annot=True, fmt=\"d\", cmap=\"coolwarm\");"
      ],
      "execution_count": 50,
      "outputs": [
        {
          "output_type": "stream",
          "text": [
            "0.03812027604337825\n"
          ],
          "name": "stdout"
        },
        {
          "output_type": "display_data",
          "data": {
            "image/png": "[encoded data removed]",
            "text/plain": [
              "<Figure size 432x288 with 2 Axes>"
            ]
          },
          "metadata": {
            "tags": []
          }
        }
      ]
    },
    {
      "cell_type": "code",
      "metadata": {
        "id": "KnYCJqwgNlJx",
        "colab_type": "code",
        "colab": {
          "base_uri": "https://localhost:8080/",
          "height": 90
        },
        "outputId": "99c26403-cae9-4743-99d8-500fba31ec55"
      },
      "source": [
        "accuracy = accuracy_score(y_val, KNN_ysm_pred)  \n",
        "precision = precision_score(y_val, KNN_ysm_pred)\n",
        "recall = recall_score(y_val, KNN_ysm_pred)\n",
        "f1score = f1_score(y_val, KNN_ysm_pred)\n",
        "print('La exactitud del modelo con aplicación de SVMSMOTE es: %s' % accuracy)\n",
        "print('La precisión del modelo con aplicación de SVMSMOTE es: %s' % precision)\n",
        "print('La exhaustividad(recall) del modelo con aplicación de SVMSMOTE es: %s' % recall)\n",
        "print('El F1 score del modelo con aplicación de SVMSMOTE es: %s' % f1score)"
      ],
      "execution_count": 51,
      "outputs": [
        {
          "output_type": "stream",
          "text": [
            "La exactitud del modelo con aplicación de SVMSMOTE es: 0.9618797239566218\n",
            "La precisión del modelo con aplicación de SVMSMOTE es: 0.7282913165266106\n",
            "La exhaustividad(recall) del modelo con aplicación de SVMSMOTE es: 0.931899641577061\n",
            "El F1 score del modelo con aplicación de SVMSMOTE es: 0.8176100628930817\n"
          ],
          "name": "stdout"
        }
      ]
    },
    {
      "cell_type": "markdown",
      "metadata": {
        "id": "ihrD1ksuT2US",
        "colab_type": "text"
      },
      "source": [
        "## RF-Remuestreada"
      ]
    },
    {
      "cell_type": "code",
      "metadata": {
        "id": "rptd9nIcT4_4",
        "colab_type": "code",
        "colab": {
          "base_uri": "https://localhost:8080/",
          "height": 298
        },
        "outputId": "801ae771-b092-4d9e-9aef-a06d5bd6ee27"
      },
      "source": [
        "from sklearn.ensemble import RandomForestClassifier\n",
        "\n",
        "RF_sm_model = RandomForestClassifier(n_estimators=100, max_depth=2, random_state=0)\n",
        "RF_sm_model.fit(X_sm_train, y_sm_train) \n",
        "RF_ysm_pred = RF_sm_model.predict(X_val_sca)\n",
        "\n",
        "from sklearn.metrics import mean_squared_error\n",
        "RF_sm_MSE =mean_squared_error(y_val_sca, RF_ysm_pred)  \n",
        "print(RF_sm_MSE)\n",
        "\n",
        "from sklearn.metrics import confusion_matrix\n",
        "RF_sm_conf = confusion_matrix(y_val_sca, RF_ysm_pred)\n",
        "\n",
        "sns.heatmap(RF_sm_conf,annot=True, fmt=\"d\", cmap=\"coolwarm\");"
      ],
      "execution_count": 52,
      "outputs": [
        {
          "output_type": "stream",
          "text": [
            "0.057837660203746304\n"
          ],
          "name": "stdout"
        },
        {
          "output_type": "display_data",
          "data": {
            "image/png": "[encoded data removed]",
            "text/plain": [
              "<Figure size 432x288 with 2 Axes>"
            ]
          },
          "metadata": {
            "tags": []
          }
        }
      ]
    },
    {
      "cell_type": "code",
      "metadata": {
        "id": "FiCIzmoBUMQi",
        "colab_type": "code",
        "colab": {
          "base_uri": "https://localhost:8080/",
          "height": 90
        },
        "outputId": "9fdadfa8-0f9f-4d4c-d300-c05f066b085a"
      },
      "source": [
        "accuracy = accuracy_score(y_val, RF_ysm_pred)  \n",
        "precision = precision_score(y_val, RF_ysm_pred)\n",
        "recall = recall_score(y_val, RF_ysm_pred)\n",
        "f1score = f1_score(y_val, RF_ysm_pred)\n",
        "print('La exactitud del modelo con aplicación de SVMSMOTE es: %s' % accuracy)\n",
        "print('La precisión del modelo con aplicación de SVMSMOTE es: %s' % precision)\n",
        "print('La exhaustividad(recall) del modelo con aplicación de SVMSMOTE es: %s' % recall)\n",
        "print('El F1 score del modelo con aplicación de SVMSMOTE es: %s' % f1score)"
      ],
      "execution_count": 53,
      "outputs": [
        {
          "output_type": "stream",
          "text": [
            "La exactitud del modelo con aplicación de SVMSMOTE es: 0.9421623397962537\n",
            "La precisión del modelo con aplicación de SVMSMOTE es: 0.6235011990407674\n",
            "La exhaustividad(recall) del modelo con aplicación de SVMSMOTE es: 0.931899641577061\n",
            "El F1 score del modelo con aplicación de SVMSMOTE es: 0.7471264367816092\n"
          ],
          "name": "stdout"
        }
      ]
    },
    {
      "cell_type": "markdown",
      "metadata": {
        "id": "LKa0GTg6dodL",
        "colab_type": "text"
      },
      "source": [
        "## NN Remuestreada"
      ]
    },
    {
      "cell_type": "code",
      "metadata": {
        "id": "NUuUfbk3drw-",
        "colab_type": "code",
        "colab": {
          "base_uri": "https://localhost:8080/",
          "height": 355
        },
        "outputId": "73bc190c-2519-4c36-98ec-465b3a9f758c"
      },
      "source": [
        "from sklearn.neural_network import MLPClassifier\n",
        "\n",
        "NN_sm_model = MLPClassifier()\n",
        "NN_sm_model.fit(X_sm_train, y_sm_train) \n",
        "NN_ysm_pred = NN_sm_model.predict(X_val_sca)\n",
        "\n",
        "from sklearn.metrics import mean_squared_error\n",
        "NN_sm_MSE =mean_squared_error(y_val_sca, NN_ysm_pred)  \n",
        "print(NN_sm_MSE)\n",
        "\n",
        "from sklearn.metrics import confusion_matrix\n",
        "NN_sm_conf = confusion_matrix(y_val_sca, NN_ysm_pred)\n",
        "\n",
        "sns.heatmap(NN_sm_conf,annot=True, fmt=\"d\", cmap=\"coolwarm\");"
      ],
      "execution_count": 54,
      "outputs": [
        {
          "output_type": "stream",
          "text": [
            "0.045021360499507064\n"
          ],
          "name": "stdout"
        },
        {
          "output_type": "stream",
          "text": [
            "/usr/local/lib/python3.6/dist-packages/sklearn/neural_network/multilayer_perceptron.py:566: ConvergenceWarning: Stochastic Optimizer: Maximum iterations (200) reached and the optimization hasn't converged yet.\n",
            "  % self.max_iter, ConvergenceWarning)\n"
          ],
          "name": "stderr"
        },
        {
          "output_type": "display_data",
          "data": {
            "image/png": "[encoded data removed]",
            "text/plain": [
              "<Figure size 432x288 with 2 Axes>"
            ]
          },
          "metadata": {
            "tags": []
          }
        }
      ]
    },
    {
      "cell_type": "code",
      "metadata": {
        "id": "zzAND-OweGLC",
        "colab_type": "code",
        "colab": {
          "base_uri": "https://localhost:8080/",
          "height": 90
        },
        "outputId": "181cc438-cc2e-4d1f-b4fc-17647de73767"
      },
      "source": [
        "accuracy = accuracy_score(y_val, NN_ysm_pred)  \n",
        "precision = precision_score(y_val, NN_ysm_pred)\n",
        "recall = recall_score(y_val, NN_ysm_pred)\n",
        "f1score = f1_score(y_val, NN_ysm_pred)\n",
        "print('La exactitud del modelo con aplicación de SVMSMOTE es: %s' % accuracy)\n",
        "print('La precisión del modelo con aplicación de SVMSMOTE es: %s' % precision)\n",
        "print('La exhaustividad(recall) del modelo con aplicación de SVMSMOTE es: %s' % recall)\n",
        "print('El F1 score del modelo con aplicación de SVMSMOTE es: %s' % f1score)"
      ],
      "execution_count": 55,
      "outputs": [
        {
          "output_type": "stream",
          "text": [
            "La exactitud del modelo con aplicación de SVMSMOTE es: 0.9549786395004929\n",
            "La precisión del modelo con aplicación de SVMSMOTE es: 0.6820512820512821\n",
            "La exhaustividad(recall) del modelo con aplicación de SVMSMOTE es: 0.953405017921147\n",
            "El F1 score del modelo con aplicación de SVMSMOTE es: 0.7952167414050823\n"
          ],
          "name": "stdout"
        }
      ]
    }
  ]
}
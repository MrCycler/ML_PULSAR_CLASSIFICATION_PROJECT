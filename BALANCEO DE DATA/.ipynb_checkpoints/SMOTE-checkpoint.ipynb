{
 "cells": [
  {
   "cell_type": "code",
   "execution_count": 1,
   "metadata": {
    "colab": {
     "base_uri": "https://localhost:8080/",
     "height": 121
    },
    "colab_type": "code",
    "executionInfo": {
     "elapsed": 22558,
     "status": "ok",
     "timestamp": 1560013145190,
     "user": {
      "displayName": "José Guillermo Balbuena Galván",
      "photoUrl": "https://lh3.googleusercontent.com/-Nnerzu-V3hM/AAAAAAAAAAI/AAAAAAAAAH8/qC7cOL6JlC0/s64/photo.jpg",
      "userId": "13249900897807099447"
     },
     "user_tz": 300
    },
    "id": "jtSqjGmVEgBl",
    "outputId": "f4df7093-f572-4291-cd42-bd1ec72857b7"
   },
   "outputs": [],
   "source": [
    "#Importación de librerías\n",
    "try:\n",
    "  \n",
    "  #Para usar colab\n",
    "  from google.colab import drive\n",
    "  drive.mount('/content/drive')\n",
    "  \n",
    "  import numpy as np\n",
    "  import pandas as pd\n",
    "  \n",
    "except:\n",
    "  \n",
    "  import numpy as np\n",
    "  import pandas as pd\n",
    "\n",
    "import matplotlib.pyplot as plt\n",
    "plt.style.use('classic')\n",
    "%matplotlib inline\n",
    "\n",
    "import seaborn as sns\n",
    "sns.set()"
   ]
  },
  {
   "cell_type": "code",
   "execution_count": 2,
   "metadata": {
    "colab": {},
    "colab_type": "code",
    "id": "uisJWCEIEgBs"
   },
   "outputs": [
    {
     "ename": "FileNotFoundError",
     "evalue": "File b'drive/My Drive/CURSOS - MAESTRIA/APRENDIZAJE AUTOMA\\xcc\\x81TICO/MACHINE LEARNING - PROYECTO/ML_PULSAR_CLASSIFICATION_PROJECT/PREPROCESAMIENTO DE DATA/HTRU_2_sin_header.csv' does not exist",
     "output_type": "error",
     "traceback": [
      "\u001b[1;31m---------------------------------------------------------------------------\u001b[0m",
      "\u001b[1;31mFileNotFoundError\u001b[0m                         Traceback (most recent call last)",
      "\u001b[1;32m<ipython-input-2-8d5efd5b1f60>\u001b[0m in \u001b[0;36m<module>\u001b[1;34m()\u001b[0m\n\u001b[0;32m      3\u001b[0m   \u001b[1;31m#Caso en que se este usando jupyter notebooks\u001b[0m\u001b[1;33m\u001b[0m\u001b[1;33m\u001b[0m\u001b[0m\n\u001b[1;32m----> 4\u001b[1;33m   \u001b[0mdata_pulsar\u001b[0m \u001b[1;33m=\u001b[0m \u001b[0mpd\u001b[0m\u001b[1;33m.\u001b[0m\u001b[0mread_csv\u001b[0m\u001b[1;33m(\u001b[0m\u001b[1;34m'HTRU_2_con_header.csv'\u001b[0m\u001b[1;33m)\u001b[0m\u001b[1;33m\u001b[0m\u001b[0m\n\u001b[0m\u001b[0;32m      5\u001b[0m \u001b[1;32mexcept\u001b[0m\u001b[1;33m:\u001b[0m\u001b[1;33m\u001b[0m\u001b[0m\n",
      "\u001b[1;32mE:\\INSTALACIONES\\Anaconda\\lib\\site-packages\\pandas\\io\\parsers.py\u001b[0m in \u001b[0;36mparser_f\u001b[1;34m(filepath_or_buffer, sep, delimiter, header, names, index_col, usecols, squeeze, prefix, mangle_dupe_cols, dtype, engine, converters, true_values, false_values, skipinitialspace, skiprows, nrows, na_values, keep_default_na, na_filter, verbose, skip_blank_lines, parse_dates, infer_datetime_format, keep_date_col, date_parser, dayfirst, iterator, chunksize, compression, thousands, decimal, lineterminator, quotechar, quoting, escapechar, comment, encoding, dialect, tupleize_cols, error_bad_lines, warn_bad_lines, skipfooter, doublequote, delim_whitespace, low_memory, memory_map, float_precision)\u001b[0m\n\u001b[0;32m    677\u001b[0m \u001b[1;33m\u001b[0m\u001b[0m\n\u001b[1;32m--> 678\u001b[1;33m         \u001b[1;32mreturn\u001b[0m \u001b[0m_read\u001b[0m\u001b[1;33m(\u001b[0m\u001b[0mfilepath_or_buffer\u001b[0m\u001b[1;33m,\u001b[0m \u001b[0mkwds\u001b[0m\u001b[1;33m)\u001b[0m\u001b[1;33m\u001b[0m\u001b[0m\n\u001b[0m\u001b[0;32m    679\u001b[0m \u001b[1;33m\u001b[0m\u001b[0m\n",
      "\u001b[1;32mE:\\INSTALACIONES\\Anaconda\\lib\\site-packages\\pandas\\io\\parsers.py\u001b[0m in \u001b[0;36m_read\u001b[1;34m(filepath_or_buffer, kwds)\u001b[0m\n\u001b[0;32m    439\u001b[0m     \u001b[1;31m# Create the parser.\u001b[0m\u001b[1;33m\u001b[0m\u001b[1;33m\u001b[0m\u001b[0m\n\u001b[1;32m--> 440\u001b[1;33m     \u001b[0mparser\u001b[0m \u001b[1;33m=\u001b[0m \u001b[0mTextFileReader\u001b[0m\u001b[1;33m(\u001b[0m\u001b[0mfilepath_or_buffer\u001b[0m\u001b[1;33m,\u001b[0m \u001b[1;33m**\u001b[0m\u001b[0mkwds\u001b[0m\u001b[1;33m)\u001b[0m\u001b[1;33m\u001b[0m\u001b[0m\n\u001b[0m\u001b[0;32m    441\u001b[0m \u001b[1;33m\u001b[0m\u001b[0m\n",
      "\u001b[1;32mE:\\INSTALACIONES\\Anaconda\\lib\\site-packages\\pandas\\io\\parsers.py\u001b[0m in \u001b[0;36m__init__\u001b[1;34m(self, f, engine, **kwds)\u001b[0m\n\u001b[0;32m    786\u001b[0m \u001b[1;33m\u001b[0m\u001b[0m\n\u001b[1;32m--> 787\u001b[1;33m         \u001b[0mself\u001b[0m\u001b[1;33m.\u001b[0m\u001b[0m_make_engine\u001b[0m\u001b[1;33m(\u001b[0m\u001b[0mself\u001b[0m\u001b[1;33m.\u001b[0m\u001b[0mengine\u001b[0m\u001b[1;33m)\u001b[0m\u001b[1;33m\u001b[0m\u001b[0m\n\u001b[0m\u001b[0;32m    788\u001b[0m \u001b[1;33m\u001b[0m\u001b[0m\n",
      "\u001b[1;32mE:\\INSTALACIONES\\Anaconda\\lib\\site-packages\\pandas\\io\\parsers.py\u001b[0m in \u001b[0;36m_make_engine\u001b[1;34m(self, engine)\u001b[0m\n\u001b[0;32m   1013\u001b[0m         \u001b[1;32mif\u001b[0m \u001b[0mengine\u001b[0m \u001b[1;33m==\u001b[0m \u001b[1;34m'c'\u001b[0m\u001b[1;33m:\u001b[0m\u001b[1;33m\u001b[0m\u001b[0m\n\u001b[1;32m-> 1014\u001b[1;33m             \u001b[0mself\u001b[0m\u001b[1;33m.\u001b[0m\u001b[0m_engine\u001b[0m \u001b[1;33m=\u001b[0m \u001b[0mCParserWrapper\u001b[0m\u001b[1;33m(\u001b[0m\u001b[0mself\u001b[0m\u001b[1;33m.\u001b[0m\u001b[0mf\u001b[0m\u001b[1;33m,\u001b[0m \u001b[1;33m**\u001b[0m\u001b[0mself\u001b[0m\u001b[1;33m.\u001b[0m\u001b[0moptions\u001b[0m\u001b[1;33m)\u001b[0m\u001b[1;33m\u001b[0m\u001b[0m\n\u001b[0m\u001b[0;32m   1015\u001b[0m         \u001b[1;32melse\u001b[0m\u001b[1;33m:\u001b[0m\u001b[1;33m\u001b[0m\u001b[0m\n",
      "\u001b[1;32mE:\\INSTALACIONES\\Anaconda\\lib\\site-packages\\pandas\\io\\parsers.py\u001b[0m in \u001b[0;36m__init__\u001b[1;34m(self, src, **kwds)\u001b[0m\n\u001b[0;32m   1707\u001b[0m \u001b[1;33m\u001b[0m\u001b[0m\n\u001b[1;32m-> 1708\u001b[1;33m         \u001b[0mself\u001b[0m\u001b[1;33m.\u001b[0m\u001b[0m_reader\u001b[0m \u001b[1;33m=\u001b[0m \u001b[0mparsers\u001b[0m\u001b[1;33m.\u001b[0m\u001b[0mTextReader\u001b[0m\u001b[1;33m(\u001b[0m\u001b[0msrc\u001b[0m\u001b[1;33m,\u001b[0m \u001b[1;33m**\u001b[0m\u001b[0mkwds\u001b[0m\u001b[1;33m)\u001b[0m\u001b[1;33m\u001b[0m\u001b[0m\n\u001b[0m\u001b[0;32m   1709\u001b[0m \u001b[1;33m\u001b[0m\u001b[0m\n",
      "\u001b[1;32mpandas\\_libs\\parsers.pyx\u001b[0m in \u001b[0;36mpandas._libs.parsers.TextReader.__cinit__\u001b[1;34m()\u001b[0m\n",
      "\u001b[1;32mpandas\\_libs\\parsers.pyx\u001b[0m in \u001b[0;36mpandas._libs.parsers.TextReader._setup_parser_source\u001b[1;34m()\u001b[0m\n",
      "\u001b[1;31mFileNotFoundError\u001b[0m: File b'HTRU_2_con_header.csv' does not exist",
      "\nDuring handling of the above exception, another exception occurred:\n",
      "\u001b[1;31mFileNotFoundError\u001b[0m                         Traceback (most recent call last)",
      "\u001b[1;32m<ipython-input-2-8d5efd5b1f60>\u001b[0m in \u001b[0;36m<module>\u001b[1;34m()\u001b[0m\n\u001b[0;32m      9\u001b[0m   \u001b[0mhead\u001b[0m \u001b[1;33m=\u001b[0m \u001b[1;33m[\u001b[0m\u001b[1;34m'mean_IP'\u001b[0m\u001b[1;33m,\u001b[0m \u001b[1;34m'std_IP'\u001b[0m\u001b[1;33m,\u001b[0m\u001b[1;34m'kurt_IP'\u001b[0m\u001b[1;33m,\u001b[0m\u001b[1;34m'skew_IP'\u001b[0m\u001b[1;33m,\u001b[0m\u001b[1;34m'mean_DM'\u001b[0m\u001b[1;33m,\u001b[0m \u001b[1;34m'std_DM'\u001b[0m\u001b[1;33m,\u001b[0m\u001b[1;34m'kurt_DM'\u001b[0m\u001b[1;33m,\u001b[0m\u001b[1;34m'skew_DM'\u001b[0m\u001b[1;33m,\u001b[0m\u001b[1;34m'is_pulsar'\u001b[0m\u001b[1;33m]\u001b[0m\u001b[1;33m\u001b[0m\u001b[0m\n\u001b[0;32m     10\u001b[0m   \u001b[1;31m#Lectura de la data\u001b[0m\u001b[1;33m\u001b[0m\u001b[1;33m\u001b[0m\u001b[0m\n\u001b[1;32m---> 11\u001b[1;33m   \u001b[0mdata_pulsar\u001b[0m \u001b[1;33m=\u001b[0m \u001b[0mpd\u001b[0m\u001b[1;33m.\u001b[0m\u001b[0mread_csv\u001b[0m\u001b[1;33m(\u001b[0m\u001b[0mdir_str\u001b[0m\u001b[1;33m,\u001b[0m\u001b[0mheader\u001b[0m\u001b[1;33m=\u001b[0m\u001b[1;32mNone\u001b[0m\u001b[1;33m,\u001b[0m \u001b[0mnames\u001b[0m\u001b[1;33m=\u001b[0m\u001b[0mhead\u001b[0m\u001b[1;33m)\u001b[0m\u001b[1;33m\u001b[0m\u001b[0m\n\u001b[0m",
      "\u001b[1;32mE:\\INSTALACIONES\\Anaconda\\lib\\site-packages\\pandas\\io\\parsers.py\u001b[0m in \u001b[0;36mparser_f\u001b[1;34m(filepath_or_buffer, sep, delimiter, header, names, index_col, usecols, squeeze, prefix, mangle_dupe_cols, dtype, engine, converters, true_values, false_values, skipinitialspace, skiprows, nrows, na_values, keep_default_na, na_filter, verbose, skip_blank_lines, parse_dates, infer_datetime_format, keep_date_col, date_parser, dayfirst, iterator, chunksize, compression, thousands, decimal, lineterminator, quotechar, quoting, escapechar, comment, encoding, dialect, tupleize_cols, error_bad_lines, warn_bad_lines, skipfooter, doublequote, delim_whitespace, low_memory, memory_map, float_precision)\u001b[0m\n\u001b[0;32m    676\u001b[0m                     skip_blank_lines=skip_blank_lines)\n\u001b[0;32m    677\u001b[0m \u001b[1;33m\u001b[0m\u001b[0m\n\u001b[1;32m--> 678\u001b[1;33m         \u001b[1;32mreturn\u001b[0m \u001b[0m_read\u001b[0m\u001b[1;33m(\u001b[0m\u001b[0mfilepath_or_buffer\u001b[0m\u001b[1;33m,\u001b[0m \u001b[0mkwds\u001b[0m\u001b[1;33m)\u001b[0m\u001b[1;33m\u001b[0m\u001b[0m\n\u001b[0m\u001b[0;32m    679\u001b[0m \u001b[1;33m\u001b[0m\u001b[0m\n\u001b[0;32m    680\u001b[0m     \u001b[0mparser_f\u001b[0m\u001b[1;33m.\u001b[0m\u001b[0m__name__\u001b[0m \u001b[1;33m=\u001b[0m \u001b[0mname\u001b[0m\u001b[1;33m\u001b[0m\u001b[0m\n",
      "\u001b[1;32mE:\\INSTALACIONES\\Anaconda\\lib\\site-packages\\pandas\\io\\parsers.py\u001b[0m in \u001b[0;36m_read\u001b[1;34m(filepath_or_buffer, kwds)\u001b[0m\n\u001b[0;32m    438\u001b[0m \u001b[1;33m\u001b[0m\u001b[0m\n\u001b[0;32m    439\u001b[0m     \u001b[1;31m# Create the parser.\u001b[0m\u001b[1;33m\u001b[0m\u001b[1;33m\u001b[0m\u001b[0m\n\u001b[1;32m--> 440\u001b[1;33m     \u001b[0mparser\u001b[0m \u001b[1;33m=\u001b[0m \u001b[0mTextFileReader\u001b[0m\u001b[1;33m(\u001b[0m\u001b[0mfilepath_or_buffer\u001b[0m\u001b[1;33m,\u001b[0m \u001b[1;33m**\u001b[0m\u001b[0mkwds\u001b[0m\u001b[1;33m)\u001b[0m\u001b[1;33m\u001b[0m\u001b[0m\n\u001b[0m\u001b[0;32m    441\u001b[0m \u001b[1;33m\u001b[0m\u001b[0m\n\u001b[0;32m    442\u001b[0m     \u001b[1;32mif\u001b[0m \u001b[0mchunksize\u001b[0m \u001b[1;32mor\u001b[0m \u001b[0miterator\u001b[0m\u001b[1;33m:\u001b[0m\u001b[1;33m\u001b[0m\u001b[0m\n",
      "\u001b[1;32mE:\\INSTALACIONES\\Anaconda\\lib\\site-packages\\pandas\\io\\parsers.py\u001b[0m in \u001b[0;36m__init__\u001b[1;34m(self, f, engine, **kwds)\u001b[0m\n\u001b[0;32m    785\u001b[0m             \u001b[0mself\u001b[0m\u001b[1;33m.\u001b[0m\u001b[0moptions\u001b[0m\u001b[1;33m[\u001b[0m\u001b[1;34m'has_index_names'\u001b[0m\u001b[1;33m]\u001b[0m \u001b[1;33m=\u001b[0m \u001b[0mkwds\u001b[0m\u001b[1;33m[\u001b[0m\u001b[1;34m'has_index_names'\u001b[0m\u001b[1;33m]\u001b[0m\u001b[1;33m\u001b[0m\u001b[0m\n\u001b[0;32m    786\u001b[0m \u001b[1;33m\u001b[0m\u001b[0m\n\u001b[1;32m--> 787\u001b[1;33m         \u001b[0mself\u001b[0m\u001b[1;33m.\u001b[0m\u001b[0m_make_engine\u001b[0m\u001b[1;33m(\u001b[0m\u001b[0mself\u001b[0m\u001b[1;33m.\u001b[0m\u001b[0mengine\u001b[0m\u001b[1;33m)\u001b[0m\u001b[1;33m\u001b[0m\u001b[0m\n\u001b[0m\u001b[0;32m    788\u001b[0m \u001b[1;33m\u001b[0m\u001b[0m\n\u001b[0;32m    789\u001b[0m     \u001b[1;32mdef\u001b[0m \u001b[0mclose\u001b[0m\u001b[1;33m(\u001b[0m\u001b[0mself\u001b[0m\u001b[1;33m)\u001b[0m\u001b[1;33m:\u001b[0m\u001b[1;33m\u001b[0m\u001b[0m\n",
      "\u001b[1;32mE:\\INSTALACIONES\\Anaconda\\lib\\site-packages\\pandas\\io\\parsers.py\u001b[0m in \u001b[0;36m_make_engine\u001b[1;34m(self, engine)\u001b[0m\n\u001b[0;32m   1012\u001b[0m     \u001b[1;32mdef\u001b[0m \u001b[0m_make_engine\u001b[0m\u001b[1;33m(\u001b[0m\u001b[0mself\u001b[0m\u001b[1;33m,\u001b[0m \u001b[0mengine\u001b[0m\u001b[1;33m=\u001b[0m\u001b[1;34m'c'\u001b[0m\u001b[1;33m)\u001b[0m\u001b[1;33m:\u001b[0m\u001b[1;33m\u001b[0m\u001b[0m\n\u001b[0;32m   1013\u001b[0m         \u001b[1;32mif\u001b[0m \u001b[0mengine\u001b[0m \u001b[1;33m==\u001b[0m \u001b[1;34m'c'\u001b[0m\u001b[1;33m:\u001b[0m\u001b[1;33m\u001b[0m\u001b[0m\n\u001b[1;32m-> 1014\u001b[1;33m             \u001b[0mself\u001b[0m\u001b[1;33m.\u001b[0m\u001b[0m_engine\u001b[0m \u001b[1;33m=\u001b[0m \u001b[0mCParserWrapper\u001b[0m\u001b[1;33m(\u001b[0m\u001b[0mself\u001b[0m\u001b[1;33m.\u001b[0m\u001b[0mf\u001b[0m\u001b[1;33m,\u001b[0m \u001b[1;33m**\u001b[0m\u001b[0mself\u001b[0m\u001b[1;33m.\u001b[0m\u001b[0moptions\u001b[0m\u001b[1;33m)\u001b[0m\u001b[1;33m\u001b[0m\u001b[0m\n\u001b[0m\u001b[0;32m   1015\u001b[0m         \u001b[1;32melse\u001b[0m\u001b[1;33m:\u001b[0m\u001b[1;33m\u001b[0m\u001b[0m\n\u001b[0;32m   1016\u001b[0m             \u001b[1;32mif\u001b[0m \u001b[0mengine\u001b[0m \u001b[1;33m==\u001b[0m \u001b[1;34m'python'\u001b[0m\u001b[1;33m:\u001b[0m\u001b[1;33m\u001b[0m\u001b[0m\n",
      "\u001b[1;32mE:\\INSTALACIONES\\Anaconda\\lib\\site-packages\\pandas\\io\\parsers.py\u001b[0m in \u001b[0;36m__init__\u001b[1;34m(self, src, **kwds)\u001b[0m\n\u001b[0;32m   1706\u001b[0m         \u001b[0mkwds\u001b[0m\u001b[1;33m[\u001b[0m\u001b[1;34m'usecols'\u001b[0m\u001b[1;33m]\u001b[0m \u001b[1;33m=\u001b[0m \u001b[0mself\u001b[0m\u001b[1;33m.\u001b[0m\u001b[0musecols\u001b[0m\u001b[1;33m\u001b[0m\u001b[0m\n\u001b[0;32m   1707\u001b[0m \u001b[1;33m\u001b[0m\u001b[0m\n\u001b[1;32m-> 1708\u001b[1;33m         \u001b[0mself\u001b[0m\u001b[1;33m.\u001b[0m\u001b[0m_reader\u001b[0m \u001b[1;33m=\u001b[0m \u001b[0mparsers\u001b[0m\u001b[1;33m.\u001b[0m\u001b[0mTextReader\u001b[0m\u001b[1;33m(\u001b[0m\u001b[0msrc\u001b[0m\u001b[1;33m,\u001b[0m \u001b[1;33m**\u001b[0m\u001b[0mkwds\u001b[0m\u001b[1;33m)\u001b[0m\u001b[1;33m\u001b[0m\u001b[0m\n\u001b[0m\u001b[0;32m   1709\u001b[0m \u001b[1;33m\u001b[0m\u001b[0m\n\u001b[0;32m   1710\u001b[0m         \u001b[0mpassed_names\u001b[0m \u001b[1;33m=\u001b[0m \u001b[0mself\u001b[0m\u001b[1;33m.\u001b[0m\u001b[0mnames\u001b[0m \u001b[1;32mis\u001b[0m \u001b[1;32mNone\u001b[0m\u001b[1;33m\u001b[0m\u001b[0m\n",
      "\u001b[1;32mpandas\\_libs\\parsers.pyx\u001b[0m in \u001b[0;36mpandas._libs.parsers.TextReader.__cinit__\u001b[1;34m()\u001b[0m\n",
      "\u001b[1;32mpandas\\_libs\\parsers.pyx\u001b[0m in \u001b[0;36mpandas._libs.parsers.TextReader._setup_parser_source\u001b[1;34m()\u001b[0m\n",
      "\u001b[1;31mFileNotFoundError\u001b[0m: File b'drive/My Drive/CURSOS - MAESTRIA/APRENDIZAJE AUTOMA\\xcc\\x81TICO/MACHINE LEARNING - PROYECTO/ML_PULSAR_CLASSIFICATION_PROJECT/PREPROCESAMIENTO DE DATA/HTRU_2_sin_header.csv' does not exist"
     ]
    }
   ],
   "source": [
    "#Lectura de datos\n",
    "try:\n",
    "  #Caso en que se este usando jupyter notebooks\n",
    "  data_pulsar = pd.read_csv('HTRU_2_con_header.csv')\n",
    "except:\n",
    "  #Caso en que se use colab, cambiar directorio de acuerdo al drive\n",
    "  dir_str ='drive/My Drive/CURSOS - MAESTRIA/APRENDIZAJE AUTOMÁTICO/MACHINE LEARNING - PROYECTO/ML_PULSAR_CLASSIFICATION_PROJECT/PREPROCESAMIENTO DE DATA/HTRU_2_sin_header.csv'\n",
    "  #Se definen  los headers\n",
    "  head = ['mean_IP', 'std_IP','kurt_IP','skew_IP','mean_DM', 'std_DM','kurt_DM','skew_DM','is_pulsar']\n",
    "  #Lectura de la data\n",
    "  data_pulsar = pd.read_csv(dir_str,header=None, names=head)"
   ]
  },
  {
   "cell_type": "markdown",
   "metadata": {
    "colab_type": "text",
    "id": "Wr79epzz4PpF"
   },
   "source": [
    "# Aplicación de Algoritmos (Data Cruda)"
   ]
  },
  {
   "cell_type": "code",
   "execution_count": null,
   "metadata": {
    "colab": {},
    "colab_type": "code",
    "id": "hdI9CWCd6Ugi"
   },
   "outputs": [],
   "source": [
    "from sklearn.model_selection import train_test_split\n",
    "\n",
    "#Partición de la data cruda\n",
    "X = data_pulsar.drop(columns=[\"is_pulsar\"])\n",
    "y = data_pulsar[\"is_pulsar\"]\n",
    "\n",
    "X_trainval, X_test, y_trainval, y_test = train_test_split(X, y, test_size=0.15, random_state=0) #random_state = 0, para mantener la particion\n",
    "X_train, X_val, y_train, y_val = train_test_split(X_trainval, y_trainval, test_size=0.2, random_state=0)"
   ]
  },
  {
   "cell_type": "markdown",
   "metadata": {
    "colab_type": "text",
    "id": "dyufgveAZvyX"
   },
   "source": [
    "##1° Algorithm Test: Random Forest"
   ]
  },
  {
   "cell_type": "code",
   "execution_count": null,
   "metadata": {
    "colab": {
     "base_uri": "https://localhost:8080/",
     "height": 297
    },
    "colab_type": "code",
    "executionInfo": {
     "elapsed": 1273,
     "status": "ok",
     "timestamp": 1560013226105,
     "user": {
      "displayName": "José Guillermo Balbuena Galván",
      "photoUrl": "https://lh3.googleusercontent.com/-Nnerzu-V3hM/AAAAAAAAAAI/AAAAAAAAAH8/qC7cOL6JlC0/s64/photo.jpg",
      "userId": "13249900897807099447"
     },
     "user_tz": 300
    },
    "id": "RbBeLG1eZ1sj",
    "outputId": "04ea7ea7-5a80-4782-e414-2229363bac2c"
   },
   "outputs": [],
   "source": [
    "from sklearn.ensemble import RandomForestClassifier\n",
    "\n",
    "RF_model = RandomForestClassifier(n_estimators=100, max_depth=2, random_state=0)\n",
    "RF_model.fit(X_train, y_train)\n",
    "RF_y_pred = RF_model.predict(X_val)\n",
    "\n",
    "from sklearn.metrics import mean_squared_error\n",
    "RF_MSE =mean_squared_error(y_val, RF_y_pred)  \n",
    "print(RF_MSE)\n",
    "\n",
    "from sklearn.metrics import confusion_matrix\n",
    "RF_conf = confusion_matrix(y_val, RF_y_pred)\n",
    "\n",
    "sns.heatmap(RF_conf,annot=True, fmt=\"d\", cmap=\"coolwarm\");"
   ]
  },
  {
   "cell_type": "code",
   "execution_count": null,
   "metadata": {
    "colab": {
     "base_uri": "https://localhost:8080/",
     "height": 34
    },
    "colab_type": "code",
    "executionInfo": {
     "elapsed": 401,
     "status": "ok",
     "timestamp": 1560013228300,
     "user": {
      "displayName": "José Guillermo Balbuena Galván",
      "photoUrl": "https://lh3.googleusercontent.com/-Nnerzu-V3hM/AAAAAAAAAAI/AAAAAAAAAH8/qC7cOL6JlC0/s64/photo.jpg",
      "userId": "13249900897807099447"
     },
     "user_tz": 300
    },
    "id": "82wQ6kY99zDl",
    "outputId": "abb7df6f-7043-4c52-e8fb-55f0cfa1fb2b"
   },
   "outputs": [],
   "source": [
    "from sklearn.metrics import accuracy_score\n",
    "accuracy = accuracy_score(y_val, RF_y_pred)\n",
    "accuracy"
   ]
  },
  {
   "cell_type": "code",
   "execution_count": null,
   "metadata": {
    "colab": {
     "base_uri": "https://localhost:8080/",
     "height": 34
    },
    "colab_type": "code",
    "executionInfo": {
     "elapsed": 459,
     "status": "ok",
     "timestamp": 1560013229189,
     "user": {
      "displayName": "José Guillermo Balbuena Galván",
      "photoUrl": "https://lh3.googleusercontent.com/-Nnerzu-V3hM/AAAAAAAAAAI/AAAAAAAAAH8/qC7cOL6JlC0/s64/photo.jpg",
      "userId": "13249900897807099447"
     },
     "user_tz": 300
    },
    "id": "sfAGJRt8-OGx",
    "outputId": "253343fb-a45f-4c6e-9642-7983d069e5e3"
   },
   "outputs": [],
   "source": [
    "from sklearn.metrics import precision_score\n",
    "precision = precision_score(y_val, RF_y_pred)\n",
    "precision"
   ]
  },
  {
   "cell_type": "code",
   "execution_count": null,
   "metadata": {
    "colab": {
     "base_uri": "https://localhost:8080/",
     "height": 34
    },
    "colab_type": "code",
    "executionInfo": {
     "elapsed": 267,
     "status": "ok",
     "timestamp": 1560013229835,
     "user": {
      "displayName": "José Guillermo Balbuena Galván",
      "photoUrl": "https://lh3.googleusercontent.com/-Nnerzu-V3hM/AAAAAAAAAAI/AAAAAAAAAH8/qC7cOL6JlC0/s64/photo.jpg",
      "userId": "13249900897807099447"
     },
     "user_tz": 300
    },
    "id": "8zLZSisO-WiT",
    "outputId": "dfbb720f-68af-456e-9611-093bdce6de69"
   },
   "outputs": [],
   "source": [
    "from sklearn.metrics import recall_score\n",
    "recall = recall_score(y_val, RF_y_pred)\n",
    "recall"
   ]
  },
  {
   "cell_type": "code",
   "execution_count": null,
   "metadata": {
    "colab": {
     "base_uri": "https://localhost:8080/",
     "height": 34
    },
    "colab_type": "code",
    "executionInfo": {
     "elapsed": 547,
     "status": "ok",
     "timestamp": 1560013231185,
     "user": {
      "displayName": "José Guillermo Balbuena Galván",
      "photoUrl": "https://lh3.googleusercontent.com/-Nnerzu-V3hM/AAAAAAAAAAI/AAAAAAAAAH8/qC7cOL6JlC0/s64/photo.jpg",
      "userId": "13249900897807099447"
     },
     "user_tz": 300
    },
    "id": "gC2BqTsB-w0E",
    "outputId": "2c113597-b804-42ce-d1f8-904b50048528"
   },
   "outputs": [],
   "source": [
    "from sklearn.metrics import f1_score\n",
    "f1score = f1_score(y_val, RF_y_pred)\n",
    "f1score"
   ]
  },
  {
   "cell_type": "markdown",
   "metadata": {
    "colab_type": "text",
    "id": "wJkNiVIm0_WK"
   },
   "source": [
    "##2° Algorithm Test: SVM"
   ]
  },
  {
   "cell_type": "code",
   "execution_count": null,
   "metadata": {
    "colab": {
     "base_uri": "https://localhost:8080/",
     "height": 297
    },
    "colab_type": "code",
    "executionInfo": {
     "elapsed": 17998,
     "status": "ok",
     "timestamp": 1560013251249,
     "user": {
      "displayName": "José Guillermo Balbuena Galván",
      "photoUrl": "https://lh3.googleusercontent.com/-Nnerzu-V3hM/AAAAAAAAAAI/AAAAAAAAAH8/qC7cOL6JlC0/s64/photo.jpg",
      "userId": "13249900897807099447"
     },
     "user_tz": 300
    },
    "id": "tEqTySan1FZK",
    "outputId": "4dadedcb-1e74-4ab8-a4bd-af03475b162a"
   },
   "outputs": [],
   "source": [
    "from sklearn.svm import SVC\n",
    "\n",
    "SVM_model = SVC(gamma='auto',kernel='rbf')\n",
    "SVM_model.fit(X_train, y_train) \n",
    "SVM_y_pred = SVM_model.predict(X_val)\n",
    "\n",
    "from sklearn.metrics import mean_squared_error\n",
    "SVM_MSE = mean_squared_error(y_val, SVM_y_pred)  \n",
    "print(SVM_MSE)\n",
    "\n",
    "from sklearn.metrics import confusion_matrix\n",
    "SVM_conf = confusion_matrix(y_val, SVM_y_pred)\n",
    "\n",
    "sns.heatmap(SVM_conf,annot=True, fmt=\"d\", cmap=\"coolwarm\");"
   ]
  },
  {
   "cell_type": "code",
   "execution_count": null,
   "metadata": {
    "colab": {
     "base_uri": "https://localhost:8080/",
     "height": 34
    },
    "colab_type": "code",
    "executionInfo": {
     "elapsed": 452,
     "status": "ok",
     "timestamp": 1560012691600,
     "user": {
      "displayName": "José Guillermo Balbuena Galván",
      "photoUrl": "https://lh3.googleusercontent.com/-Nnerzu-V3hM/AAAAAAAAAAI/AAAAAAAAAH8/qC7cOL6JlC0/s64/photo.jpg",
      "userId": "13249900897807099447"
     },
     "user_tz": 300
    },
    "id": "E4KL-4Qt_QlK",
    "outputId": "2da742ce-a69c-4434-c559-7c951744bd7a"
   },
   "outputs": [],
   "source": [
    "from sklearn.metrics import accuracy_score\n",
    "accuracy = accuracy_score(y_val, SVM_y_pred)\n",
    "accuracy"
   ]
  },
  {
   "cell_type": "code",
   "execution_count": null,
   "metadata": {
    "colab": {
     "base_uri": "https://localhost:8080/",
     "height": 34
    },
    "colab_type": "code",
    "executionInfo": {
     "elapsed": 616,
     "status": "ok",
     "timestamp": 1560012693455,
     "user": {
      "displayName": "José Guillermo Balbuena Galván",
      "photoUrl": "https://lh3.googleusercontent.com/-Nnerzu-V3hM/AAAAAAAAAAI/AAAAAAAAAH8/qC7cOL6JlC0/s64/photo.jpg",
      "userId": "13249900897807099447"
     },
     "user_tz": 300
    },
    "id": "YSaEw3KG_VeE",
    "outputId": "c5119d21-1d16-4bd2-8ee7-3c61a79213fd"
   },
   "outputs": [],
   "source": [
    "from sklearn.metrics import precision_score\n",
    "precision = precision_score(y_val, SVM_y_pred)\n",
    "precision"
   ]
  },
  {
   "cell_type": "code",
   "execution_count": null,
   "metadata": {
    "colab": {
     "base_uri": "https://localhost:8080/",
     "height": 34
    },
    "colab_type": "code",
    "executionInfo": {
     "elapsed": 594,
     "status": "ok",
     "timestamp": 1560012695646,
     "user": {
      "displayName": "José Guillermo Balbuena Galván",
      "photoUrl": "https://lh3.googleusercontent.com/-Nnerzu-V3hM/AAAAAAAAAAI/AAAAAAAAAH8/qC7cOL6JlC0/s64/photo.jpg",
      "userId": "13249900897807099447"
     },
     "user_tz": 300
    },
    "id": "k2SeC90W_aHx",
    "outputId": "1375be77-57c1-4487-8557-3b75521d8032"
   },
   "outputs": [],
   "source": [
    "from sklearn.metrics import recall_score\n",
    "recall = recall_score(y_val, SVM_y_pred)\n",
    "recall"
   ]
  },
  {
   "cell_type": "code",
   "execution_count": null,
   "metadata": {
    "colab": {
     "base_uri": "https://localhost:8080/",
     "height": 34
    },
    "colab_type": "code",
    "executionInfo": {
     "elapsed": 424,
     "status": "ok",
     "timestamp": 1560012698558,
     "user": {
      "displayName": "José Guillermo Balbuena Galván",
      "photoUrl": "https://lh3.googleusercontent.com/-Nnerzu-V3hM/AAAAAAAAAAI/AAAAAAAAAH8/qC7cOL6JlC0/s64/photo.jpg",
      "userId": "13249900897807099447"
     },
     "user_tz": 300
    },
    "id": "LN53yZOx_ehv",
    "outputId": "e2f46b8f-e154-4019-f7a4-da4c29acd185"
   },
   "outputs": [],
   "source": [
    "from sklearn.metrics import f1_score\n",
    "f1score = f1_score(y_val, SVM_y_pred)\n",
    "f1score"
   ]
  },
  {
   "cell_type": "markdown",
   "metadata": {
    "colab_type": "text",
    "id": "nTQ5qGslA2a2"
   },
   "source": [
    "##3° Algorithm Test: KNN"
   ]
  },
  {
   "cell_type": "code",
   "execution_count": null,
   "metadata": {
    "colab": {
     "base_uri": "https://localhost:8080/",
     "height": 297
    },
    "colab_type": "code",
    "executionInfo": {
     "elapsed": 1068,
     "status": "ok",
     "timestamp": 1560014780754,
     "user": {
      "displayName": "José Guillermo Balbuena Galván",
      "photoUrl": "https://lh3.googleusercontent.com/-Nnerzu-V3hM/AAAAAAAAAAI/AAAAAAAAAH8/qC7cOL6JlC0/s64/photo.jpg",
      "userId": "13249900897807099447"
     },
     "user_tz": 300
    },
    "id": "mWIO7WilBBrj",
    "outputId": "be4bf425-72ea-43f9-e243-7c74b4188384"
   },
   "outputs": [],
   "source": [
    "from sklearn.neighbors import KNeighborsClassifier\n",
    "\n",
    "KNN_model = KNeighborsClassifier(n_neighbors=5)\n",
    "KNN_model.fit(X_train, y_train) \n",
    "KNN_y_pred = KNN_model.predict(X_val)\n",
    "\n",
    "from sklearn.metrics import mean_squared_error\n",
    "KNN_MSE = mean_squared_error(y_val, KNN_y_pred)  \n",
    "print(KNN_MSE)\n",
    "\n",
    "from sklearn.metrics import confusion_matrix\n",
    "KNN_conf = confusion_matrix(y_val, KNN_y_pred)\n",
    "\n",
    "sns.heatmap(KNN_conf,annot=True, fmt=\"d\", cmap=\"coolwarm\");"
   ]
  },
  {
   "cell_type": "code",
   "execution_count": null,
   "metadata": {
    "colab": {
     "base_uri": "https://localhost:8080/",
     "height": 34
    },
    "colab_type": "code",
    "executionInfo": {
     "elapsed": 566,
     "status": "ok",
     "timestamp": 1560014823771,
     "user": {
      "displayName": "José Guillermo Balbuena Galván",
      "photoUrl": "https://lh3.googleusercontent.com/-Nnerzu-V3hM/AAAAAAAAAAI/AAAAAAAAAH8/qC7cOL6JlC0/s64/photo.jpg",
      "userId": "13249900897807099447"
     },
     "user_tz": 300
    },
    "id": "LhuVlCmeIKNd",
    "outputId": "891062f4-a838-4f77-d26c-be7e8e323bd7"
   },
   "outputs": [],
   "source": [
    "from sklearn.metrics import accuracy_score\n",
    "accuracy = accuracy_score(y_val, KNN_y_pred)\n",
    "accuracy"
   ]
  },
  {
   "cell_type": "code",
   "execution_count": null,
   "metadata": {
    "colab": {
     "base_uri": "https://localhost:8080/",
     "height": 34
    },
    "colab_type": "code",
    "executionInfo": {
     "elapsed": 468,
     "status": "ok",
     "timestamp": 1560014820953,
     "user": {
      "displayName": "José Guillermo Balbuena Galván",
      "photoUrl": "https://lh3.googleusercontent.com/-Nnerzu-V3hM/AAAAAAAAAAI/AAAAAAAAAH8/qC7cOL6JlC0/s64/photo.jpg",
      "userId": "13249900897807099447"
     },
     "user_tz": 300
    },
    "id": "wqIEhf1TIMsK",
    "outputId": "5beadd64-bffb-4f24-a504-62cb0519619f"
   },
   "outputs": [],
   "source": [
    "from sklearn.metrics import precision_score\n",
    "precision = precision_score(y_val, KNN_y_pred)\n",
    "precision"
   ]
  },
  {
   "cell_type": "code",
   "execution_count": null,
   "metadata": {
    "colab": {
     "base_uri": "https://localhost:8080/",
     "height": 34
    },
    "colab_type": "code",
    "executionInfo": {
     "elapsed": 513,
     "status": "ok",
     "timestamp": 1560014837241,
     "user": {
      "displayName": "José Guillermo Balbuena Galván",
      "photoUrl": "https://lh3.googleusercontent.com/-Nnerzu-V3hM/AAAAAAAAAAI/AAAAAAAAAH8/qC7cOL6JlC0/s64/photo.jpg",
      "userId": "13249900897807099447"
     },
     "user_tz": 300
    },
    "id": "ihzm3B-QINOJ",
    "outputId": "231efe53-0fcb-4a65-c785-ff04cc3bab1a"
   },
   "outputs": [],
   "source": [
    "from sklearn.metrics import recall_score\n",
    "recall = recall_score(y_val, KNN_y_pred)\n",
    "recall"
   ]
  },
  {
   "cell_type": "code",
   "execution_count": null,
   "metadata": {
    "colab": {
     "base_uri": "https://localhost:8080/",
     "height": 34
    },
    "colab_type": "code",
    "executionInfo": {
     "elapsed": 465,
     "status": "ok",
     "timestamp": 1560014859179,
     "user": {
      "displayName": "José Guillermo Balbuena Galván",
      "photoUrl": "https://lh3.googleusercontent.com/-Nnerzu-V3hM/AAAAAAAAAAI/AAAAAAAAAH8/qC7cOL6JlC0/s64/photo.jpg",
      "userId": "13249900897807099447"
     },
     "user_tz": 300
    },
    "id": "XKiJD5daIW2u",
    "outputId": "81208943-0d21-4269-de41-408de93149b3"
   },
   "outputs": [],
   "source": [
    "from sklearn.metrics import f1_score\n",
    "f1score = f1_score(y_val, KNN_y_pred)\n",
    "f1score"
   ]
  },
  {
   "cell_type": "markdown",
   "metadata": {
    "colab_type": "text",
    "id": "A_Q8pZPRaDW3"
   },
   "source": [
    "# Preprocesamiento de la Data"
   ]
  },
  {
   "cell_type": "markdown",
   "metadata": {
    "colab_type": "text",
    "id": "ufuPbprh9ChU"
   },
   "source": [
    "## Escalamiento de la data"
   ]
  },
  {
   "cell_type": "code",
   "execution_count": null,
   "metadata": {
    "colab": {},
    "colab_type": "code",
    "id": "jrkSQjWE6b6q"
   },
   "outputs": [],
   "source": [
    "#Escalamiento \n",
    "from sklearn.preprocessing import MinMaxScaler\n",
    "\n",
    "scaler = MinMaxScaler()\n",
    "scaler.fit(data_pulsar)\n",
    "data_pulsar_scaled = pd.DataFrame(scaler.transform(data_pulsar), columns = head)\n",
    "data_pulsar_scaled.describe()\n",
    "\n",
    "#Partición de la data escalada\n",
    "X_sca = data_pulsar_scaled.drop(columns=[\"is_pulsar\"])\n",
    "y_sca = data_pulsar_scaled[\"is_pulsar\"]\n",
    "\n",
    "X_trainval_sca, X_test_sca, y_trainval_sca, y_test_sca = train_test_split(X_sca, y_sca, test_size=0.15, random_state=0) #random_state = 0, para mantener la particion\n",
    "X_train_sca, X_val_sca, y_train_sca, y_val_sca = train_test_split(X_trainval_sca, y_trainval_sca, test_size=0.2, random_state=0)\n"
   ]
  },
  {
   "cell_type": "markdown",
   "metadata": {
    "colab_type": "text",
    "id": "xt7Pq9UJ49Qz"
   },
   "source": [
    "## Aplicación de SVMSMOTE"
   ]
  },
  {
   "cell_type": "code",
   "execution_count": null,
   "metadata": {
    "colab": {
     "base_uri": "https://localhost:8080/",
     "height": 67
    },
    "colab_type": "code",
    "executionInfo": {
     "elapsed": 473,
     "status": "ok",
     "timestamp": 1560011306852,
     "user": {
      "displayName": "José Guillermo Balbuena Galván",
      "photoUrl": "https://lh3.googleusercontent.com/-Nnerzu-V3hM/AAAAAAAAAAI/AAAAAAAAAH8/qC7cOL6JlC0/s64/photo.jpg",
      "userId": "13249900897807099447"
     },
     "user_tz": 300
    },
    "id": "XELoZXyD6hJk",
    "outputId": "51dc3f1a-0db8-451a-8d55-30e6f9111ac3"
   },
   "outputs": [],
   "source": [
    "#Antes de aplicar SMOTE\n",
    "y_train_sca.value_counts()"
   ]
  },
  {
   "cell_type": "code",
   "execution_count": null,
   "metadata": {
    "colab": {},
    "colab_type": "code",
    "id": "8VHaZilY5ZX6"
   },
   "outputs": [],
   "source": [
    "#https://imbalanced-learn.readthedocs.io/en/latest/generated/imblearn.over_sampling.SVMSMOTE.html#r88acb9955f91-2\n",
    "from collections import Counter\n",
    "from imblearn.over_sampling import SVMSMOTE\n",
    "smt = SVMSMOTE()\n",
    "X_sm_train, y_sm_train = smt.fit_resample(X_train_sca, y_train_sca)\n"
   ]
  },
  {
   "cell_type": "code",
   "execution_count": null,
   "metadata": {
    "colab": {
     "base_uri": "https://localhost:8080/",
     "height": 34
    },
    "colab_type": "code",
    "executionInfo": {
     "elapsed": 459,
     "status": "ok",
     "timestamp": 1560011937784,
     "user": {
      "displayName": "José Guillermo Balbuena Galván",
      "photoUrl": "https://lh3.googleusercontent.com/-Nnerzu-V3hM/AAAAAAAAAAI/AAAAAAAAAH8/qC7cOL6JlC0/s64/photo.jpg",
      "userId": "13249900897807099447"
     },
     "user_tz": 300
    },
    "id": "CglOALsv7Eqq",
    "outputId": "493f5b9a-1066-4da9-af3e-ccbd2b3ef5fc"
   },
   "outputs": [],
   "source": [
    "print('Tamaño de la data remuestrada: %s' % Counter(y_sm_train))"
   ]
  },
  {
   "cell_type": "code",
   "execution_count": null,
   "metadata": {},
   "outputs": [],
   "source": []
  },
  {
   "cell_type": "code",
   "execution_count": null,
   "metadata": {},
   "outputs": [],
   "source": []
  },
  {
   "cell_type": "code",
   "execution_count": null,
   "metadata": {},
   "outputs": [],
   "source": []
  },
  {
   "cell_type": "code",
   "execution_count": null,
   "metadata": {},
   "outputs": [],
   "source": []
  }
 ],
 "metadata": {
  "accelerator": "GPU",
  "colab": {
   "collapsed_sections": [
    "dyufgveAZvyX",
    "wJkNiVIm0_WK",
    "nTQ5qGslA2a2"
   ],
   "name": "SMOTE.ipynb",
   "provenance": [],
   "toc_visible": true,
   "version": "0.3.2"
  },
  "kernelspec": {
   "display_name": "Python 3",
   "language": "python",
   "name": "python3"
  },
  "language_info": {
   "codemirror_mode": {
    "name": "ipython",
    "version": 3
   },
   "file_extension": ".py",
   "mimetype": "text/x-python",
   "name": "python",
   "nbconvert_exporter": "python",
   "pygments_lexer": "ipython3",
   "version": "3.7.0"
  }
 },
 "nbformat": 4,
 "nbformat_minor": 1
}

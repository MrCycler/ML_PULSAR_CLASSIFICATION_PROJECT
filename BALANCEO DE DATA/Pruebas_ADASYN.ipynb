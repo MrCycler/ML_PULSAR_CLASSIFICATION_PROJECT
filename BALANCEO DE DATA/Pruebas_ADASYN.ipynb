{
  "nbformat": 4,
  "nbformat_minor": 0,
  "metadata": {
    "colab": {
      "name": "Pruebas ADASYN.ipynb",
      "version": "0.3.2",
      "provenance": [],
      "collapsed_sections": []
    },
    "kernelspec": {
      "name": "python3",
      "display_name": "Python 3"
    }
  },
  "cells": [
    {
      "cell_type": "code",
      "metadata": {
        "id": "GwKl3qKKVYlx",
        "colab_type": "code",
        "colab": {}
      },
      "source": [
        "#Importación de librerías\n",
        "try:\n",
        "  \n",
        "  #Para usar colab\n",
        "  from google.colab import drive\n",
        "  drive.mount('/content/drive')\n",
        "  \n",
        "  import numpy as np\n",
        "  import pandas as pd\n",
        "  \n",
        "except:\n",
        "  \n",
        "  import numpy as np\n",
        "  import pandas as pd\n",
        "\n",
        "import matplotlib.pyplot as plt\n",
        "plt.style.use('classic')\n",
        "%matplotlib inline\n",
        "\n",
        "import seaborn as sns\n",
        "sns.set()"
      ],
      "execution_count": 0,
      "outputs": []
    },
    {
      "cell_type": "code",
      "metadata": {
        "id": "S7fwN43CWYcv",
        "colab_type": "code",
        "colab": {}
      },
      "source": [
        "#Lectura de datos\n",
        "try:\n",
        "  #Caso en que se este usando jupyter notebooks\n",
        "  data_pulsar = pd.read_csv('HTRU_2_con_header.csv')\n",
        "  head = ['mean_IP', 'std_IP','kurt_IP','skew_IP','mean_DM', 'std_DM','kurt_DM','skew_DM','is_pulsar']\n",
        "except:\n",
        "  #Caso en que se use colab, cambiar directorio de acuerdo al drive\n",
        "  dir_str ='drive/My Drive/CURSOS - MAESTRIA/APRENDIZAJE AUTOMÁTICO/MACHINE LEARNING - PROYECTO/ML_PULSAR_CLASSIFICATION_PROJECT/PREPROCESAMIENTO DE DATA/HTRU_2_sin_header.csv'\n",
        "  #Se definen  los headers\n",
        "  head = ['mean_IP', 'std_IP','kurt_IP','skew_IP','mean_DM', 'std_DM','kurt_DM','skew_DM','is_pulsar']\n",
        "  #Lectura de la data\n",
        "  data_pulsar = pd.read_csv(dir_str,header=None, names=head)"
      ],
      "execution_count": 0,
      "outputs": []
    },
    {
      "cell_type": "code",
      "metadata": {
        "id": "fsAc3KxZYNqH",
        "colab_type": "code",
        "colab": {}
      },
      "source": [
        "from sklearn.model_selection import train_test_split\n",
        "\n",
        "#Partición de la data cruda\n",
        "X = data_pulsar.drop(columns=[\"is_pulsar\"])\n",
        "y = data_pulsar[\"is_pulsar\"]\n",
        "\n",
        "X_trainval, X_test, y_trainval, y_test = train_test_split(X, y, test_size=0.15, random_state=0) #random_state = 0, para mantener la particion\n",
        "X_train, X_val, y_train, y_val = train_test_split(X_trainval, y_trainval, test_size=0.2, random_state=0)"
      ],
      "execution_count": 0,
      "outputs": []
    },
    {
      "cell_type": "markdown",
      "metadata": {
        "id": "eJ-VOAf3XMY1",
        "colab_type": "text"
      },
      "source": [
        "## **Escalamiento de la data**"
      ]
    },
    {
      "cell_type": "code",
      "metadata": {
        "id": "IGPjPUfmXLrF",
        "colab_type": "code",
        "colab": {}
      },
      "source": [
        "#Escalamiento \n",
        "from sklearn.preprocessing import MinMaxScaler\n",
        "\n",
        "scaler = MinMaxScaler()\n",
        "scaler.fit(data_pulsar)\n",
        "data_pulsar_scaled = pd.DataFrame(scaler.transform(data_pulsar), columns = head)\n",
        "data_pulsar_scaled.describe()\n",
        "\n",
        "#Partición de la data escalada\n",
        "X_sca = data_pulsar_scaled.drop(columns=[\"is_pulsar\"])\n",
        "y_sca = data_pulsar_scaled[\"is_pulsar\"]\n",
        "\n",
        "X_trainval_sca, X_test_sca, y_trainval_sca, y_test_sca = train_test_split(X_sca, y_sca, test_size=0.15, random_state=0) #random_state = 0, para mantener la particion\n",
        "X_train_sca, X_val_sca, y_train_sca, y_val_sca = train_test_split(X_trainval_sca, y_trainval_sca, test_size=0.2, random_state=0)"
      ],
      "execution_count": 0,
      "outputs": []
    },
    {
      "cell_type": "markdown",
      "metadata": {
        "id": "FEE04gwCW_Vz",
        "colab_type": "text"
      },
      "source": [
        "## **APLICACIÓN DE ADASYN** "
      ]
    },
    {
      "cell_type": "code",
      "metadata": {
        "id": "6MweRhjBXIzq",
        "colab_type": "code",
        "colab": {
          "base_uri": "https://localhost:8080/",
          "height": 68
        },
        "outputId": "7963f780-67f0-4973-94f8-f8f12fec346f"
      },
      "source": [
        "#Antes de aplicar ADASYN \n",
        "y_train.value_counts()\n",
        "y_train_sca.value_counts()"
      ],
      "execution_count": 18,
      "outputs": [
        {
          "output_type": "execute_result",
          "data": {
            "text/plain": [
              "0.0    11020\n",
              "1.0     1150\n",
              "Name: is_pulsar, dtype: int64"
            ]
          },
          "metadata": {
            "tags": []
          },
          "execution_count": 18
        }
      ]
    },
    {
      "cell_type": "code",
      "metadata": {
        "id": "i22ARb_3ZvFW",
        "colab_type": "code",
        "colab": {}
      },
      "source": [
        "#https://imbalanced-learn.readthedocs.io/en/latest/generated/imblearn.over_sampling.SVMSMOTE.html#r88acb9955f91-2\n",
        "from collections import Counter\n",
        "from imblearn.over_sampling import SVMSMOTE\n",
        "smt = SVMSMOTE()\n",
        "X_sm_train, y_sm_train = smt.fit_resample(X_train_sca, y_train_sca)"
      ],
      "execution_count": 0,
      "outputs": []
    },
    {
      "cell_type": "markdown",
      "metadata": {
        "id": "umUU-YrvY_Vu",
        "colab_type": "text"
      },
      "source": [
        "# **1° Prueba de algoritmo: Random Forest**"
      ]
    },
    {
      "cell_type": "code",
      "metadata": {
        "id": "uQIYLxZfZihF",
        "colab_type": "code",
        "colab": {}
      },
      "source": [
        ""
      ],
      "execution_count": 0,
      "outputs": []
    },
    {
      "cell_type": "code",
      "metadata": {
        "id": "GrXOjsE-Zie0",
        "colab_type": "code",
        "colab": {}
      },
      "source": [
        ""
      ],
      "execution_count": 0,
      "outputs": []
    }
  ]
}